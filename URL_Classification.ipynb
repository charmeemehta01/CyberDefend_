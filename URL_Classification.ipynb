{
  "cells": [
    {
      "cell_type": "markdown",
      "metadata": {
        "id": "I2SRj8g6rtbw"
      },
      "source": [
        "# CyberDefend : URL Classifier"
      ]
    },
    {
      "cell_type": "code",
      "source": [
        "from google.colab import drive\n",
        "drive.mount('/content/drive')"
      ],
      "metadata": {
        "colab": {
          "base_uri": "https://localhost:8080/"
        },
        "id": "qlVt-ZhfEo__",
        "outputId": "8b9e9be4-1765-4533-ec6b-3fe969a3e9c9"
      },
      "execution_count": 1,
      "outputs": [
        {
          "output_type": "stream",
          "name": "stdout",
          "text": [
            "Mounted at /content/drive\n"
          ]
        }
      ]
    },
    {
      "cell_type": "code",
      "execution_count": 2,
      "metadata": {
        "colab": {
          "base_uri": "https://localhost:8080/"
        },
        "id": "OFhnhoyjrdSM",
        "outputId": "f4b31208-f352-4fd6-eb7b-37f80f7cd82b"
      },
      "outputs": [
        {
          "output_type": "stream",
          "name": "stdout",
          "text": [
            "Collecting python-whois\n",
            "  Downloading python-whois-0.7.3.tar.gz (91 kB)\n",
            "\u001b[?25l\r\u001b[K     |███▋                            | 10 kB 28.0 MB/s eta 0:00:01\r\u001b[K     |███████▏                        | 20 kB 19.9 MB/s eta 0:00:01\r\u001b[K     |██████████▊                     | 30 kB 15.1 MB/s eta 0:00:01\r\u001b[K     |██████████████▎                 | 40 kB 13.8 MB/s eta 0:00:01\r\u001b[K     |██████████████████              | 51 kB 7.3 MB/s eta 0:00:01\r\u001b[K     |█████████████████████▌          | 61 kB 8.6 MB/s eta 0:00:01\r\u001b[K     |█████████████████████████       | 71 kB 7.5 MB/s eta 0:00:01\r\u001b[K     |████████████████████████████▋   | 81 kB 8.4 MB/s eta 0:00:01\r\u001b[K     |████████████████████████████████| 91 kB 5.9 MB/s \n",
            "\u001b[?25hRequirement already satisfied: future in /usr/local/lib/python3.7/dist-packages (from python-whois) (0.16.0)\n",
            "Building wheels for collected packages: python-whois\n",
            "  Building wheel for python-whois (setup.py) ... \u001b[?25l\u001b[?25hdone\n",
            "  Created wheel for python-whois: filename=python_whois-0.7.3-py3-none-any.whl size=87720 sha256=fee014f1d01a2c7b55e2c3e0486b84d89bf332885c002a15ca6ba752ed6b96fc\n",
            "  Stored in directory: /root/.cache/pip/wheels/11/05/f7/895ce5a73665f77c8274a7d55e34fb3e6b4abbb9a7637e215b\n",
            "Successfully built python-whois\n",
            "Installing collected packages: python-whois\n",
            "Successfully installed python-whois-0.7.3\n"
          ]
        }
      ],
      "source": [
        "pip install python-whois"
      ]
    },
    {
      "cell_type": "code",
      "execution_count": 3,
      "metadata": {
        "id": "b9DxsW1YQe0g"
      },
      "outputs": [],
      "source": [
        "# importing required packages for this section\n",
        "import pickle\n",
        "import pandas as pd\n",
        "import numpy as np\n",
        "import numpy\n",
        "import tensorflow as tf\n",
        "from tensorflow import keras\n",
        "from sklearn.preprocessing import MinMaxScaler\n",
        "from sklearn.metrics import confusion_matrix\n",
        "import matplotlib.pyplot as plt\n",
        "import seaborn as sns\n",
        "from urllib.parse import urlparse,urlencode, parse_qs\n",
        "import ipaddress\n",
        "import re\n",
        "import re\n",
        "from bs4 import BeautifulSoup\n",
        "import whois\n",
        "import urllib\n",
        "import urllib.request\n",
        "from datetime import datetime\n",
        "import requests\n",
        "from collections import Counter\n",
        "from math import log\n"
      ]
    },
    {
      "cell_type": "code",
      "source": [
        "!pip install scikit-learn==0.24.2"
      ],
      "metadata": {
        "colab": {
          "base_uri": "https://localhost:8080/",
          "height": 329
        },
        "id": "L4b4vtYtis8G",
        "outputId": "fc4e769e-68ff-44e4-d07c-5c98b4098880"
      },
      "execution_count": 4,
      "outputs": [
        {
          "output_type": "stream",
          "name": "stdout",
          "text": [
            "Collecting scikit-learn==0.24.2\n",
            "  Downloading scikit_learn-0.24.2-cp37-cp37m-manylinux2010_x86_64.whl (22.3 MB)\n",
            "\u001b[K     |████████████████████████████████| 22.3 MB 1.1 MB/s \n",
            "\u001b[?25hRequirement already satisfied: threadpoolctl>=2.0.0 in /usr/local/lib/python3.7/dist-packages (from scikit-learn==0.24.2) (3.1.0)\n",
            "Requirement already satisfied: joblib>=0.11 in /usr/local/lib/python3.7/dist-packages (from scikit-learn==0.24.2) (1.1.0)\n",
            "Requirement already satisfied: numpy>=1.13.3 in /usr/local/lib/python3.7/dist-packages (from scikit-learn==0.24.2) (1.21.5)\n",
            "Requirement already satisfied: scipy>=0.19.1 in /usr/local/lib/python3.7/dist-packages (from scikit-learn==0.24.2) (1.4.1)\n",
            "Installing collected packages: scikit-learn\n",
            "  Attempting uninstall: scikit-learn\n",
            "    Found existing installation: scikit-learn 1.0.2\n",
            "    Uninstalling scikit-learn-1.0.2:\n",
            "      Successfully uninstalled scikit-learn-1.0.2\n",
            "Successfully installed scikit-learn-0.24.2\n"
          ]
        },
        {
          "output_type": "display_data",
          "data": {
            "application/vnd.colab-display-data+json": {
              "pip_warning": {
                "packages": [
                  "sklearn"
                ]
              }
            }
          },
          "metadata": {}
        }
      ]
    },
    {
      "cell_type": "markdown",
      "metadata": {
        "id": "6CTXDQ3CsHXz"
      },
      "source": [
        "Reading Extracted Features from the CSV files and Prepraing the Dataset"
      ]
    },
    {
      "cell_type": "code",
      "execution_count": 5,
      "metadata": {
        "id": "m8FC8WRxQfpO"
      },
      "outputs": [],
      "source": [
        "safe=pd.read_csv(\"/content/drive/MyDrive/Datasets/safe_Features_final.csv\")\n",
        "spam=pd.read_csv(\"/content/drive/MyDrive/Datasets/spam_Features_final.csv\")\n",
        "phish=pd.read_csv(\"/content/drive/MyDrive/Datasets/Phishing_Features_Final.csv\")\n",
        "malw=pd.read_csv(\"/content/drive/MyDrive/Datasets/Malware_Features_Final.csv\")"
      ]
    },
    {
      "cell_type": "code",
      "execution_count": 6,
      "metadata": {
        "colab": {
          "base_uri": "https://localhost:8080/"
        },
        "id": "sfx8ijpJC0Zk",
        "outputId": "640532db-dbf3-4d4f-f35a-31c1f6e2f5d0"
      },
      "outputs": [
        {
          "output_type": "execute_result",
          "data": {
            "text/plain": [
              "(11500, 30)"
            ]
          },
          "metadata": {},
          "execution_count": 6
        }
      ],
      "source": [
        "phish.shape"
      ]
    },
    {
      "cell_type": "code",
      "execution_count": 7,
      "metadata": {
        "colab": {
          "base_uri": "https://localhost:8080/"
        },
        "id": "niH5DatWC3wG",
        "outputId": "7ed4a6c2-9d01-4275-c758-bdffc66af005"
      },
      "outputs": [
        {
          "output_type": "execute_result",
          "data": {
            "text/plain": [
              "(11999, 30)"
            ]
          },
          "metadata": {},
          "execution_count": 7
        }
      ],
      "source": [
        "spam.shape"
      ]
    },
    {
      "cell_type": "code",
      "execution_count": 8,
      "metadata": {
        "colab": {
          "base_uri": "https://localhost:8080/"
        },
        "id": "rc0w_MTUDCF8",
        "outputId": "524baf20-52ad-4521-8c34-38ce4b841fda"
      },
      "outputs": [
        {
          "output_type": "execute_result",
          "data": {
            "text/plain": [
              "(10003, 30)"
            ]
          },
          "metadata": {},
          "execution_count": 8
        }
      ],
      "source": [
        "malw.shape"
      ]
    },
    {
      "cell_type": "code",
      "source": [
        "safe.shape"
      ],
      "metadata": {
        "colab": {
          "base_uri": "https://localhost:8080/"
        },
        "id": "O2UGWHunJfIF",
        "outputId": "db99e03a-bc9e-4c1c-c50c-283642fd6e49"
      },
      "execution_count": 9,
      "outputs": [
        {
          "output_type": "execute_result",
          "data": {
            "text/plain": [
              "(14999, 30)"
            ]
          },
          "metadata": {},
          "execution_count": 9
        }
      ]
    },
    {
      "cell_type": "code",
      "execution_count": 10,
      "metadata": {
        "id": "jcM8YEj6QiAi"
      },
      "outputs": [],
      "source": [
        "df = pd.concat([safe,spam,phish,malw])\n"
      ]
    },
    {
      "cell_type": "markdown",
      "source": [
        "Exploratory Data Analysis"
      ],
      "metadata": {
        "id": "GB0n10ZCKd0h"
      }
    },
    {
      "cell_type": "code",
      "execution_count": 11,
      "metadata": {
        "colab": {
          "base_uri": "https://localhost:8080/",
          "height": 287
        },
        "id": "0tkz_I1km2yo",
        "outputId": "7714acbc-fd96-4973-c195-46e07c78b2ca"
      },
      "outputs": [
        {
          "output_type": "execute_result",
          "data": {
            "text/html": [
              "\n",
              "  <div id=\"df-1c2c011b-3d1d-4869-8bce-7530dd612afc\">\n",
              "    <div class=\"colab-df-container\">\n",
              "      <div>\n",
              "<style scoped>\n",
              "    .dataframe tbody tr th:only-of-type {\n",
              "        vertical-align: middle;\n",
              "    }\n",
              "\n",
              "    .dataframe tbody tr th {\n",
              "        vertical-align: top;\n",
              "    }\n",
              "\n",
              "    .dataframe thead th {\n",
              "        text-align: right;\n",
              "    }\n",
              "</style>\n",
              "<table border=\"1\" class=\"dataframe\">\n",
              "  <thead>\n",
              "    <tr style=\"text-align: right;\">\n",
              "      <th></th>\n",
              "      <th>Unnamed: 0</th>\n",
              "      <th>havingIP</th>\n",
              "      <th>haveAtSign</th>\n",
              "      <th>countDot</th>\n",
              "      <th>prefixSuffix</th>\n",
              "      <th>redirection</th>\n",
              "      <th>httpDomain</th>\n",
              "      <th>tinyURL</th>\n",
              "      <th>getLength</th>\n",
              "      <th>getSlash</th>\n",
              "      <th>numDigit</th>\n",
              "      <th>numfragments</th>\n",
              "      <th>numsubdomain</th>\n",
              "      <th>domainExt</th>\n",
              "      <th>URL_Shannon_Entropy</th>\n",
              "      <th>Domain_Shannon_Entropy</th>\n",
              "      <th>Path_Shannon_Entropy</th>\n",
              "      <th>Query_Shannon_Entropy</th>\n",
              "      <th>QandP_Shannon_Entropy</th>\n",
              "      <th>Susp_ext</th>\n",
              "      <th>space preset</th>\n",
              "      <th>digitToLetter_ratio</th>\n",
              "      <th>Sp_Character</th>\n",
              "      <th>susp_words</th>\n",
              "      <th>num_Imag</th>\n",
              "      <th>domainAge</th>\n",
              "      <th>domainCountry</th>\n",
              "      <th>iframe</th>\n",
              "      <th>Mouse_Over</th>\n",
              "      <th>Label</th>\n",
              "    </tr>\n",
              "  </thead>\n",
              "  <tbody>\n",
              "    <tr>\n",
              "      <th>0</th>\n",
              "      <td>0</td>\n",
              "      <td>0</td>\n",
              "      <td>0</td>\n",
              "      <td>2</td>\n",
              "      <td>1</td>\n",
              "      <td>0</td>\n",
              "      <td>0</td>\n",
              "      <td>0</td>\n",
              "      <td>22</td>\n",
              "      <td>0</td>\n",
              "      <td>0</td>\n",
              "      <td>0</td>\n",
              "      <td>0</td>\n",
              "      <td>com</td>\n",
              "      <td>3.788755</td>\n",
              "      <td>3.189898</td>\n",
              "      <td>0.000000</td>\n",
              "      <td>0.000000</td>\n",
              "      <td>-0.000000</td>\n",
              "      <td>0</td>\n",
              "      <td>0</td>\n",
              "      <td>0.000000</td>\n",
              "      <td>6</td>\n",
              "      <td>0</td>\n",
              "      <td>3.0</td>\n",
              "      <td>20.000000</td>\n",
              "      <td>AU</td>\n",
              "      <td>1</td>\n",
              "      <td>0</td>\n",
              "      <td>0</td>\n",
              "    </tr>\n",
              "    <tr>\n",
              "      <th>1</th>\n",
              "      <td>1</td>\n",
              "      <td>0</td>\n",
              "      <td>0</td>\n",
              "      <td>2</td>\n",
              "      <td>0</td>\n",
              "      <td>0</td>\n",
              "      <td>0</td>\n",
              "      <td>0</td>\n",
              "      <td>25</td>\n",
              "      <td>0</td>\n",
              "      <td>0</td>\n",
              "      <td>0</td>\n",
              "      <td>1</td>\n",
              "      <td>com</td>\n",
              "      <td>3.753270</td>\n",
              "      <td>3.175123</td>\n",
              "      <td>-0.000000</td>\n",
              "      <td>0.000000</td>\n",
              "      <td>1.000000</td>\n",
              "      <td>0</td>\n",
              "      <td>0</td>\n",
              "      <td>0.000000</td>\n",
              "      <td>6</td>\n",
              "      <td>0</td>\n",
              "      <td>0.0</td>\n",
              "      <td>0.999316</td>\n",
              "      <td>FR</td>\n",
              "      <td>0</td>\n",
              "      <td>0</td>\n",
              "      <td>0</td>\n",
              "    </tr>\n",
              "    <tr>\n",
              "      <th>2</th>\n",
              "      <td>2</td>\n",
              "      <td>0</td>\n",
              "      <td>0</td>\n",
              "      <td>2</td>\n",
              "      <td>0</td>\n",
              "      <td>0</td>\n",
              "      <td>0</td>\n",
              "      <td>0</td>\n",
              "      <td>28</td>\n",
              "      <td>0</td>\n",
              "      <td>0</td>\n",
              "      <td>0</td>\n",
              "      <td>0</td>\n",
              "      <td>com</td>\n",
              "      <td>3.940760</td>\n",
              "      <td>3.689704</td>\n",
              "      <td>0.000000</td>\n",
              "      <td>0.000000</td>\n",
              "      <td>-0.000000</td>\n",
              "      <td>0</td>\n",
              "      <td>0</td>\n",
              "      <td>0.000000</td>\n",
              "      <td>5</td>\n",
              "      <td>0</td>\n",
              "      <td>16.0</td>\n",
              "      <td>8.000000</td>\n",
              "      <td>US</td>\n",
              "      <td>1</td>\n",
              "      <td>0</td>\n",
              "      <td>0</td>\n",
              "    </tr>\n",
              "    <tr>\n",
              "      <th>3</th>\n",
              "      <td>3</td>\n",
              "      <td>0</td>\n",
              "      <td>0</td>\n",
              "      <td>2</td>\n",
              "      <td>0</td>\n",
              "      <td>0</td>\n",
              "      <td>0</td>\n",
              "      <td>0</td>\n",
              "      <td>28</td>\n",
              "      <td>0</td>\n",
              "      <td>0</td>\n",
              "      <td>0</td>\n",
              "      <td>1</td>\n",
              "      <td>org</td>\n",
              "      <td>3.815411</td>\n",
              "      <td>3.508695</td>\n",
              "      <td>-0.000000</td>\n",
              "      <td>0.000000</td>\n",
              "      <td>1.000000</td>\n",
              "      <td>0</td>\n",
              "      <td>0</td>\n",
              "      <td>0.000000</td>\n",
              "      <td>6</td>\n",
              "      <td>0</td>\n",
              "      <td>4.0</td>\n",
              "      <td>20.000000</td>\n",
              "      <td>US</td>\n",
              "      <td>1</td>\n",
              "      <td>0</td>\n",
              "      <td>0</td>\n",
              "    </tr>\n",
              "    <tr>\n",
              "      <th>4</th>\n",
              "      <td>4</td>\n",
              "      <td>0</td>\n",
              "      <td>0</td>\n",
              "      <td>2</td>\n",
              "      <td>0</td>\n",
              "      <td>0</td>\n",
              "      <td>0</td>\n",
              "      <td>0</td>\n",
              "      <td>62</td>\n",
              "      <td>1</td>\n",
              "      <td>10</td>\n",
              "      <td>0</td>\n",
              "      <td>1</td>\n",
              "      <td>com</td>\n",
              "      <td>4.706066</td>\n",
              "      <td>3.250000</td>\n",
              "      <td>2.321928</td>\n",
              "      <td>4.271371</td>\n",
              "      <td>4.509385</td>\n",
              "      <td>0</td>\n",
              "      <td>0</td>\n",
              "      <td>0.263158</td>\n",
              "      <td>14</td>\n",
              "      <td>1</td>\n",
              "      <td>0.0</td>\n",
              "      <td>28.002738</td>\n",
              "      <td>US</td>\n",
              "      <td>0</td>\n",
              "      <td>0</td>\n",
              "      <td>0</td>\n",
              "    </tr>\n",
              "  </tbody>\n",
              "</table>\n",
              "</div>\n",
              "      <button class=\"colab-df-convert\" onclick=\"convertToInteractive('df-1c2c011b-3d1d-4869-8bce-7530dd612afc')\"\n",
              "              title=\"Convert this dataframe to an interactive table.\"\n",
              "              style=\"display:none;\">\n",
              "        \n",
              "  <svg xmlns=\"http://www.w3.org/2000/svg\" height=\"24px\"viewBox=\"0 0 24 24\"\n",
              "       width=\"24px\">\n",
              "    <path d=\"M0 0h24v24H0V0z\" fill=\"none\"/>\n",
              "    <path d=\"M18.56 5.44l.94 2.06.94-2.06 2.06-.94-2.06-.94-.94-2.06-.94 2.06-2.06.94zm-11 1L8.5 8.5l.94-2.06 2.06-.94-2.06-.94L8.5 2.5l-.94 2.06-2.06.94zm10 10l.94 2.06.94-2.06 2.06-.94-2.06-.94-.94-2.06-.94 2.06-2.06.94z\"/><path d=\"M17.41 7.96l-1.37-1.37c-.4-.4-.92-.59-1.43-.59-.52 0-1.04.2-1.43.59L10.3 9.45l-7.72 7.72c-.78.78-.78 2.05 0 2.83L4 21.41c.39.39.9.59 1.41.59.51 0 1.02-.2 1.41-.59l7.78-7.78 2.81-2.81c.8-.78.8-2.07 0-2.86zM5.41 20L4 18.59l7.72-7.72 1.47 1.35L5.41 20z\"/>\n",
              "  </svg>\n",
              "      </button>\n",
              "      \n",
              "  <style>\n",
              "    .colab-df-container {\n",
              "      display:flex;\n",
              "      flex-wrap:wrap;\n",
              "      gap: 12px;\n",
              "    }\n",
              "\n",
              "    .colab-df-convert {\n",
              "      background-color: #E8F0FE;\n",
              "      border: none;\n",
              "      border-radius: 50%;\n",
              "      cursor: pointer;\n",
              "      display: none;\n",
              "      fill: #1967D2;\n",
              "      height: 32px;\n",
              "      padding: 0 0 0 0;\n",
              "      width: 32px;\n",
              "    }\n",
              "\n",
              "    .colab-df-convert:hover {\n",
              "      background-color: #E2EBFA;\n",
              "      box-shadow: 0px 1px 2px rgba(60, 64, 67, 0.3), 0px 1px 3px 1px rgba(60, 64, 67, 0.15);\n",
              "      fill: #174EA6;\n",
              "    }\n",
              "\n",
              "    [theme=dark] .colab-df-convert {\n",
              "      background-color: #3B4455;\n",
              "      fill: #D2E3FC;\n",
              "    }\n",
              "\n",
              "    [theme=dark] .colab-df-convert:hover {\n",
              "      background-color: #434B5C;\n",
              "      box-shadow: 0px 1px 3px 1px rgba(0, 0, 0, 0.15);\n",
              "      filter: drop-shadow(0px 1px 2px rgba(0, 0, 0, 0.3));\n",
              "      fill: #FFFFFF;\n",
              "    }\n",
              "  </style>\n",
              "\n",
              "      <script>\n",
              "        const buttonEl =\n",
              "          document.querySelector('#df-1c2c011b-3d1d-4869-8bce-7530dd612afc button.colab-df-convert');\n",
              "        buttonEl.style.display =\n",
              "          google.colab.kernel.accessAllowed ? 'block' : 'none';\n",
              "\n",
              "        async function convertToInteractive(key) {\n",
              "          const element = document.querySelector('#df-1c2c011b-3d1d-4869-8bce-7530dd612afc');\n",
              "          const dataTable =\n",
              "            await google.colab.kernel.invokeFunction('convertToInteractive',\n",
              "                                                     [key], {});\n",
              "          if (!dataTable) return;\n",
              "\n",
              "          const docLinkHtml = 'Like what you see? Visit the ' +\n",
              "            '<a target=\"_blank\" href=https://colab.research.google.com/notebooks/data_table.ipynb>data table notebook</a>'\n",
              "            + ' to learn more about interactive tables.';\n",
              "          element.innerHTML = '';\n",
              "          dataTable['output_type'] = 'display_data';\n",
              "          await google.colab.output.renderOutput(dataTable, element);\n",
              "          const docLink = document.createElement('div');\n",
              "          docLink.innerHTML = docLinkHtml;\n",
              "          element.appendChild(docLink);\n",
              "        }\n",
              "      </script>\n",
              "    </div>\n",
              "  </div>\n",
              "  "
            ],
            "text/plain": [
              "   Unnamed: 0  havingIP  haveAtSign  ...  iframe  Mouse_Over  Label\n",
              "0           0         0           0  ...       1           0      0\n",
              "1           1         0           0  ...       0           0      0\n",
              "2           2         0           0  ...       1           0      0\n",
              "3           3         0           0  ...       1           0      0\n",
              "4           4         0           0  ...       0           0      0\n",
              "\n",
              "[5 rows x 30 columns]"
            ]
          },
          "metadata": {},
          "execution_count": 11
        }
      ],
      "source": [
        "df.head()"
      ]
    },
    {
      "cell_type": "code",
      "source": [
        "df.shape"
      ],
      "metadata": {
        "colab": {
          "base_uri": "https://localhost:8080/"
        },
        "id": "DEzCjTnXsqwX",
        "outputId": "204c829e-20b2-424b-dc5e-d5962ba5fb49"
      },
      "execution_count": 12,
      "outputs": [
        {
          "output_type": "execute_result",
          "data": {
            "text/plain": [
              "(48501, 30)"
            ]
          },
          "metadata": {},
          "execution_count": 12
        }
      ]
    },
    {
      "cell_type": "code",
      "source": [
        "import seaborn as sns\n",
        "sns.countplot(x=df['Label'])"
      ],
      "metadata": {
        "colab": {
          "base_uri": "https://localhost:8080/",
          "height": 296
        },
        "id": "ht2RobzQ_Qc4",
        "outputId": "e1dfe9aa-d98a-43f9-8edb-09d0f9dbfaf0"
      },
      "execution_count": 13,
      "outputs": [
        {
          "output_type": "execute_result",
          "data": {
            "text/plain": [
              "<matplotlib.axes._subplots.AxesSubplot at 0x7f42cc542850>"
            ]
          },
          "metadata": {},
          "execution_count": 13
        },
        {
          "output_type": "display_data",
          "data": {
            "image/png": "[encoded data removed]",
            "text/plain": [
              "<Figure size 432x288 with 1 Axes>"
            ]
          },
          "metadata": {
            "needs_background": "light"
          }
        }
      ]
    },
    {
      "cell_type": "code",
      "execution_count": 14,
      "metadata": {
        "colab": {
          "base_uri": "https://localhost:8080/"
        },
        "id": "OBdy_oYoQwEx",
        "outputId": "cb058dd5-9588-4250-f873-f387c6eb6509"
      },
      "outputs": [
        {
          "output_type": "execute_result",
          "data": {
            "text/plain": [
              "0    48491\n",
              "1       10\n",
              "Name: httpDomain, dtype: int64"
            ]
          },
          "metadata": {},
          "execution_count": 14
        }
      ],
      "source": [
        "df['httpDomain'].value_counts()"
      ]
    },
    {
      "cell_type": "code",
      "execution_count": 14,
      "metadata": {
        "id": "svbK5KBzmtiK"
      },
      "outputs": [],
      "source": [
        ""
      ]
    },
    {
      "cell_type": "markdown",
      "metadata": {
        "id": "S9-zpsBDs9Ul"
      },
      "source": [
        "Variance Analysis"
      ]
    },
    {
      "cell_type": "code",
      "execution_count": 15,
      "metadata": {
        "colab": {
          "base_uri": "https://localhost:8080/"
        },
        "id": "7mMMq1UcdyY8",
        "outputId": "481c2d1d-dd2f-443b-a966-0dca691c9b9a"
      },
      "outputs": [
        {
          "output_type": "stream",
          "name": "stderr",
          "text": [
            "/usr/local/lib/python3.7/dist-packages/ipykernel_launcher.py:2: FutureWarning: Dropping of nuisance columns in DataFrame reductions (with 'numeric_only=None') is deprecated; in a future version this will raise TypeError.  Select only valid columns before calling the reduction.\n",
            "  \n"
          ]
        },
        {
          "output_type": "execute_result",
          "data": {
            "text/plain": [
              "httpDomain                2.061431e-04\n",
              "redirection               5.964001e-03\n",
              "numfragments              6.582557e-03\n",
              "haveAtSign                1.103022e-02\n",
              "space preset              1.364365e-02\n",
              "tinyURL                   4.577060e-02\n",
              "prefixSuffix              8.821380e-02\n",
              "iframe                    9.367374e-02\n",
              "havingIP                  1.194337e-01\n",
              "Domain_Shannon_Entropy    1.426443e-01\n",
              "Mouse_Over                1.458381e-01\n",
              "Susp_ext                  1.958421e-01\n",
              "susp_words                2.150523e-01\n",
              "URL_Shannon_Entropy       2.300324e-01\n",
              "digitToLetter_ratio       4.780178e-01\n",
              "Label                     1.258704e+00\n",
              "QandP_Shannon_Entropy     2.395230e+00\n",
              "countDot                  2.601959e+00\n",
              "Path_Shannon_Entropy      2.737707e+00\n",
              "getSlash                  2.824601e+00\n",
              "Query_Shannon_Entropy     2.952528e+00\n",
              "numsubdomain              3.265264e+00\n",
              "Sp_Character              6.337488e+01\n",
              "domainAge                 1.305092e+02\n",
              "num_Imag                  4.309899e+02\n",
              "numDigit                  5.126347e+02\n",
              "getLength                 1.657066e+04\n",
              "Unnamed: 0                1.676923e+07\n",
              "dtype: float64"
            ]
          },
          "metadata": {},
          "execution_count": 15
        }
      ],
      "source": [
        "\n",
        "df.var().sort_values()"
      ]
    },
    {
      "cell_type": "code",
      "execution_count": 16,
      "metadata": {
        "colab": {
          "base_uri": "https://localhost:8080/"
        },
        "id": "AQM1BbrdNbgP",
        "outputId": "5df98d41-9e20-4e47-d1de-f7bcd428568f"
      },
      "outputs": [
        {
          "output_type": "execute_result",
          "data": {
            "text/plain": [
              "Unnamed: 0                    0\n",
              "havingIP                      0\n",
              "haveAtSign                    0\n",
              "countDot                      0\n",
              "prefixSuffix                  0\n",
              "redirection                   0\n",
              "httpDomain                    0\n",
              "tinyURL                       0\n",
              "getLength                     0\n",
              "getSlash                      0\n",
              "numDigit                      0\n",
              "numfragments                  0\n",
              "numsubdomain                  0\n",
              "domainExt                   145\n",
              "URL_Shannon_Entropy           0\n",
              "Domain_Shannon_Entropy        0\n",
              "Path_Shannon_Entropy          0\n",
              "Query_Shannon_Entropy         0\n",
              "QandP_Shannon_Entropy         0\n",
              "Susp_ext                      0\n",
              "space preset                  0\n",
              "digitToLetter_ratio           0\n",
              "Sp_Character                  0\n",
              "susp_words                    0\n",
              "num_Imag                   8570\n",
              "domainAge                     0\n",
              "domainCountry             12314\n",
              "iframe                        0\n",
              "Mouse_Over                    0\n",
              "Label                         0\n",
              "dtype: int64"
            ]
          },
          "metadata": {},
          "execution_count": 16
        }
      ],
      "source": [
        "df.isnull().sum()"
      ]
    },
    {
      "cell_type": "code",
      "source": [
        "df[\"domainCountry\"].fillna(\"Originally NA\", inplace = True)\n"
      ],
      "metadata": {
        "id": "evQqOtGRxMN0"
      },
      "execution_count": 17,
      "outputs": []
    },
    {
      "cell_type": "code",
      "source": [
        "df.groupby(\"Label\")['num_Imag'].value_counts().nlargest(30).unstack(fill_value=0)"
      ],
      "metadata": {
        "colab": {
          "base_uri": "https://localhost:8080/",
          "height": 206
        },
        "id": "_Zpmf1dVwf-9",
        "outputId": "ad5bb83d-2ed5-4b24-b812-6ebfb1a9d187"
      },
      "execution_count": 18,
      "outputs": [
        {
          "output_type": "execute_result",
          "data": {
            "text/html": [
              "\n",
              "  <div id=\"df-034ee72c-19eb-4a6e-b788-43bf802ac00c\">\n",
              "    <div class=\"colab-df-container\">\n",
              "      <div>\n",
              "<style scoped>\n",
              "    .dataframe tbody tr th:only-of-type {\n",
              "        vertical-align: middle;\n",
              "    }\n",
              "\n",
              "    .dataframe tbody tr th {\n",
              "        vertical-align: top;\n",
              "    }\n",
              "\n",
              "    .dataframe thead th {\n",
              "        text-align: right;\n",
              "    }\n",
              "</style>\n",
              "<table border=\"1\" class=\"dataframe\">\n",
              "  <thead>\n",
              "    <tr style=\"text-align: right;\">\n",
              "      <th>num_Imag</th>\n",
              "      <th>0.0</th>\n",
              "      <th>2.0</th>\n",
              "      <th>3.0</th>\n",
              "      <th>1.0</th>\n",
              "      <th>4.0</th>\n",
              "      <th>7.0</th>\n",
              "      <th>5.0</th>\n",
              "      <th>6.0</th>\n",
              "      <th>10.0</th>\n",
              "      <th>8.0</th>\n",
              "      <th>9.0</th>\n",
              "      <th>14.0</th>\n",
              "      <th>13.0</th>\n",
              "      <th>11.0</th>\n",
              "      <th>12.0</th>\n",
              "      <th>16.0</th>\n",
              "      <th>17.0</th>\n",
              "      <th>15.0</th>\n",
              "    </tr>\n",
              "    <tr>\n",
              "      <th>Label</th>\n",
              "      <th></th>\n",
              "      <th></th>\n",
              "      <th></th>\n",
              "      <th></th>\n",
              "      <th></th>\n",
              "      <th></th>\n",
              "      <th></th>\n",
              "      <th></th>\n",
              "      <th></th>\n",
              "      <th></th>\n",
              "      <th></th>\n",
              "      <th></th>\n",
              "      <th></th>\n",
              "      <th></th>\n",
              "      <th></th>\n",
              "      <th></th>\n",
              "      <th></th>\n",
              "      <th></th>\n",
              "    </tr>\n",
              "  </thead>\n",
              "  <tbody>\n",
              "    <tr>\n",
              "      <th>0</th>\n",
              "      <td>4454</td>\n",
              "      <td>626</td>\n",
              "      <td>473</td>\n",
              "      <td>937</td>\n",
              "      <td>407</td>\n",
              "      <td>389</td>\n",
              "      <td>333</td>\n",
              "      <td>279</td>\n",
              "      <td>249</td>\n",
              "      <td>241</td>\n",
              "      <td>222</td>\n",
              "      <td>204</td>\n",
              "      <td>203</td>\n",
              "      <td>200</td>\n",
              "      <td>198</td>\n",
              "      <td>180</td>\n",
              "      <td>140</td>\n",
              "      <td>135</td>\n",
              "    </tr>\n",
              "    <tr>\n",
              "      <th>1</th>\n",
              "      <td>6466</td>\n",
              "      <td>755</td>\n",
              "      <td>233</td>\n",
              "      <td>1829</td>\n",
              "      <td>161</td>\n",
              "      <td>0</td>\n",
              "      <td>123</td>\n",
              "      <td>126</td>\n",
              "      <td>0</td>\n",
              "      <td>0</td>\n",
              "      <td>0</td>\n",
              "      <td>0</td>\n",
              "      <td>0</td>\n",
              "      <td>0</td>\n",
              "      <td>0</td>\n",
              "      <td>0</td>\n",
              "      <td>0</td>\n",
              "      <td>0</td>\n",
              "    </tr>\n",
              "    <tr>\n",
              "      <th>2</th>\n",
              "      <td>2609</td>\n",
              "      <td>1969</td>\n",
              "      <td>1886</td>\n",
              "      <td>836</td>\n",
              "      <td>0</td>\n",
              "      <td>0</td>\n",
              "      <td>0</td>\n",
              "      <td>0</td>\n",
              "      <td>0</td>\n",
              "      <td>0</td>\n",
              "      <td>0</td>\n",
              "      <td>0</td>\n",
              "      <td>0</td>\n",
              "      <td>0</td>\n",
              "      <td>0</td>\n",
              "      <td>0</td>\n",
              "      <td>0</td>\n",
              "      <td>0</td>\n",
              "    </tr>\n",
              "    <tr>\n",
              "      <th>3</th>\n",
              "      <td>8879</td>\n",
              "      <td>0</td>\n",
              "      <td>0</td>\n",
              "      <td>0</td>\n",
              "      <td>0</td>\n",
              "      <td>0</td>\n",
              "      <td>0</td>\n",
              "      <td>0</td>\n",
              "      <td>0</td>\n",
              "      <td>0</td>\n",
              "      <td>0</td>\n",
              "      <td>0</td>\n",
              "      <td>0</td>\n",
              "      <td>0</td>\n",
              "      <td>0</td>\n",
              "      <td>0</td>\n",
              "      <td>0</td>\n",
              "      <td>0</td>\n",
              "    </tr>\n",
              "  </tbody>\n",
              "</table>\n",
              "</div>\n",
              "      <button class=\"colab-df-convert\" onclick=\"convertToInteractive('df-034ee72c-19eb-4a6e-b788-43bf802ac00c')\"\n",
              "              title=\"Convert this dataframe to an interactive table.\"\n",
              "              style=\"display:none;\">\n",
              "        \n",
              "  <svg xmlns=\"http://www.w3.org/2000/svg\" height=\"24px\"viewBox=\"0 0 24 24\"\n",
              "       width=\"24px\">\n",
              "    <path d=\"M0 0h24v24H0V0z\" fill=\"none\"/>\n",
              "    <path d=\"M18.56 5.44l.94 2.06.94-2.06 2.06-.94-2.06-.94-.94-2.06-.94 2.06-2.06.94zm-11 1L8.5 8.5l.94-2.06 2.06-.94-2.06-.94L8.5 2.5l-.94 2.06-2.06.94zm10 10l.94 2.06.94-2.06 2.06-.94-2.06-.94-.94-2.06-.94 2.06-2.06.94z\"/><path d=\"M17.41 7.96l-1.37-1.37c-.4-.4-.92-.59-1.43-.59-.52 0-1.04.2-1.43.59L10.3 9.45l-7.72 7.72c-.78.78-.78 2.05 0 2.83L4 21.41c.39.39.9.59 1.41.59.51 0 1.02-.2 1.41-.59l7.78-7.78 2.81-2.81c.8-.78.8-2.07 0-2.86zM5.41 20L4 18.59l7.72-7.72 1.47 1.35L5.41 20z\"/>\n",
              "  </svg>\n",
              "      </button>\n",
              "      \n",
              "  <style>\n",
              "    .colab-df-container {\n",
              "      display:flex;\n",
              "      flex-wrap:wrap;\n",
              "      gap: 12px;\n",
              "    }\n",
              "\n",
              "    .colab-df-convert {\n",
              "      background-color: #E8F0FE;\n",
              "      border: none;\n",
              "      border-radius: 50%;\n",
              "      cursor: pointer;\n",
              "      display: none;\n",
              "      fill: #1967D2;\n",
              "      height: 32px;\n",
              "      padding: 0 0 0 0;\n",
              "      width: 32px;\n",
              "    }\n",
              "\n",
              "    .colab-df-convert:hover {\n",
              "      background-color: #E2EBFA;\n",
              "      box-shadow: 0px 1px 2px rgba(60, 64, 67, 0.3), 0px 1px 3px 1px rgba(60, 64, 67, 0.15);\n",
              "      fill: #174EA6;\n",
              "    }\n",
              "\n",
              "    [theme=dark] .colab-df-convert {\n",
              "      background-color: #3B4455;\n",
              "      fill: #D2E3FC;\n",
              "    }\n",
              "\n",
              "    [theme=dark] .colab-df-convert:hover {\n",
              "      background-color: #434B5C;\n",
              "      box-shadow: 0px 1px 3px 1px rgba(0, 0, 0, 0.15);\n",
              "      filter: drop-shadow(0px 1px 2px rgba(0, 0, 0, 0.3));\n",
              "      fill: #FFFFFF;\n",
              "    }\n",
              "  </style>\n",
              "\n",
              "      <script>\n",
              "        const buttonEl =\n",
              "          document.querySelector('#df-034ee72c-19eb-4a6e-b788-43bf802ac00c button.colab-df-convert');\n",
              "        buttonEl.style.display =\n",
              "          google.colab.kernel.accessAllowed ? 'block' : 'none';\n",
              "\n",
              "        async function convertToInteractive(key) {\n",
              "          const element = document.querySelector('#df-034ee72c-19eb-4a6e-b788-43bf802ac00c');\n",
              "          const dataTable =\n",
              "            await google.colab.kernel.invokeFunction('convertToInteractive',\n",
              "                                                     [key], {});\n",
              "          if (!dataTable) return;\n",
              "\n",
              "          const docLinkHtml = 'Like what you see? Visit the ' +\n",
              "            '<a target=\"_blank\" href=https://colab.research.google.com/notebooks/data_table.ipynb>data table notebook</a>'\n",
              "            + ' to learn more about interactive tables.';\n",
              "          element.innerHTML = '';\n",
              "          dataTable['output_type'] = 'display_data';\n",
              "          await google.colab.output.renderOutput(dataTable, element);\n",
              "          const docLink = document.createElement('div');\n",
              "          docLink.innerHTML = docLinkHtml;\n",
              "          element.appendChild(docLink);\n",
              "        }\n",
              "      </script>\n",
              "    </div>\n",
              "  </div>\n",
              "  "
            ],
            "text/plain": [
              "num_Imag  0.0   2.0   3.0   1.0   4.0   ...  11.0  12.0  16.0  17.0  15.0\n",
              "Label                                   ...                              \n",
              "0         4454   626   473   937   407  ...   200   198   180   140   135\n",
              "1         6466   755   233  1829   161  ...     0     0     0     0     0\n",
              "2         2609  1969  1886   836     0  ...     0     0     0     0     0\n",
              "3         8879     0     0     0     0  ...     0     0     0     0     0\n",
              "\n",
              "[4 rows x 18 columns]"
            ]
          },
          "metadata": {},
          "execution_count": 18
        }
      ]
    },
    {
      "cell_type": "code",
      "source": [
        "df.groupby(\"Label\")['num_Imag'].mean()"
      ],
      "metadata": {
        "colab": {
          "base_uri": "https://localhost:8080/"
        },
        "id": "vb_YkQCDx7Sf",
        "outputId": "40b4bab7-fd18-4017-df6c-ea33d68db14c"
      },
      "execution_count": 19,
      "outputs": [
        {
          "output_type": "execute_result",
          "data": {
            "text/plain": [
              "Label\n",
              "0    11.573222\n",
              "1     3.804214\n",
              "2     2.660504\n",
              "3     0.182915\n",
              "Name: num_Imag, dtype: float64"
            ]
          },
          "metadata": {},
          "execution_count": 19
        }
      ]
    },
    {
      "cell_type": "code",
      "source": [
        "medians = df.groupby(\"Label\")['num_Imag'].transform('median')\n",
        "medians"
      ],
      "metadata": {
        "colab": {
          "base_uri": "https://localhost:8080/"
        },
        "id": "lp-sNomPyURn",
        "outputId": "e9f94890-9a5a-4c15-eec6-e419b1da4cf2"
      },
      "execution_count": 20,
      "outputs": [
        {
          "output_type": "execute_result",
          "data": {
            "text/plain": [
              "0        3.0\n",
              "1        3.0\n",
              "2        3.0\n",
              "3        3.0\n",
              "4        3.0\n",
              "        ... \n",
              "9998     0.0\n",
              "9999     0.0\n",
              "10000    0.0\n",
              "10001    0.0\n",
              "10002    0.0\n",
              "Name: num_Imag, Length: 48501, dtype: float64"
            ]
          },
          "metadata": {},
          "execution_count": 20
        }
      ]
    },
    {
      "cell_type": "code",
      "source": [
        "df['num_Imag'].fillna(medians,inplace=True)"
      ],
      "metadata": {
        "id": "Zx3cApR2zJtV"
      },
      "execution_count": 21,
      "outputs": []
    },
    {
      "cell_type": "code",
      "source": [
        "df.groupby(\"Label\")['num_Imag'].value_counts().nlargest(30).unstack(fill_value=0)"
      ],
      "metadata": {
        "colab": {
          "base_uri": "https://localhost:8080/",
          "height": 206
        },
        "id": "xkmGPANLxXr3",
        "outputId": "b09a8cae-7f98-494c-bec7-5e8e21fd372a"
      },
      "execution_count": 22,
      "outputs": [
        {
          "output_type": "execute_result",
          "data": {
            "text/html": [
              "\n",
              "  <div id=\"df-bc4a0587-6026-4010-9cb0-fc1784a3ebf9\">\n",
              "    <div class=\"colab-df-container\">\n",
              "      <div>\n",
              "<style scoped>\n",
              "    .dataframe tbody tr th:only-of-type {\n",
              "        vertical-align: middle;\n",
              "    }\n",
              "\n",
              "    .dataframe tbody tr th {\n",
              "        vertical-align: top;\n",
              "    }\n",
              "\n",
              "    .dataframe thead th {\n",
              "        text-align: right;\n",
              "    }\n",
              "</style>\n",
              "<table border=\"1\" class=\"dataframe\">\n",
              "  <thead>\n",
              "    <tr style=\"text-align: right;\">\n",
              "      <th>num_Imag</th>\n",
              "      <th>0.0</th>\n",
              "      <th>2.0</th>\n",
              "      <th>3.0</th>\n",
              "      <th>1.0</th>\n",
              "      <th>4.0</th>\n",
              "      <th>7.0</th>\n",
              "      <th>5.0</th>\n",
              "      <th>6.0</th>\n",
              "      <th>10.0</th>\n",
              "      <th>8.0</th>\n",
              "      <th>9.0</th>\n",
              "      <th>14.0</th>\n",
              "      <th>13.0</th>\n",
              "      <th>11.0</th>\n",
              "      <th>12.0</th>\n",
              "      <th>16.0</th>\n",
              "      <th>17.0</th>\n",
              "      <th>15.0</th>\n",
              "    </tr>\n",
              "    <tr>\n",
              "      <th>Label</th>\n",
              "      <th></th>\n",
              "      <th></th>\n",
              "      <th></th>\n",
              "      <th></th>\n",
              "      <th></th>\n",
              "      <th></th>\n",
              "      <th></th>\n",
              "      <th></th>\n",
              "      <th></th>\n",
              "      <th></th>\n",
              "      <th></th>\n",
              "      <th></th>\n",
              "      <th></th>\n",
              "      <th></th>\n",
              "      <th></th>\n",
              "      <th></th>\n",
              "      <th></th>\n",
              "      <th></th>\n",
              "    </tr>\n",
              "  </thead>\n",
              "  <tbody>\n",
              "    <tr>\n",
              "      <th>0</th>\n",
              "      <td>4454</td>\n",
              "      <td>626</td>\n",
              "      <td>3365</td>\n",
              "      <td>937</td>\n",
              "      <td>407</td>\n",
              "      <td>389</td>\n",
              "      <td>333</td>\n",
              "      <td>279</td>\n",
              "      <td>249</td>\n",
              "      <td>241</td>\n",
              "      <td>222</td>\n",
              "      <td>204</td>\n",
              "      <td>203</td>\n",
              "      <td>200</td>\n",
              "      <td>198</td>\n",
              "      <td>180</td>\n",
              "      <td>140</td>\n",
              "      <td>135</td>\n",
              "    </tr>\n",
              "    <tr>\n",
              "      <th>1</th>\n",
              "      <td>7240</td>\n",
              "      <td>755</td>\n",
              "      <td>233</td>\n",
              "      <td>1829</td>\n",
              "      <td>161</td>\n",
              "      <td>0</td>\n",
              "      <td>123</td>\n",
              "      <td>126</td>\n",
              "      <td>0</td>\n",
              "      <td>0</td>\n",
              "      <td>0</td>\n",
              "      <td>0</td>\n",
              "      <td>0</td>\n",
              "      <td>0</td>\n",
              "      <td>0</td>\n",
              "      <td>0</td>\n",
              "      <td>0</td>\n",
              "      <td>0</td>\n",
              "    </tr>\n",
              "    <tr>\n",
              "      <th>2</th>\n",
              "      <td>2609</td>\n",
              "      <td>6071</td>\n",
              "      <td>1886</td>\n",
              "      <td>836</td>\n",
              "      <td>0</td>\n",
              "      <td>0</td>\n",
              "      <td>0</td>\n",
              "      <td>0</td>\n",
              "      <td>0</td>\n",
              "      <td>0</td>\n",
              "      <td>0</td>\n",
              "      <td>0</td>\n",
              "      <td>0</td>\n",
              "      <td>0</td>\n",
              "      <td>0</td>\n",
              "      <td>0</td>\n",
              "      <td>0</td>\n",
              "      <td>0</td>\n",
              "    </tr>\n",
              "    <tr>\n",
              "      <th>3</th>\n",
              "      <td>9681</td>\n",
              "      <td>0</td>\n",
              "      <td>0</td>\n",
              "      <td>0</td>\n",
              "      <td>0</td>\n",
              "      <td>0</td>\n",
              "      <td>0</td>\n",
              "      <td>0</td>\n",
              "      <td>0</td>\n",
              "      <td>0</td>\n",
              "      <td>0</td>\n",
              "      <td>0</td>\n",
              "      <td>0</td>\n",
              "      <td>0</td>\n",
              "      <td>0</td>\n",
              "      <td>0</td>\n",
              "      <td>0</td>\n",
              "      <td>0</td>\n",
              "    </tr>\n",
              "  </tbody>\n",
              "</table>\n",
              "</div>\n",
              "      <button class=\"colab-df-convert\" onclick=\"convertToInteractive('df-bc4a0587-6026-4010-9cb0-fc1784a3ebf9')\"\n",
              "              title=\"Convert this dataframe to an interactive table.\"\n",
              "              style=\"display:none;\">\n",
              "        \n",
              "  <svg xmlns=\"http://www.w3.org/2000/svg\" height=\"24px\"viewBox=\"0 0 24 24\"\n",
              "       width=\"24px\">\n",
              "    <path d=\"M0 0h24v24H0V0z\" fill=\"none\"/>\n",
              "    <path d=\"M18.56 5.44l.94 2.06.94-2.06 2.06-.94-2.06-.94-.94-2.06-.94 2.06-2.06.94zm-11 1L8.5 8.5l.94-2.06 2.06-.94-2.06-.94L8.5 2.5l-.94 2.06-2.06.94zm10 10l.94 2.06.94-2.06 2.06-.94-2.06-.94-.94-2.06-.94 2.06-2.06.94z\"/><path d=\"M17.41 7.96l-1.37-1.37c-.4-.4-.92-.59-1.43-.59-.52 0-1.04.2-1.43.59L10.3 9.45l-7.72 7.72c-.78.78-.78 2.05 0 2.83L4 21.41c.39.39.9.59 1.41.59.51 0 1.02-.2 1.41-.59l7.78-7.78 2.81-2.81c.8-.78.8-2.07 0-2.86zM5.41 20L4 18.59l7.72-7.72 1.47 1.35L5.41 20z\"/>\n",
              "  </svg>\n",
              "      </button>\n",
              "      \n",
              "  <style>\n",
              "    .colab-df-container {\n",
              "      display:flex;\n",
              "      flex-wrap:wrap;\n",
              "      gap: 12px;\n",
              "    }\n",
              "\n",
              "    .colab-df-convert {\n",
              "      background-color: #E8F0FE;\n",
              "      border: none;\n",
              "      border-radius: 50%;\n",
              "      cursor: pointer;\n",
              "      display: none;\n",
              "      fill: #1967D2;\n",
              "      height: 32px;\n",
              "      padding: 0 0 0 0;\n",
              "      width: 32px;\n",
              "    }\n",
              "\n",
              "    .colab-df-convert:hover {\n",
              "      background-color: #E2EBFA;\n",
              "      box-shadow: 0px 1px 2px rgba(60, 64, 67, 0.3), 0px 1px 3px 1px rgba(60, 64, 67, 0.15);\n",
              "      fill: #174EA6;\n",
              "    }\n",
              "\n",
              "    [theme=dark] .colab-df-convert {\n",
              "      background-color: #3B4455;\n",
              "      fill: #D2E3FC;\n",
              "    }\n",
              "\n",
              "    [theme=dark] .colab-df-convert:hover {\n",
              "      background-color: #434B5C;\n",
              "      box-shadow: 0px 1px 3px 1px rgba(0, 0, 0, 0.15);\n",
              "      filter: drop-shadow(0px 1px 2px rgba(0, 0, 0, 0.3));\n",
              "      fill: #FFFFFF;\n",
              "    }\n",
              "  </style>\n",
              "\n",
              "      <script>\n",
              "        const buttonEl =\n",
              "          document.querySelector('#df-bc4a0587-6026-4010-9cb0-fc1784a3ebf9 button.colab-df-convert');\n",
              "        buttonEl.style.display =\n",
              "          google.colab.kernel.accessAllowed ? 'block' : 'none';\n",
              "\n",
              "        async function convertToInteractive(key) {\n",
              "          const element = document.querySelector('#df-bc4a0587-6026-4010-9cb0-fc1784a3ebf9');\n",
              "          const dataTable =\n",
              "            await google.colab.kernel.invokeFunction('convertToInteractive',\n",
              "                                                     [key], {});\n",
              "          if (!dataTable) return;\n",
              "\n",
              "          const docLinkHtml = 'Like what you see? Visit the ' +\n",
              "            '<a target=\"_blank\" href=https://colab.research.google.com/notebooks/data_table.ipynb>data table notebook</a>'\n",
              "            + ' to learn more about interactive tables.';\n",
              "          element.innerHTML = '';\n",
              "          dataTable['output_type'] = 'display_data';\n",
              "          await google.colab.output.renderOutput(dataTable, element);\n",
              "          const docLink = document.createElement('div');\n",
              "          docLink.innerHTML = docLinkHtml;\n",
              "          element.appendChild(docLink);\n",
              "        }\n",
              "      </script>\n",
              "    </div>\n",
              "  </div>\n",
              "  "
            ],
            "text/plain": [
              "num_Imag  0.0   2.0   3.0   1.0   4.0   ...  11.0  12.0  16.0  17.0  15.0\n",
              "Label                                   ...                              \n",
              "0         4454   626  3365   937   407  ...   200   198   180   140   135\n",
              "1         7240   755   233  1829   161  ...     0     0     0     0     0\n",
              "2         2609  6071  1886   836     0  ...     0     0     0     0     0\n",
              "3         9681     0     0     0     0  ...     0     0     0     0     0\n",
              "\n",
              "[4 rows x 18 columns]"
            ]
          },
          "metadata": {},
          "execution_count": 22
        }
      ]
    },
    {
      "cell_type": "code",
      "execution_count": 23,
      "metadata": {
        "colab": {
          "base_uri": "https://localhost:8080/"
        },
        "id": "OKf40x9Gb7nR",
        "outputId": "3624acff-8c41-4c26-a755-4f53e0f0a03a"
      },
      "outputs": [
        {
          "output_type": "execute_result",
          "data": {
            "text/plain": [
              "0    46169\n",
              "1     2332\n",
              "Name: tinyURL, dtype: int64"
            ]
          },
          "metadata": {},
          "execution_count": 23
        }
      ],
      "source": [
        "df[\"tinyURL\"].value_counts()"
      ]
    },
    {
      "cell_type": "code",
      "execution_count": 24,
      "metadata": {
        "id": "ZF0RQhpjRDPe"
      },
      "outputs": [],
      "source": [
        "df = df.sample(frac=1,random_state=42).reset_index(drop=True)"
      ]
    },
    {
      "cell_type": "code",
      "execution_count": 25,
      "metadata": {
        "colab": {
          "base_uri": "https://localhost:8080/"
        },
        "id": "2BUupd6mTmUC",
        "outputId": "cb8ee128-b3da-43ea-f39c-9523f320932c"
      },
      "outputs": [
        {
          "output_type": "execute_result",
          "data": {
            "text/plain": [
              "['domainCountry', 'domainExt']"
            ]
          },
          "metadata": {},
          "execution_count": 25
        }
      ],
      "source": [
        "#Finding non-numeric features features\n",
        "num_cols = df._get_numeric_data().columns\n",
        "cate_cols = list(set(df.columns)-set(num_cols))\n",
        "cate_cols"
      ]
    },
    {
      "cell_type": "code",
      "execution_count": 26,
      "metadata": {
        "colab": {
          "base_uri": "https://localhost:8080/"
        },
        "id": "pNmWGT2sywwD",
        "outputId": "07623e76-d4aa-4d80-9a74-38b5f5109a54"
      },
      "outputs": [
        {
          "output_type": "execute_result",
          "data": {
            "text/plain": [
              "com     11882\n",
              "html     5329\n",
              "uk       2919\n",
              "php      2656\n",
              "m        2211\n",
              "htm      1734\n",
              "org      1620\n",
              "a        1102\n",
              "i         915\n",
              "net       844\n",
              "cn        549\n",
              "edu       524\n",
              "exe       513\n",
              "sh        485\n",
              "au        265\n",
              "ru        249\n",
              "io        225\n",
              "ca        185\n",
              "br        179\n",
              "de        176\n",
              "Name: domainExt, dtype: int64"
            ]
          },
          "metadata": {},
          "execution_count": 26
        }
      ],
      "source": [
        "df['domainExt'].value_counts()[:20]\n"
      ]
    },
    {
      "cell_type": "code",
      "execution_count": 27,
      "metadata": {
        "colab": {
          "base_uri": "https://localhost:8080/",
          "height": 206
        },
        "id": "uBH4Z12Iyp8D",
        "outputId": "1cde6bce-ac04-4da7-893b-dd1f5d218f20"
      },
      "outputs": [
        {
          "output_type": "execute_result",
          "data": {
            "text/html": [
              "\n",
              "  <div id=\"df-4c5d28da-d2a5-48c0-be69-da47289560ad\">\n",
              "    <div class=\"colab-df-container\">\n",
              "      <div>\n",
              "<style scoped>\n",
              "    .dataframe tbody tr th:only-of-type {\n",
              "        vertical-align: middle;\n",
              "    }\n",
              "\n",
              "    .dataframe tbody tr th {\n",
              "        vertical-align: top;\n",
              "    }\n",
              "\n",
              "    .dataframe thead th {\n",
              "        text-align: right;\n",
              "    }\n",
              "</style>\n",
              "<table border=\"1\" class=\"dataframe\">\n",
              "  <thead>\n",
              "    <tr style=\"text-align: right;\">\n",
              "      <th>domainExt</th>\n",
              "      <th>com</th>\n",
              "      <th>html</th>\n",
              "      <th>uk</th>\n",
              "      <th>m</th>\n",
              "      <th>php</th>\n",
              "      <th>org</th>\n",
              "      <th>a</th>\n",
              "      <th>htm</th>\n",
              "      <th>i</th>\n",
              "      <th>net</th>\n",
              "      <th>cn</th>\n",
              "      <th>exe</th>\n",
              "      <th>edu</th>\n",
              "      <th>sh</th>\n",
              "      <th>ru</th>\n",
              "      <th>io</th>\n",
              "      <th>au</th>\n",
              "      <th>br</th>\n",
              "      <th>ca</th>\n",
              "      <th>ly</th>\n",
              "      <th>in</th>\n",
              "    </tr>\n",
              "    <tr>\n",
              "      <th>Label</th>\n",
              "      <th></th>\n",
              "      <th></th>\n",
              "      <th></th>\n",
              "      <th></th>\n",
              "      <th></th>\n",
              "      <th></th>\n",
              "      <th></th>\n",
              "      <th></th>\n",
              "      <th></th>\n",
              "      <th></th>\n",
              "      <th></th>\n",
              "      <th></th>\n",
              "      <th></th>\n",
              "      <th></th>\n",
              "      <th></th>\n",
              "      <th></th>\n",
              "      <th></th>\n",
              "      <th></th>\n",
              "      <th></th>\n",
              "      <th></th>\n",
              "      <th></th>\n",
              "    </tr>\n",
              "  </thead>\n",
              "  <tbody>\n",
              "    <tr>\n",
              "      <th>0</th>\n",
              "      <td>7025</td>\n",
              "      <td>1671</td>\n",
              "      <td>634</td>\n",
              "      <td>0</td>\n",
              "      <td>0</td>\n",
              "      <td>1427</td>\n",
              "      <td>0</td>\n",
              "      <td>1089</td>\n",
              "      <td>0</td>\n",
              "      <td>562</td>\n",
              "      <td>0</td>\n",
              "      <td>0</td>\n",
              "      <td>491</td>\n",
              "      <td>0</td>\n",
              "      <td>0</td>\n",
              "      <td>0</td>\n",
              "      <td>181</td>\n",
              "      <td>0</td>\n",
              "      <td>158</td>\n",
              "      <td>0</td>\n",
              "      <td>0</td>\n",
              "    </tr>\n",
              "    <tr>\n",
              "      <th>1</th>\n",
              "      <td>4445</td>\n",
              "      <td>531</td>\n",
              "      <td>0</td>\n",
              "      <td>0</td>\n",
              "      <td>655</td>\n",
              "      <td>176</td>\n",
              "      <td>0</td>\n",
              "      <td>0</td>\n",
              "      <td>0</td>\n",
              "      <td>267</td>\n",
              "      <td>525</td>\n",
              "      <td>0</td>\n",
              "      <td>0</td>\n",
              "      <td>0</td>\n",
              "      <td>226</td>\n",
              "      <td>223</td>\n",
              "      <td>0</td>\n",
              "      <td>160</td>\n",
              "      <td>0</td>\n",
              "      <td>144</td>\n",
              "      <td>132</td>\n",
              "    </tr>\n",
              "    <tr>\n",
              "      <th>2</th>\n",
              "      <td>0</td>\n",
              "      <td>3127</td>\n",
              "      <td>2212</td>\n",
              "      <td>0</td>\n",
              "      <td>0</td>\n",
              "      <td>0</td>\n",
              "      <td>0</td>\n",
              "      <td>580</td>\n",
              "      <td>0</td>\n",
              "      <td>0</td>\n",
              "      <td>0</td>\n",
              "      <td>0</td>\n",
              "      <td>0</td>\n",
              "      <td>0</td>\n",
              "      <td>0</td>\n",
              "      <td>0</td>\n",
              "      <td>0</td>\n",
              "      <td>0</td>\n",
              "      <td>0</td>\n",
              "      <td>0</td>\n",
              "      <td>0</td>\n",
              "    </tr>\n",
              "    <tr>\n",
              "      <th>3</th>\n",
              "      <td>412</td>\n",
              "      <td>0</td>\n",
              "      <td>0</td>\n",
              "      <td>2211</td>\n",
              "      <td>1808</td>\n",
              "      <td>0</td>\n",
              "      <td>1102</td>\n",
              "      <td>0</td>\n",
              "      <td>915</td>\n",
              "      <td>0</td>\n",
              "      <td>0</td>\n",
              "      <td>511</td>\n",
              "      <td>0</td>\n",
              "      <td>481</td>\n",
              "      <td>0</td>\n",
              "      <td>0</td>\n",
              "      <td>0</td>\n",
              "      <td>0</td>\n",
              "      <td>0</td>\n",
              "      <td>0</td>\n",
              "      <td>0</td>\n",
              "    </tr>\n",
              "  </tbody>\n",
              "</table>\n",
              "</div>\n",
              "      <button class=\"colab-df-convert\" onclick=\"convertToInteractive('df-4c5d28da-d2a5-48c0-be69-da47289560ad')\"\n",
              "              title=\"Convert this dataframe to an interactive table.\"\n",
              "              style=\"display:none;\">\n",
              "        \n",
              "  <svg xmlns=\"http://www.w3.org/2000/svg\" height=\"24px\"viewBox=\"0 0 24 24\"\n",
              "       width=\"24px\">\n",
              "    <path d=\"M0 0h24v24H0V0z\" fill=\"none\"/>\n",
              "    <path d=\"M18.56 5.44l.94 2.06.94-2.06 2.06-.94-2.06-.94-.94-2.06-.94 2.06-2.06.94zm-11 1L8.5 8.5l.94-2.06 2.06-.94-2.06-.94L8.5 2.5l-.94 2.06-2.06.94zm10 10l.94 2.06.94-2.06 2.06-.94-2.06-.94-.94-2.06-.94 2.06-2.06.94z\"/><path d=\"M17.41 7.96l-1.37-1.37c-.4-.4-.92-.59-1.43-.59-.52 0-1.04.2-1.43.59L10.3 9.45l-7.72 7.72c-.78.78-.78 2.05 0 2.83L4 21.41c.39.39.9.59 1.41.59.51 0 1.02-.2 1.41-.59l7.78-7.78 2.81-2.81c.8-.78.8-2.07 0-2.86zM5.41 20L4 18.59l7.72-7.72 1.47 1.35L5.41 20z\"/>\n",
              "  </svg>\n",
              "      </button>\n",
              "      \n",
              "  <style>\n",
              "    .colab-df-container {\n",
              "      display:flex;\n",
              "      flex-wrap:wrap;\n",
              "      gap: 12px;\n",
              "    }\n",
              "\n",
              "    .colab-df-convert {\n",
              "      background-color: #E8F0FE;\n",
              "      border: none;\n",
              "      border-radius: 50%;\n",
              "      cursor: pointer;\n",
              "      display: none;\n",
              "      fill: #1967D2;\n",
              "      height: 32px;\n",
              "      padding: 0 0 0 0;\n",
              "      width: 32px;\n",
              "    }\n",
              "\n",
              "    .colab-df-convert:hover {\n",
              "      background-color: #E2EBFA;\n",
              "      box-shadow: 0px 1px 2px rgba(60, 64, 67, 0.3), 0px 1px 3px 1px rgba(60, 64, 67, 0.15);\n",
              "      fill: #174EA6;\n",
              "    }\n",
              "\n",
              "    [theme=dark] .colab-df-convert {\n",
              "      background-color: #3B4455;\n",
              "      fill: #D2E3FC;\n",
              "    }\n",
              "\n",
              "    [theme=dark] .colab-df-convert:hover {\n",
              "      background-color: #434B5C;\n",
              "      box-shadow: 0px 1px 3px 1px rgba(0, 0, 0, 0.15);\n",
              "      filter: drop-shadow(0px 1px 2px rgba(0, 0, 0, 0.3));\n",
              "      fill: #FFFFFF;\n",
              "    }\n",
              "  </style>\n",
              "\n",
              "      <script>\n",
              "        const buttonEl =\n",
              "          document.querySelector('#df-4c5d28da-d2a5-48c0-be69-da47289560ad button.colab-df-convert');\n",
              "        buttonEl.style.display =\n",
              "          google.colab.kernel.accessAllowed ? 'block' : 'none';\n",
              "\n",
              "        async function convertToInteractive(key) {\n",
              "          const element = document.querySelector('#df-4c5d28da-d2a5-48c0-be69-da47289560ad');\n",
              "          const dataTable =\n",
              "            await google.colab.kernel.invokeFunction('convertToInteractive',\n",
              "                                                     [key], {});\n",
              "          if (!dataTable) return;\n",
              "\n",
              "          const docLinkHtml = 'Like what you see? Visit the ' +\n",
              "            '<a target=\"_blank\" href=https://colab.research.google.com/notebooks/data_table.ipynb>data table notebook</a>'\n",
              "            + ' to learn more about interactive tables.';\n",
              "          element.innerHTML = '';\n",
              "          dataTable['output_type'] = 'display_data';\n",
              "          await google.colab.output.renderOutput(dataTable, element);\n",
              "          const docLink = document.createElement('div');\n",
              "          docLink.innerHTML = docLinkHtml;\n",
              "          element.appendChild(docLink);\n",
              "        }\n",
              "      </script>\n",
              "    </div>\n",
              "  </div>\n",
              "  "
            ],
            "text/plain": [
              "domainExt   com  html    uk     m   php   org  ...   io   au   br   ca   ly   in\n",
              "Label                                          ...                              \n",
              "0          7025  1671   634     0     0  1427  ...    0  181    0  158    0    0\n",
              "1          4445   531     0     0   655   176  ...  223    0  160    0  144  132\n",
              "2             0  3127  2212     0     0     0  ...    0    0    0    0    0    0\n",
              "3           412     0     0  2211  1808     0  ...    0    0    0    0    0    0\n",
              "\n",
              "[4 rows x 21 columns]"
            ]
          },
          "metadata": {},
          "execution_count": 27
        }
      ],
      "source": [
        "# Grouping extensions based on labels (for analysis purpose)\n",
        "df.groupby(\"Label\")['domainExt'].value_counts().nlargest(30).unstack(fill_value=0)"
      ]
    },
    {
      "cell_type": "code",
      "execution_count": 28,
      "metadata": {
        "colab": {
          "base_uri": "https://localhost:8080/",
          "height": 206
        },
        "id": "LQyrtAplpOAn",
        "outputId": "e9044c19-88cf-494d-f9af-ffe23f3e657f"
      },
      "outputs": [
        {
          "output_type": "execute_result",
          "data": {
            "text/html": [
              "\n",
              "  <div id=\"df-fbced360-b860-448b-bef1-41a0ca3febf7\">\n",
              "    <div class=\"colab-df-container\">\n",
              "      <div>\n",
              "<style scoped>\n",
              "    .dataframe tbody tr th:only-of-type {\n",
              "        vertical-align: middle;\n",
              "    }\n",
              "\n",
              "    .dataframe tbody tr th {\n",
              "        vertical-align: top;\n",
              "    }\n",
              "\n",
              "    .dataframe thead th {\n",
              "        text-align: right;\n",
              "    }\n",
              "</style>\n",
              "<table border=\"1\" class=\"dataframe\">\n",
              "  <thead>\n",
              "    <tr style=\"text-align: right;\">\n",
              "      <th>domainCountry</th>\n",
              "      <th>None</th>\n",
              "      <th>US</th>\n",
              "      <th>Originally NA</th>\n",
              "      <th>CA</th>\n",
              "      <th>IS</th>\n",
              "      <th>IN</th>\n",
              "      <th>GB</th>\n",
              "      <th>CN</th>\n",
              "      <th>BR</th>\n",
              "      <th>Malaysia</th>\n",
              "      <th>FR</th>\n",
              "      <th>JP</th>\n",
              "      <th>RU</th>\n",
              "      <th>CH</th>\n",
              "      <th>AU</th>\n",
              "    </tr>\n",
              "    <tr>\n",
              "      <th>Label</th>\n",
              "      <th></th>\n",
              "      <th></th>\n",
              "      <th></th>\n",
              "      <th></th>\n",
              "      <th></th>\n",
              "      <th></th>\n",
              "      <th></th>\n",
              "      <th></th>\n",
              "      <th></th>\n",
              "      <th></th>\n",
              "      <th></th>\n",
              "      <th></th>\n",
              "      <th></th>\n",
              "      <th></th>\n",
              "      <th></th>\n",
              "    </tr>\n",
              "  </thead>\n",
              "  <tbody>\n",
              "    <tr>\n",
              "      <th>0</th>\n",
              "      <td>1154</td>\n",
              "      <td>6306</td>\n",
              "      <td>4804</td>\n",
              "      <td>494</td>\n",
              "      <td>386</td>\n",
              "      <td>0</td>\n",
              "      <td>319</td>\n",
              "      <td>180</td>\n",
              "      <td>0</td>\n",
              "      <td>0</td>\n",
              "      <td>102</td>\n",
              "      <td>94</td>\n",
              "      <td>0</td>\n",
              "      <td>85</td>\n",
              "      <td>82</td>\n",
              "    </tr>\n",
              "    <tr>\n",
              "      <th>1</th>\n",
              "      <td>2096</td>\n",
              "      <td>3084</td>\n",
              "      <td>3213</td>\n",
              "      <td>137</td>\n",
              "      <td>493</td>\n",
              "      <td>378</td>\n",
              "      <td>116</td>\n",
              "      <td>297</td>\n",
              "      <td>218</td>\n",
              "      <td>187</td>\n",
              "      <td>0</td>\n",
              "      <td>0</td>\n",
              "      <td>91</td>\n",
              "      <td>0</td>\n",
              "      <td>0</td>\n",
              "    </tr>\n",
              "    <tr>\n",
              "      <th>2</th>\n",
              "      <td>8561</td>\n",
              "      <td>0</td>\n",
              "      <td>3438</td>\n",
              "      <td>0</td>\n",
              "      <td>0</td>\n",
              "      <td>0</td>\n",
              "      <td>0</td>\n",
              "      <td>0</td>\n",
              "      <td>0</td>\n",
              "      <td>0</td>\n",
              "      <td>0</td>\n",
              "      <td>0</td>\n",
              "      <td>0</td>\n",
              "      <td>0</td>\n",
              "      <td>0</td>\n",
              "    </tr>\n",
              "    <tr>\n",
              "      <th>3</th>\n",
              "      <td>6263</td>\n",
              "      <td>1808</td>\n",
              "      <td>859</td>\n",
              "      <td>0</td>\n",
              "      <td>135</td>\n",
              "      <td>147</td>\n",
              "      <td>0</td>\n",
              "      <td>133</td>\n",
              "      <td>0</td>\n",
              "      <td>0</td>\n",
              "      <td>0</td>\n",
              "      <td>0</td>\n",
              "      <td>0</td>\n",
              "      <td>0</td>\n",
              "      <td>0</td>\n",
              "    </tr>\n",
              "  </tbody>\n",
              "</table>\n",
              "</div>\n",
              "      <button class=\"colab-df-convert\" onclick=\"convertToInteractive('df-fbced360-b860-448b-bef1-41a0ca3febf7')\"\n",
              "              title=\"Convert this dataframe to an interactive table.\"\n",
              "              style=\"display:none;\">\n",
              "        \n",
              "  <svg xmlns=\"http://www.w3.org/2000/svg\" height=\"24px\"viewBox=\"0 0 24 24\"\n",
              "       width=\"24px\">\n",
              "    <path d=\"M0 0h24v24H0V0z\" fill=\"none\"/>\n",
              "    <path d=\"M18.56 5.44l.94 2.06.94-2.06 2.06-.94-2.06-.94-.94-2.06-.94 2.06-2.06.94zm-11 1L8.5 8.5l.94-2.06 2.06-.94-2.06-.94L8.5 2.5l-.94 2.06-2.06.94zm10 10l.94 2.06.94-2.06 2.06-.94-2.06-.94-.94-2.06-.94 2.06-2.06.94z\"/><path d=\"M17.41 7.96l-1.37-1.37c-.4-.4-.92-.59-1.43-.59-.52 0-1.04.2-1.43.59L10.3 9.45l-7.72 7.72c-.78.78-.78 2.05 0 2.83L4 21.41c.39.39.9.59 1.41.59.51 0 1.02-.2 1.41-.59l7.78-7.78 2.81-2.81c.8-.78.8-2.07 0-2.86zM5.41 20L4 18.59l7.72-7.72 1.47 1.35L5.41 20z\"/>\n",
              "  </svg>\n",
              "      </button>\n",
              "      \n",
              "  <style>\n",
              "    .colab-df-container {\n",
              "      display:flex;\n",
              "      flex-wrap:wrap;\n",
              "      gap: 12px;\n",
              "    }\n",
              "\n",
              "    .colab-df-convert {\n",
              "      background-color: #E8F0FE;\n",
              "      border: none;\n",
              "      border-radius: 50%;\n",
              "      cursor: pointer;\n",
              "      display: none;\n",
              "      fill: #1967D2;\n",
              "      height: 32px;\n",
              "      padding: 0 0 0 0;\n",
              "      width: 32px;\n",
              "    }\n",
              "\n",
              "    .colab-df-convert:hover {\n",
              "      background-color: #E2EBFA;\n",
              "      box-shadow: 0px 1px 2px rgba(60, 64, 67, 0.3), 0px 1px 3px 1px rgba(60, 64, 67, 0.15);\n",
              "      fill: #174EA6;\n",
              "    }\n",
              "\n",
              "    [theme=dark] .colab-df-convert {\n",
              "      background-color: #3B4455;\n",
              "      fill: #D2E3FC;\n",
              "    }\n",
              "\n",
              "    [theme=dark] .colab-df-convert:hover {\n",
              "      background-color: #434B5C;\n",
              "      box-shadow: 0px 1px 3px 1px rgba(0, 0, 0, 0.15);\n",
              "      filter: drop-shadow(0px 1px 2px rgba(0, 0, 0, 0.3));\n",
              "      fill: #FFFFFF;\n",
              "    }\n",
              "  </style>\n",
              "\n",
              "      <script>\n",
              "        const buttonEl =\n",
              "          document.querySelector('#df-fbced360-b860-448b-bef1-41a0ca3febf7 button.colab-df-convert');\n",
              "        buttonEl.style.display =\n",
              "          google.colab.kernel.accessAllowed ? 'block' : 'none';\n",
              "\n",
              "        async function convertToInteractive(key) {\n",
              "          const element = document.querySelector('#df-fbced360-b860-448b-bef1-41a0ca3febf7');\n",
              "          const dataTable =\n",
              "            await google.colab.kernel.invokeFunction('convertToInteractive',\n",
              "                                                     [key], {});\n",
              "          if (!dataTable) return;\n",
              "\n",
              "          const docLinkHtml = 'Like what you see? Visit the ' +\n",
              "            '<a target=\"_blank\" href=https://colab.research.google.com/notebooks/data_table.ipynb>data table notebook</a>'\n",
              "            + ' to learn more about interactive tables.';\n",
              "          element.innerHTML = '';\n",
              "          dataTable['output_type'] = 'display_data';\n",
              "          await google.colab.output.renderOutput(dataTable, element);\n",
              "          const docLink = document.createElement('div');\n",
              "          docLink.innerHTML = docLinkHtml;\n",
              "          element.appendChild(docLink);\n",
              "        }\n",
              "      </script>\n",
              "    </div>\n",
              "  </div>\n",
              "  "
            ],
            "text/plain": [
              "domainCountry  None    US  Originally NA   CA   IS  ...   FR  JP  RU  CH  AU\n",
              "Label                                               ...                     \n",
              "0              1154  6306           4804  494  386  ...  102  94   0  85  82\n",
              "1              2096  3084           3213  137  493  ...    0   0  91   0   0\n",
              "2              8561     0           3438    0    0  ...    0   0   0   0   0\n",
              "3              6263  1808            859    0  135  ...    0   0   0   0   0\n",
              "\n",
              "[4 rows x 15 columns]"
            ]
          },
          "metadata": {},
          "execution_count": 28
        }
      ],
      "source": [
        "df.groupby(\"Label\")['domainCountry'].value_counts().nlargest(30).unstack(fill_value=0)"
      ]
    },
    {
      "cell_type": "code",
      "source": [
        "len(df[(df.domainAge==0)])"
      ],
      "metadata": {
        "colab": {
          "base_uri": "https://localhost:8080/"
        },
        "id": "UoHvXzjrz8t-",
        "outputId": "e42e358f-5579-4ffc-94ee-da8ed1510db8"
      },
      "execution_count": 29,
      "outputs": [
        {
          "output_type": "execute_result",
          "data": {
            "text/plain": [
              "18075"
            ]
          },
          "metadata": {},
          "execution_count": 29
        }
      ]
    },
    {
      "cell_type": "code",
      "execution_count": 30,
      "metadata": {
        "colab": {
          "base_uri": "https://localhost:8080/"
        },
        "id": "HLF4qAQaXRlt",
        "outputId": "2b087c30-cd4e-4ac1-c055-dab1ebce6a35"
      },
      "outputs": [
        {
          "output_type": "execute_result",
          "data": {
            "text/plain": [
              "None             18074\n",
              "Originally NA    12314\n",
              "US               11198\n",
              "IS                1014\n",
              "CA                 672\n",
              "                 ...  \n",
              "qa                   1\n",
              "JM                   1\n",
              "im                   1\n",
              "CG                   1\n",
              "GI                   1\n",
              "Name: domainCountry, Length: 200, dtype: int64"
            ]
          },
          "metadata": {},
          "execution_count": 30
        }
      ],
      "source": [
        "df['domainCountry'].value_counts()"
      ]
    },
    {
      "cell_type": "code",
      "execution_count": 31,
      "metadata": {
        "id": "lidQSi6H-1Af"
      },
      "outputs": [],
      "source": [
        "# Common extensions observed for malcious links\n",
        "ext=['m','a','i','sh','exe']\n",
        "# Creating new feature for the same\n",
        "df['hasMalwExt'] = [1 if x in ext else 0 for x in df['domainExt']]\n",
        "\n",
        "\n",
        "# Similarly creating more features based on extension \n",
        "ext=['php']\n",
        "df['hasPHPext'] = [1 if x in ext else 0 for x in df['domainExt']]\n",
        "\n",
        "ext=['htm']\n",
        "df['hasHTMext'] = [1 if x in ext else 0 for x in df['domainExt']]\n",
        "\n",
        "ext=['html']\n",
        "df['hasHTMLext'] = [1 if x in ext else 0 for x in df['domainExt']]\n"
      ]
    },
    {
      "cell_type": "code",
      "execution_count": 32,
      "metadata": {
        "id": "OyIhab3vtHqu"
      },
      "outputs": [],
      "source": [
        "# df['countryNone'] = [1 if x == 'None' else 0 for x in df['domainCountry']]\n",
        "# df['countryUS'] = [1 if x == 'US' else 0 for x in df['domainCountry']]\n",
        "# df['countryBR'] = [1 if x == 'BR' else 0 for x in df['domainCountry']]\n",
        "\n"
      ]
    },
    {
      "cell_type": "code",
      "source": [
        "df1= df[ (df.Label == 0) | (df.Label == 1) | (df.Label == 3)]"
      ],
      "metadata": {
        "id": "fJ2xLBG0tprm"
      },
      "execution_count": 33,
      "outputs": []
    },
    {
      "cell_type": "code",
      "source": [
        "import seaborn as sns\n",
        "plt.figure(figsize=(15,10))\n",
        "sns.boxplot(y=df1['digitToLetter_ratio'],x=df1['Label'])"
      ],
      "metadata": {
        "colab": {
          "base_uri": "https://localhost:8080/",
          "height": 623
        },
        "id": "QJ31mVy6tCRY",
        "outputId": "9cc1c47e-1dd4-4ed8-a5b9-64f5f2ce52f6"
      },
      "execution_count": 34,
      "outputs": [
        {
          "output_type": "execute_result",
          "data": {
            "text/plain": [
              "<matplotlib.axes._subplots.AxesSubplot at 0x7f42ca9fe210>"
            ]
          },
          "metadata": {},
          "execution_count": 34
        },
        {
          "output_type": "display_data",
          "data": {
            "image/png": "[encoded data removed]",
            "text/plain": [
              "<Figure size 1080x720 with 1 Axes>"
            ]
          },
          "metadata": {
            "needs_background": "light"
          }
        }
      ]
    },
    {
      "cell_type": "code",
      "source": [
        "plt.figure(figsize=(15,10))\n",
        "sns.boxplot(y=df1['Domain_Shannon_Entropy'],x=df1['Label'])"
      ],
      "metadata": {
        "colab": {
          "base_uri": "https://localhost:8080/",
          "height": 623
        },
        "id": "yEyOLDYJtCJm",
        "outputId": "8f727b61-69c8-4e1b-e442-9d84b012cd6a"
      },
      "execution_count": 35,
      "outputs": [
        {
          "output_type": "execute_result",
          "data": {
            "text/plain": [
              "<matplotlib.axes._subplots.AxesSubplot at 0x7f42ca9fee90>"
            ]
          },
          "metadata": {},
          "execution_count": 35
        },
        {
          "output_type": "display_data",
          "data": {
            "image/png": "[encoded data removed]",
            "text/plain": [
              "<Figure size 1080x720 with 1 Axes>"
            ]
          },
          "metadata": {
            "needs_background": "light"
          }
        }
      ]
    },
    {
      "cell_type": "code",
      "source": [
        "plt.figure(figsize=(15,10))\n",
        "sns.boxplot(y=df1['domainAge'],x=df1['Label'])"
      ],
      "metadata": {
        "colab": {
          "base_uri": "https://localhost:8080/",
          "height": 623
        },
        "id": "2ka1HWwHvhDF",
        "outputId": "dd7b6c42-d30a-4594-bc4e-e6f7d051fe93"
      },
      "execution_count": 36,
      "outputs": [
        {
          "output_type": "execute_result",
          "data": {
            "text/plain": [
              "<matplotlib.axes._subplots.AxesSubplot at 0x7f42ca8bd950>"
            ]
          },
          "metadata": {},
          "execution_count": 36
        },
        {
          "output_type": "display_data",
          "data": {
            "image/png": "[encoded data removed]",
            "text/plain": [
              "<Figure size 1080x720 with 1 Axes>"
            ]
          },
          "metadata": {
            "needs_background": "light"
          }
        }
      ]
    },
    {
      "cell_type": "code",
      "source": [
        "plt.figure(figsize=(15,10))\n",
        "sns.boxplot(y=df1['getLength'],x=df1['Label'])"
      ],
      "metadata": {
        "colab": {
          "base_uri": "https://localhost:8080/",
          "height": 623
        },
        "id": "avj9AnEQyIbW",
        "outputId": "e808739e-3584-4a21-9add-1ec482f508d7"
      },
      "execution_count": 37,
      "outputs": [
        {
          "output_type": "execute_result",
          "data": {
            "text/plain": [
              "<matplotlib.axes._subplots.AxesSubplot at 0x7f42caf32850>"
            ]
          },
          "metadata": {},
          "execution_count": 37
        },
        {
          "output_type": "display_data",
          "data": {
            "image/png": "[encoded data removed]",
            "text/plain": [
              "<Figure size 1080x720 with 1 Axes>"
            ]
          },
          "metadata": {
            "needs_background": "light"
          }
        }
      ]
    },
    {
      "cell_type": "code",
      "source": [
        "print(df.shape[0])\n",
        "df = df[(df.numDigit<500)]\n",
        "print(df.shape[0])\n"
      ],
      "metadata": {
        "id": "D0I4z-mE1gN0",
        "colab": {
          "base_uri": "https://localhost:8080/"
        },
        "outputId": "dc88b446-769f-4aa1-a261-879ffabef161"
      },
      "execution_count": 38,
      "outputs": [
        {
          "output_type": "stream",
          "name": "stdout",
          "text": [
            "48501\n",
            "48494\n"
          ]
        }
      ]
    },
    {
      "cell_type": "code",
      "source": [
        "plt.figure(figsize=(15,10))\n",
        "sns.boxplot(y=df1['getSlash'],x=df1['Label'])"
      ],
      "metadata": {
        "colab": {
          "base_uri": "https://localhost:8080/",
          "height": 623
        },
        "id": "BAqa3cBeyVAY",
        "outputId": "fbcd9a0e-56ab-40ce-ba76-1e3fb59945e0"
      },
      "execution_count": 39,
      "outputs": [
        {
          "output_type": "execute_result",
          "data": {
            "text/plain": [
              "<matplotlib.axes._subplots.AxesSubplot at 0x7f42ca782d90>"
            ]
          },
          "metadata": {},
          "execution_count": 39
        },
        {
          "output_type": "display_data",
          "data": {
            "image/png": "[encoded data removed]",
            "text/plain": [
              "<Figure size 1080x720 with 1 Axes>"
            ]
          },
          "metadata": {
            "needs_background": "light"
          }
        }
      ]
    },
    {
      "cell_type": "code",
      "source": [
        "plt.figure(figsize=(15,10))\n",
        "sns.boxplot(y=df1['numDigit'],x=df1['Label'])"
      ],
      "metadata": {
        "colab": {
          "base_uri": "https://localhost:8080/",
          "height": 623
        },
        "id": "H4ZElKQayf_7",
        "outputId": "0d8cc253-4b1f-4945-8f6f-8eaedf494838"
      },
      "execution_count": 40,
      "outputs": [
        {
          "output_type": "execute_result",
          "data": {
            "text/plain": [
              "<matplotlib.axes._subplots.AxesSubplot at 0x7f42ca785250>"
            ]
          },
          "metadata": {},
          "execution_count": 40
        },
        {
          "output_type": "display_data",
          "data": {
            "image/png": "[encoded data removed]",
            "text/plain": [
              "<Figure size 1080x720 with 1 Axes>"
            ]
          },
          "metadata": {
            "needs_background": "light"
          }
        }
      ]
    },
    {
      "cell_type": "code",
      "source": [
        "plt.figure(figsize=(15,10))\n",
        "sns.boxplot(y=df1['numsubdomain'],x=df1['Label'])"
      ],
      "metadata": {
        "colab": {
          "base_uri": "https://localhost:8080/",
          "height": 623
        },
        "id": "v67hTtqNzKhV",
        "outputId": "a50299de-dd1f-4852-ecb0-5e82bc66b00c"
      },
      "execution_count": 41,
      "outputs": [
        {
          "output_type": "execute_result",
          "data": {
            "text/plain": [
              "<matplotlib.axes._subplots.AxesSubplot at 0x7f42ca715750>"
            ]
          },
          "metadata": {},
          "execution_count": 41
        },
        {
          "output_type": "display_data",
          "data": {
            "image/png": "[encoded data removed]",
            "text/plain": [
              "<Figure size 1080x720 with 1 Axes>"
            ]
          },
          "metadata": {
            "needs_background": "light"
          }
        }
      ]
    },
    {
      "cell_type": "code",
      "source": [
        "plt.figure(figsize=(15,10))\n",
        "sns.boxplot(y=df1['Path_Shannon_Entropy'],x=df1['Label'])"
      ],
      "metadata": {
        "colab": {
          "base_uri": "https://localhost:8080/",
          "height": 623
        },
        "id": "sRDNJJKRzRMS",
        "outputId": "15628083-087e-4343-8e4b-a571fefcf979"
      },
      "execution_count": 42,
      "outputs": [
        {
          "output_type": "execute_result",
          "data": {
            "text/plain": [
              "<matplotlib.axes._subplots.AxesSubplot at 0x7f42ca7e1710>"
            ]
          },
          "metadata": {},
          "execution_count": 42
        },
        {
          "output_type": "display_data",
          "data": {
            "image/png": "[encoded data removed]",
            "text/plain": [
              "<Figure size 1080x720 with 1 Axes>"
            ]
          },
          "metadata": {
            "needs_background": "light"
          }
        }
      ]
    },
    {
      "cell_type": "code",
      "source": [
        "plt.figure(figsize=(15,10))\n",
        "sns.boxplot(y=df1['URL_Shannon_Entropy'],x=df1['Label'])"
      ],
      "metadata": {
        "colab": {
          "base_uri": "https://localhost:8080/",
          "height": 623
        },
        "id": "VKhPEJqnzZKY",
        "outputId": "57fbbae9-a12a-49fa-f545-b12a144f8fcd"
      },
      "execution_count": 43,
      "outputs": [
        {
          "output_type": "execute_result",
          "data": {
            "text/plain": [
              "<matplotlib.axes._subplots.AxesSubplot at 0x7f42ca569710>"
            ]
          },
          "metadata": {},
          "execution_count": 43
        },
        {
          "output_type": "display_data",
          "data": {
            "image/png": "[encoded data removed]",
            "text/plain": [
              "<Figure size 1080x720 with 1 Axes>"
            ]
          },
          "metadata": {
            "needs_background": "light"
          }
        }
      ]
    },
    {
      "cell_type": "code",
      "source": [
        "plt.figure(figsize=(5,7))\n",
        "sns.barplot(y=df1['numfragments'],x=df1['Label'])"
      ],
      "metadata": {
        "colab": {
          "base_uri": "https://localhost:8080/",
          "height": 459
        },
        "id": "e0VBth8CgveA",
        "outputId": "b3eda858-13f8-4cec-ff3a-e996eff24780"
      },
      "execution_count": 44,
      "outputs": [
        {
          "output_type": "execute_result",
          "data": {
            "text/plain": [
              "<matplotlib.axes._subplots.AxesSubplot at 0x7f42ca57be50>"
            ]
          },
          "metadata": {},
          "execution_count": 44
        },
        {
          "output_type": "display_data",
          "data": {
            "image/png": "[encoded data removed]",
            "text/plain": [
              "<Figure size 360x504 with 1 Axes>"
            ]
          },
          "metadata": {
            "needs_background": "light"
          }
        }
      ]
    },
    {
      "cell_type": "code",
      "source": [
        "df.columns"
      ],
      "metadata": {
        "id": "m7Hx8h9w7A1l",
        "colab": {
          "base_uri": "https://localhost:8080/"
        },
        "outputId": "edf13334-1407-44ea-adb7-ffd1dd4b50af"
      },
      "execution_count": 45,
      "outputs": [
        {
          "output_type": "execute_result",
          "data": {
            "text/plain": [
              "Index(['Unnamed: 0', 'havingIP', 'haveAtSign', 'countDot', 'prefixSuffix',\n",
              "       'redirection', 'httpDomain', 'tinyURL', 'getLength', 'getSlash',\n",
              "       'numDigit', 'numfragments', 'numsubdomain', 'domainExt',\n",
              "       'URL_Shannon_Entropy', 'Domain_Shannon_Entropy', 'Path_Shannon_Entropy',\n",
              "       'Query_Shannon_Entropy', 'QandP_Shannon_Entropy', 'Susp_ext',\n",
              "       'space preset', 'digitToLetter_ratio', 'Sp_Character', 'susp_words',\n",
              "       'num_Imag', 'domainAge', 'domainCountry', 'iframe', 'Mouse_Over',\n",
              "       'Label', 'hasMalwExt', 'hasPHPext', 'hasHTMext', 'hasHTMLext'],\n",
              "      dtype='object')"
            ]
          },
          "metadata": {},
          "execution_count": 45
        }
      ]
    },
    {
      "cell_type": "markdown",
      "metadata": {
        "id": "TLKm_iBgs6U7"
      },
      "source": [
        "Preparing the Input"
      ]
    },
    {
      "cell_type": "code",
      "execution_count": 46,
      "metadata": {
        "id": "lqNH3pwkTmrO"
      },
      "outputs": [],
      "source": [
        "feature_names = ['havingIP', 'haveAtSign', 'countDot', 'prefixSuffix',\n",
        "        'tinyURL', 'getLength', 'getSlash',\n",
        "       'numDigit','numsubdomain', \n",
        "       'URL_Shannon_Entropy', 'Domain_Shannon_Entropy', 'Path_Shannon_Entropy',\n",
        "       'Query_Shannon_Entropy', 'QandP_Shannon_Entropy',\n",
        "        'digitToLetter_ratio', 'Sp_Character', 'susp_words',\n",
        "       'num_Imag', 'iframe', 'Mouse_Over', 'hasMalwExt','hasHTMext','hasHTMLext', 'hasPHPext',\n",
        "]\n",
        "\n",
        "# \n",
        "# 'hasPhishExt', 'hasPHPext',\n",
        "#        'hasCOM', 'hasNET',  'hasORGext', 'hasUKext',  'countryNone', 'countryUS','countryBR', 'Susp_ext',       \n",
        "# \n",
        "\n",
        "# feature_names1 = ['havingIP', 'haveAtSign', 'countDot', 'prefixSuffix', \n",
        "#                  'redirection','tinyURL', 'getLength', 'getSlash','numDigit','numsubdomain',\n",
        "#                  'URL_Shannon_Entropy','Domain_Shannon_Entropy','Path_Shannon_Entropy','Query_Shannon_Entropy',\n",
        "#                  'QandP_Shannon_Entropy','Susp_ext','digitToLetter_ratio','Sp_Character','susp_words',\n",
        "#                  'num_Imag','domainAge','iframe', 'Mouse_Over','hasHTMext','hasPHPext','hasPhishExt','hasMalwExt','hasCOM','hasORGext',\n",
        "#                  'hasHTMLext','hasUKext','countryNone','countryUS','hasNET']\n",
        "\n",
        "# print(set(feature_names).difference(set(feature_names1)))\n",
        "\n",
        "sc = MinMaxScaler()\n",
        "\n",
        "X=df[feature_names]\n",
        "X = pd.DataFrame(sc.fit_transform(X))\n",
        "# Y=df[\"Label\"].values.reshape(-1, 1,). astype(int)\n",
        "y=df[\"Label\"]\n",
        "from pickle import dump\n",
        "dump(sc, open('scaler.pkl', 'wb'))"
      ]
    },
    {
      "cell_type": "code",
      "source": [
        "X.head()"
      ],
      "metadata": {
        "colab": {
          "base_uri": "https://localhost:8080/",
          "height": 206
        },
        "id": "HeZ0YCAkfPiv",
        "outputId": "5470caec-a651-4bc9-b999-abea569317cc"
      },
      "execution_count": 47,
      "outputs": [
        {
          "output_type": "execute_result",
          "data": {
            "text/html": [
              "\n",
              "  <div id=\"df-1538778b-d376-4ae5-96d0-ab848c05ae07\">\n",
              "    <div class=\"colab-df-container\">\n",
              "      <div>\n",
              "<style scoped>\n",
              "    .dataframe tbody tr th:only-of-type {\n",
              "        vertical-align: middle;\n",
              "    }\n",
              "\n",
              "    .dataframe tbody tr th {\n",
              "        vertical-align: top;\n",
              "    }\n",
              "\n",
              "    .dataframe thead th {\n",
              "        text-align: right;\n",
              "    }\n",
              "</style>\n",
              "<table border=\"1\" class=\"dataframe\">\n",
              "  <thead>\n",
              "    <tr style=\"text-align: right;\">\n",
              "      <th></th>\n",
              "      <th>0</th>\n",
              "      <th>1</th>\n",
              "      <th>2</th>\n",
              "      <th>3</th>\n",
              "      <th>4</th>\n",
              "      <th>5</th>\n",
              "      <th>6</th>\n",
              "      <th>7</th>\n",
              "      <th>8</th>\n",
              "      <th>9</th>\n",
              "      <th>10</th>\n",
              "      <th>11</th>\n",
              "      <th>12</th>\n",
              "      <th>13</th>\n",
              "      <th>14</th>\n",
              "      <th>15</th>\n",
              "      <th>16</th>\n",
              "      <th>17</th>\n",
              "      <th>18</th>\n",
              "      <th>19</th>\n",
              "      <th>20</th>\n",
              "      <th>21</th>\n",
              "      <th>22</th>\n",
              "      <th>23</th>\n",
              "    </tr>\n",
              "  </thead>\n",
              "  <tbody>\n",
              "    <tr>\n",
              "      <th>0</th>\n",
              "      <td>1.0</td>\n",
              "      <td>0.0</td>\n",
              "      <td>0.047619</td>\n",
              "      <td>0.0</td>\n",
              "      <td>0.0</td>\n",
              "      <td>0.014184</td>\n",
              "      <td>0.0625</td>\n",
              "      <td>0.067797</td>\n",
              "      <td>0.029412</td>\n",
              "      <td>0.379016</td>\n",
              "      <td>0.618395</td>\n",
              "      <td>0.477213</td>\n",
              "      <td>0.000000</td>\n",
              "      <td>0.500526</td>\n",
              "      <td>0.418301</td>\n",
              "      <td>0.040</td>\n",
              "      <td>0.0</td>\n",
              "      <td>0.000000</td>\n",
              "      <td>1.0</td>\n",
              "      <td>0.0</td>\n",
              "      <td>1.0</td>\n",
              "      <td>0.0</td>\n",
              "      <td>0.0</td>\n",
              "      <td>0.0</td>\n",
              "    </tr>\n",
              "    <tr>\n",
              "      <th>1</th>\n",
              "      <td>0.0</td>\n",
              "      <td>0.0</td>\n",
              "      <td>0.031746</td>\n",
              "      <td>0.0</td>\n",
              "      <td>0.0</td>\n",
              "      <td>0.200000</td>\n",
              "      <td>0.1250</td>\n",
              "      <td>0.169492</td>\n",
              "      <td>0.058824</td>\n",
              "      <td>0.864552</td>\n",
              "      <td>0.676416</td>\n",
              "      <td>0.550570</td>\n",
              "      <td>0.905593</td>\n",
              "      <td>0.919319</td>\n",
              "      <td>0.038259</td>\n",
              "      <td>0.048</td>\n",
              "      <td>1.0</td>\n",
              "      <td>0.001522</td>\n",
              "      <td>0.0</td>\n",
              "      <td>1.0</td>\n",
              "      <td>0.0</td>\n",
              "      <td>0.0</td>\n",
              "      <td>0.0</td>\n",
              "      <td>0.0</td>\n",
              "    </tr>\n",
              "    <tr>\n",
              "      <th>2</th>\n",
              "      <td>0.0</td>\n",
              "      <td>0.0</td>\n",
              "      <td>0.015873</td>\n",
              "      <td>0.0</td>\n",
              "      <td>0.0</td>\n",
              "      <td>0.008511</td>\n",
              "      <td>0.0625</td>\n",
              "      <td>0.000000</td>\n",
              "      <td>0.058824</td>\n",
              "      <td>0.274956</td>\n",
              "      <td>0.606927</td>\n",
              "      <td>0.382747</td>\n",
              "      <td>0.000000</td>\n",
              "      <td>0.420716</td>\n",
              "      <td>0.000000</td>\n",
              "      <td>0.024</td>\n",
              "      <td>0.0</td>\n",
              "      <td>0.013699</td>\n",
              "      <td>0.0</td>\n",
              "      <td>0.0</td>\n",
              "      <td>0.0</td>\n",
              "      <td>0.0</td>\n",
              "      <td>0.0</td>\n",
              "      <td>0.0</td>\n",
              "    </tr>\n",
              "    <tr>\n",
              "      <th>3</th>\n",
              "      <td>0.0</td>\n",
              "      <td>0.0</td>\n",
              "      <td>0.031746</td>\n",
              "      <td>0.0</td>\n",
              "      <td>0.0</td>\n",
              "      <td>0.036170</td>\n",
              "      <td>0.3125</td>\n",
              "      <td>0.012712</td>\n",
              "      <td>0.147059</td>\n",
              "      <td>0.573759</td>\n",
              "      <td>0.698598</td>\n",
              "      <td>0.759623</td>\n",
              "      <td>0.000000</td>\n",
              "      <td>0.755158</td>\n",
              "      <td>0.014406</td>\n",
              "      <td>0.072</td>\n",
              "      <td>1.0</td>\n",
              "      <td>0.000000</td>\n",
              "      <td>0.0</td>\n",
              "      <td>0.0</td>\n",
              "      <td>0.0</td>\n",
              "      <td>0.0</td>\n",
              "      <td>0.0</td>\n",
              "      <td>1.0</td>\n",
              "    </tr>\n",
              "    <tr>\n",
              "      <th>4</th>\n",
              "      <td>0.0</td>\n",
              "      <td>0.0</td>\n",
              "      <td>0.015873</td>\n",
              "      <td>1.0</td>\n",
              "      <td>0.0</td>\n",
              "      <td>0.022695</td>\n",
              "      <td>0.1875</td>\n",
              "      <td>0.000000</td>\n",
              "      <td>0.088235</td>\n",
              "      <td>0.444165</td>\n",
              "      <td>0.751895</td>\n",
              "      <td>0.639535</td>\n",
              "      <td>0.000000</td>\n",
              "      <td>0.643241</td>\n",
              "      <td>0.000000</td>\n",
              "      <td>0.040</td>\n",
              "      <td>0.0</td>\n",
              "      <td>0.000000</td>\n",
              "      <td>0.0</td>\n",
              "      <td>0.0</td>\n",
              "      <td>0.0</td>\n",
              "      <td>1.0</td>\n",
              "      <td>0.0</td>\n",
              "      <td>0.0</td>\n",
              "    </tr>\n",
              "  </tbody>\n",
              "</table>\n",
              "</div>\n",
              "      <button class=\"colab-df-convert\" onclick=\"convertToInteractive('df-1538778b-d376-4ae5-96d0-ab848c05ae07')\"\n",
              "              title=\"Convert this dataframe to an interactive table.\"\n",
              "              style=\"display:none;\">\n",
              "        \n",
              "  <svg xmlns=\"http://www.w3.org/2000/svg\" height=\"24px\"viewBox=\"0 0 24 24\"\n",
              "       width=\"24px\">\n",
              "    <path d=\"M0 0h24v24H0V0z\" fill=\"none\"/>\n",
              "    <path d=\"M18.56 5.44l.94 2.06.94-2.06 2.06-.94-2.06-.94-.94-2.06-.94 2.06-2.06.94zm-11 1L8.5 8.5l.94-2.06 2.06-.94-2.06-.94L8.5 2.5l-.94 2.06-2.06.94zm10 10l.94 2.06.94-2.06 2.06-.94-2.06-.94-.94-2.06-.94 2.06-2.06.94z\"/><path d=\"M17.41 7.96l-1.37-1.37c-.4-.4-.92-.59-1.43-.59-.52 0-1.04.2-1.43.59L10.3 9.45l-7.72 7.72c-.78.78-.78 2.05 0 2.83L4 21.41c.39.39.9.59 1.41.59.51 0 1.02-.2 1.41-.59l7.78-7.78 2.81-2.81c.8-.78.8-2.07 0-2.86zM5.41 20L4 18.59l7.72-7.72 1.47 1.35L5.41 20z\"/>\n",
              "  </svg>\n",
              "      </button>\n",
              "      \n",
              "  <style>\n",
              "    .colab-df-container {\n",
              "      display:flex;\n",
              "      flex-wrap:wrap;\n",
              "      gap: 12px;\n",
              "    }\n",
              "\n",
              "    .colab-df-convert {\n",
              "      background-color: #E8F0FE;\n",
              "      border: none;\n",
              "      border-radius: 50%;\n",
              "      cursor: pointer;\n",
              "      display: none;\n",
              "      fill: #1967D2;\n",
              "      height: 32px;\n",
              "      padding: 0 0 0 0;\n",
              "      width: 32px;\n",
              "    }\n",
              "\n",
              "    .colab-df-convert:hover {\n",
              "      background-color: #E2EBFA;\n",
              "      box-shadow: 0px 1px 2px rgba(60, 64, 67, 0.3), 0px 1px 3px 1px rgba(60, 64, 67, 0.15);\n",
              "      fill: #174EA6;\n",
              "    }\n",
              "\n",
              "    [theme=dark] .colab-df-convert {\n",
              "      background-color: #3B4455;\n",
              "      fill: #D2E3FC;\n",
              "    }\n",
              "\n",
              "    [theme=dark] .colab-df-convert:hover {\n",
              "      background-color: #434B5C;\n",
              "      box-shadow: 0px 1px 3px 1px rgba(0, 0, 0, 0.15);\n",
              "      filter: drop-shadow(0px 1px 2px rgba(0, 0, 0, 0.3));\n",
              "      fill: #FFFFFF;\n",
              "    }\n",
              "  </style>\n",
              "\n",
              "      <script>\n",
              "        const buttonEl =\n",
              "          document.querySelector('#df-1538778b-d376-4ae5-96d0-ab848c05ae07 button.colab-df-convert');\n",
              "        buttonEl.style.display =\n",
              "          google.colab.kernel.accessAllowed ? 'block' : 'none';\n",
              "\n",
              "        async function convertToInteractive(key) {\n",
              "          const element = document.querySelector('#df-1538778b-d376-4ae5-96d0-ab848c05ae07');\n",
              "          const dataTable =\n",
              "            await google.colab.kernel.invokeFunction('convertToInteractive',\n",
              "                                                     [key], {});\n",
              "          if (!dataTable) return;\n",
              "\n",
              "          const docLinkHtml = 'Like what you see? Visit the ' +\n",
              "            '<a target=\"_blank\" href=https://colab.research.google.com/notebooks/data_table.ipynb>data table notebook</a>'\n",
              "            + ' to learn more about interactive tables.';\n",
              "          element.innerHTML = '';\n",
              "          dataTable['output_type'] = 'display_data';\n",
              "          await google.colab.output.renderOutput(dataTable, element);\n",
              "          const docLink = document.createElement('div');\n",
              "          docLink.innerHTML = docLinkHtml;\n",
              "          element.appendChild(docLink);\n",
              "        }\n",
              "      </script>\n",
              "    </div>\n",
              "  </div>\n",
              "  "
            ],
            "text/plain": [
              "    0    1         2    3    4         5   ...   18   19   20   21   22   23\n",
              "0  1.0  0.0  0.047619  0.0  0.0  0.014184  ...  1.0  0.0  1.0  0.0  0.0  0.0\n",
              "1  0.0  0.0  0.031746  0.0  0.0  0.200000  ...  0.0  1.0  0.0  0.0  0.0  0.0\n",
              "2  0.0  0.0  0.015873  0.0  0.0  0.008511  ...  0.0  0.0  0.0  0.0  0.0  0.0\n",
              "3  0.0  0.0  0.031746  0.0  0.0  0.036170  ...  0.0  0.0  0.0  0.0  0.0  1.0\n",
              "4  0.0  0.0  0.015873  1.0  0.0  0.022695  ...  0.0  0.0  0.0  1.0  0.0  0.0\n",
              "\n",
              "[5 rows x 24 columns]"
            ]
          },
          "metadata": {},
          "execution_count": 47
        }
      ]
    },
    {
      "cell_type": "code",
      "execution_count": 48,
      "metadata": {
        "colab": {
          "base_uri": "https://localhost:8080/"
        },
        "id": "FSzzbNFo1BYB",
        "outputId": "c19f32dd-abf2-4e41-fd57-2db19d1ee9f0"
      },
      "outputs": [
        {
          "output_type": "execute_result",
          "data": {
            "text/plain": [
              "24"
            ]
          },
          "metadata": {},
          "execution_count": 48
        }
      ],
      "source": [
        "len(feature_names)"
      ]
    },
    {
      "cell_type": "code",
      "execution_count": 49,
      "metadata": {
        "colab": {
          "base_uri": "https://localhost:8080/"
        },
        "id": "WGVvCxN_Dy78",
        "outputId": "d5291b50-343e-4c3c-e095-853a417bf3ed"
      },
      "outputs": [
        {
          "output_type": "execute_result",
          "data": {
            "text/plain": [
              "0    14999\n",
              "2    11999\n",
              "1    11493\n",
              "3    10003\n",
              "Name: Label, dtype: int64"
            ]
          },
          "metadata": {},
          "execution_count": 49
        }
      ],
      "source": [
        "y.value_counts()"
      ]
    },
    {
      "cell_type": "code",
      "execution_count": 50,
      "metadata": {
        "id": "LFk1a1sxMDO_"
      },
      "outputs": [],
      "source": [
        "# from keras.utils.np_utils import to_categorical\n",
        "# y_cat = to_categorical(Y)\n",
        "# y_cat"
      ]
    },
    {
      "cell_type": "code",
      "execution_count": 51,
      "metadata": {
        "id": "Q9eEi-MCwPYS"
      },
      "outputs": [],
      "source": [
        "from sklearn.model_selection import train_test_split\n",
        "X_train,X_test,y_train,y_test=train_test_split(X,y,test_size=0.2,random_state=42)"
      ]
    },
    {
      "cell_type": "code",
      "source": [
        "y_train.value_counts()"
      ],
      "metadata": {
        "colab": {
          "base_uri": "https://localhost:8080/"
        },
        "id": "FlGATb4TZHW1",
        "outputId": "f6eec69f-bdc7-4709-f611-d837d9f6c2af"
      },
      "execution_count": 52,
      "outputs": [
        {
          "output_type": "execute_result",
          "data": {
            "text/plain": [
              "0    12011\n",
              "2     9584\n",
              "1     9183\n",
              "3     8017\n",
              "Name: Label, dtype: int64"
            ]
          },
          "metadata": {},
          "execution_count": 52
        }
      ]
    },
    {
      "cell_type": "markdown",
      "metadata": {
        "id": "uv846a35tDkG"
      },
      "source": [
        "Training and tuning ML models"
      ]
    },
    {
      "cell_type": "code",
      "execution_count": null,
      "metadata": {
        "id": "5pItq3FDY-aQ",
        "colab": {
          "base_uri": "https://localhost:8080/"
        },
        "outputId": "b9090388-9446-4718-bdaa-4173418546df"
      },
      "outputs": [
        {
          "output_type": "execute_result",
          "data": {
            "text/plain": [
              "0    12011\n",
              "2     9584\n",
              "1     9183\n",
              "3     8017\n",
              "Name: Label, dtype: int64"
            ]
          },
          "metadata": {},
          "execution_count": 53
        }
      ],
      "source": [
        "# from imblearn.over_sampling import SMOTE\n",
        "# sm = SMOTE(sampling_strategy='not majority',k_neighbors=25)\n",
        "# X_train, y_train = sm.fit_resample(X_train, y_train)\n",
        "# from imblearn.over_sampling import ADASYN\n",
        "# ada=ADASYN(sampling_strategy='not majority',random_state=130,n_neighbors=10)\n",
        "# X_train,y_train=ada.fit_resample(X_train,y_train)\n",
        "\n",
        "# from imblearn.over_sampling import RandomOverSampler\n",
        "\n",
        "# ros = RandomOverSampler(random_state=42,sampling_strategy={0:12030,1:12030,2:12030,3:12030})\n",
        "# X_train,y_train=ros.fit_resample(X_train,y_train)\n",
        "\n",
        "\n",
        "# from imblearn.under_sampling import NearMiss\n",
        "# nr = NearMiss()\n",
        "# X_train,y_train=nr.fit_resample(X_train,y_train)\n",
        "\n",
        "y_train.value_counts()"
      ]
    },
    {
      "cell_type": "markdown",
      "source": [
        "Random Forest model"
      ],
      "metadata": {
        "id": "k3UtaZCMJYTP"
      }
    },
    {
      "cell_type": "code",
      "source": [
        "from sklearn.model_selection import GridSearchCV\n",
        "from sklearn.ensemble import RandomForestClassifier\n",
        "\n",
        "param_grid = {\n",
        "     'n_estimators': [100, 200,300,400],\n",
        "    'min_samples_leaf': [1,2,4,8],\n",
        "    'min_samples_split': [2,4,6,8,10]\n",
        "   \n",
        "}\n",
        "rf = RandomForestClassifier()\n",
        "grid_search = GridSearchCV(estimator=rf, param_grid = param_grid,scoring='accuracy',random_state=42, cv = 3, n_jobs = -1, verbose = 2,)\n",
        "grid_search.fit(X_train, y_train)\n",
        "grid_search.best_params_"
      ],
      "metadata": {
        "id": "CrGdla83-vLi"
      },
      "execution_count": null,
      "outputs": []
    },
    {
      "cell_type": "code",
      "execution_count": null,
      "metadata": {
        "id": "4VHZSpxwgFC1",
        "colab": {
          "base_uri": "https://localhost:8080/"
        },
        "outputId": "a92910c9-5f91-4e7d-f6cc-924091aa85c8"
      },
      "outputs": [
        {
          "output_type": "execute_result",
          "data": {
            "text/plain": [
              "array([2, 2, 3, ..., 2, 2, 2])"
            ]
          },
          "metadata": {},
          "execution_count": 55
        }
      ],
      "source": [
        "from sklearn.ensemble import RandomForestClassifier\n",
        "\n",
        "clf=RandomForestClassifier(min_samples_leaf= 1, min_samples_split= 2, n_estimators= 400,random_state=42)\n",
        "clf.fit(X_train,y_train)\n",
        "y_pred=clf.predict(X_test)\n",
        "y_pred"
      ]
    },
    {
      "cell_type": "code",
      "source": [
        ""
      ],
      "metadata": {
        "id": "F_8umQs4DIYH"
      },
      "execution_count": null,
      "outputs": []
    },
    {
      "cell_type": "code",
      "execution_count": null,
      "metadata": {
        "colab": {
          "base_uri": "https://localhost:8080/"
        },
        "id": "pYmEmwQyTsH2",
        "outputId": "a3520e66-1387-4fd8-bbfe-db99dabe0203"
      },
      "outputs": [
        {
          "output_type": "stream",
          "name": "stdout",
          "text": [
            "              precision    recall  f1-score   support\n",
            "\n",
            "           0     0.9341    0.9226    0.9283      3025\n",
            "           1     0.9000    0.8950    0.8975      2323\n",
            "           2     0.9905    0.9963    0.9934      2401\n",
            "           3     0.9678    0.9856    0.9766      1950\n",
            "\n",
            "    accuracy                         0.9469      9699\n",
            "   macro avg     0.9481    0.9499    0.9489      9699\n",
            "weighted avg     0.9466    0.9469    0.9467      9699\n",
            "\n"
          ]
        }
      ],
      "source": [
        "\n",
        "from sklearn.metrics import classification_report\n",
        "ypred = clf.predict(X_test)\n",
        "print(classification_report(ypred, y_test,digits=4))"
      ]
    },
    {
      "cell_type": "code",
      "source": [
        "cm = confusion_matrix(y_test, y_pred)\n",
        "cm_df = pd.DataFrame(cm,\n",
        "                     index = ['Safe', 'Phish','Spam','Malware'], \n",
        "                     columns = ['Safe', 'Phish','Spam','Malware'])\n",
        "plt.figure(figsize=(5,4))\n",
        "plt.ticklabel_format(style='plain', axis='y',)\n",
        "\n",
        "sns.heatmap(cm_df, annot=True,fmt='g')\n",
        "plt.title('Confusion Matrix')\n",
        "plt.ylabel('Actal Values')\n",
        "plt.xlabel('Predicted Values')\n",
        "plt.show()"
      ],
      "metadata": {
        "colab": {
          "base_uri": "https://localhost:8080/",
          "height": 295
        },
        "id": "KjQj8wraP6y8",
        "outputId": "7f8be779-1807-4d07-ca04-7b0ba4f02125"
      },
      "execution_count": null,
      "outputs": [
        {
          "output_type": "display_data",
          "data": {
            "image/png": "[encoded data removed]",
            "text/plain": [
              "<Figure size 360x288 with 2 Axes>"
            ]
          },
          "metadata": {
            "needs_background": "light"
          }
        }
      ]
    },
    {
      "cell_type": "code",
      "execution_count": null,
      "metadata": {
        "id": "g_uFsPjEVMUU",
        "colab": {
          "base_uri": "https://localhost:8080/",
          "height": 407
        },
        "outputId": "424304ff-4195-4615-b454-09b5e2bbcb56"
      },
      "outputs": [
        {
          "output_type": "execute_result",
          "data": {
            "text/plain": [
              "<matplotlib.axes._subplots.AxesSubplot at 0x7f3f27f87890>"
            ]
          },
          "metadata": {},
          "execution_count": 58
        },
        {
          "output_type": "display_data",
          "data": {
            "image/png": "[encoded data removed]",
            "text/plain": [
              "<Figure size 432x432 with 2 Axes>"
            ]
          },
          "metadata": {
            "needs_background": "light"
          }
        }
      ],
      "source": [
        "cf_matrix = confusion_matrix(ypred, y_test)\n",
        "group_counts = [\"{0:0.0f}\".format(value) for value in cf_matrix.flatten()]\n",
        "group_percentages=[]\n",
        "for i in range(0,4):\n",
        "  a=(cf_matrix[i] / np.sum(cf_matrix[i]))*100\n",
        "  #avg=[\"{0:.2%}\".format(value) for value in a]\n",
        "  for val in a:\n",
        "    val=round(val,2)\n",
        "    group_percentages.append(val)\n",
        " \n",
        "labels = [\n",
        "        f\"{v2}\\n{v3}\"\n",
        "        for  v2, v3 in zip(group_counts, group_percentages)\n",
        "    ]\n",
        "labels = np.asarray(labels).reshape(4, 4)\n",
        "plt.figure(figsize=(6,6))\n",
        "plt.title(\"Confusion Matrix for Multi-Class URL CLassisfication \")\n",
        "x_axis_labels=['Safe', 'Phish','Spam','Malware']\n",
        "sns.heatmap(cf_matrix, annot=labels, fmt=\"\", cmap=\"Blues\",xticklabels=x_axis_labels, yticklabels=x_axis_labels)"
      ]
    },
    {
      "cell_type": "code",
      "execution_count": null,
      "metadata": {
        "id": "Qghj-43uhg2T"
      },
      "outputs": [],
      "source": [
        "plt.figure(figsize=(10,9))\n",
        "plt.barh(feature_names, clf.feature_importances_)\n"
      ]
    },
    {
      "cell_type": "code",
      "source": [
        "pickle.dump(clf, open(\"rf.dat\", \"wb\"))\n",
        "clf2 = pickle.load(open(\"rf.dat\", \"rb\"))\n",
        "from sklearn.metrics import classification_report\n",
        "ypred = clf2.predict(X_test)\n",
        "print(classification_report(ypred, y_test,digits=4))"
      ],
      "metadata": {
        "colab": {
          "base_uri": "https://localhost:8080/"
        },
        "id": "vAiHN_RrRTNu",
        "outputId": "126251a9-3f13-4579-fb0b-39835c10733a"
      },
      "execution_count": null,
      "outputs": [
        {
          "output_type": "stream",
          "name": "stdout",
          "text": [
            "              precision    recall  f1-score   support\n",
            "\n",
            "           0     0.9341    0.9226    0.9283      3025\n",
            "           1     0.9000    0.8950    0.8975      2323\n",
            "           2     0.9905    0.9963    0.9934      2401\n",
            "           3     0.9678    0.9856    0.9766      1950\n",
            "\n",
            "    accuracy                         0.9469      9699\n",
            "   macro avg     0.9481    0.9499    0.9489      9699\n",
            "weighted avg     0.9466    0.9469    0.9467      9699\n",
            "\n"
          ]
        }
      ]
    },
    {
      "cell_type": "markdown",
      "source": [
        "XGBoost model"
      ],
      "metadata": {
        "id": "KQi32uuFJT_o"
      }
    },
    {
      "cell_type": "code",
      "execution_count": null,
      "metadata": {
        "id": "MX13z-dF1c2a"
      },
      "outputs": [],
      "source": [
        "from xgboost import XGBClassifier\n",
        "xgb = XGBClassifier()\n",
        "params = { 'max_depth': [6,10,20,30],\n",
        "          'n_estimators': [500,1000, 2000],\n",
        "           'learning_rate': [0.01]\n",
        "          #  'subsample': [0.5,0.7],\n",
        "          #  'colsample_bytree': [0.4,0.6],\n",
        "          #  'colsample_bylevel': [0.4,0.6,0.8],\n",
        "           }\n",
        "\n",
        "grid_search = GridSearchCV(estimator=xgb,param_grid=params,cv=3, verbose=2, n_jobs=-1,scoring='accuracy')\n",
        "grid_search.fit(X_train, y_train)\n",
        "grid_search.best_params_"
      ]
    },
    {
      "cell_type": "code",
      "execution_count": null,
      "metadata": {
        "id": "th9LuEoJ1c0H",
        "colab": {
          "base_uri": "https://localhost:8080/"
        },
        "outputId": "01bebed8-d007-48d1-8e53-541c2f9e8173"
      },
      "outputs": [
        {
          "output_type": "stream",
          "name": "stdout",
          "text": [
            "              precision    recall  f1-score   support\n",
            "\n",
            "           0     0.9321    0.9152    0.9236      3043\n",
            "           1     0.8848    0.8996    0.8922      2272\n",
            "           2     0.9938    0.9950    0.9944      2412\n",
            "           3     0.9728    0.9797    0.9763      1972\n",
            "\n",
            "    accuracy                         0.9445      9699\n",
            "   macro avg     0.9459    0.9474    0.9466      9699\n",
            "weighted avg     0.9446    0.9445    0.9445      9699\n",
            "\n"
          ]
        }
      ],
      "source": [
        "from xgboost import XGBClassifier\n",
        "xgb= XGBClassifier(learning_rate= 0.01,n_estimators=2000,max_depth= 8)\n",
        "xgb.fit(X_train, y_train)\n",
        "y_pred = xgb.predict(X_test)\n",
        "print(classification_report(y_pred, y_test,digits=4))"
      ]
    },
    {
      "cell_type": "code",
      "execution_count": null,
      "metadata": {
        "id": "Ruyna9O61cxn"
      },
      "outputs": [],
      "source": [
        ""
      ]
    },
    {
      "cell_type": "code",
      "source": [
        "cm = confusion_matrix(y_test, y_pred)\n",
        "cm_df = pd.DataFrame(cm,\n",
        "                     index = ['Safe', 'Phish','Spam','Malware'], \n",
        "                     columns = ['Safe', 'Phish','Spam','Malware'])\n",
        "plt.figure(figsize=(5,4))\n",
        "plt.ticklabel_format(style='plain', axis='y',)\n",
        "\n",
        "sns.heatmap(cm_df, annot=True,fmt='g')\n",
        "plt.title('Confusion Matrix')\n",
        "plt.ylabel('Actal Values')\n",
        "plt.xlabel('Predicted Values')\n",
        "plt.show()"
      ],
      "metadata": {
        "id": "Dyd6y4g0-CNH",
        "colab": {
          "base_uri": "https://localhost:8080/",
          "height": 295
        },
        "outputId": "70afd459-1d37-40c8-cfc8-a1eca352e26b"
      },
      "execution_count": null,
      "outputs": [
        {
          "output_type": "display_data",
          "data": {
            "image/png": "[encoded data removed]",
            "text/plain": [
              "<Figure size 360x288 with 2 Axes>"
            ]
          },
          "metadata": {
            "needs_background": "light"
          }
        }
      ]
    },
    {
      "cell_type": "code",
      "execution_count": null,
      "metadata": {
        "id": "isDzbg9PVQxf",
        "colab": {
          "base_uri": "https://localhost:8080/",
          "height": 407
        },
        "outputId": "34642595-5dce-420d-823c-a099ae1a17a8"
      },
      "outputs": [
        {
          "output_type": "execute_result",
          "data": {
            "text/plain": [
              "<matplotlib.axes._subplots.AxesSubplot at 0x7f30cd7ef4d0>"
            ]
          },
          "metadata": {},
          "execution_count": 67
        },
        {
          "output_type": "display_data",
          "data": {
            "image/png": "[encoded data removed]",
            "text/plain": [
              "<Figure size 432x432 with 2 Axes>"
            ]
          },
          "metadata": {
            "needs_background": "light"
          }
        }
      ],
      "source": [
        "cf_matrix = confusion_matrix(y_pred, y_test)\n",
        "group_counts = [\"{0:0.0f}\".format(value) for value in cf_matrix.flatten()]\n",
        "group_percentages=[]\n",
        "for i in range(0,4):\n",
        "  a=(cf_matrix[i] / np.sum(cf_matrix[i]))*100\n",
        "  #avg=[\"{0:.2%}\".format(value) for value in a]\n",
        "  for val in a:\n",
        "    val=round(val,2)\n",
        "    group_percentages.append(val)\n",
        " \n",
        "labels = [\n",
        "        f\"{v2}\\n{v3}\"\n",
        "        for  v2, v3 in zip(group_counts, group_percentages)\n",
        "    ]\n",
        "labels = np.asarray(labels).reshape(4, 4)\n",
        "plt.figure(figsize=(6,6))\n",
        "plt.title(\"Confusion Matrix for Multi-Class URL CLassisfication \")\n",
        "x_axis_labels=['Safe', 'Phish','Spam','Malware']\n",
        "sns.heatmap(cf_matrix, annot=labels, fmt=\"\", cmap=\"Blues\",xticklabels=x_axis_labels, yticklabels=x_axis_labels)"
      ]
    },
    {
      "cell_type": "code",
      "execution_count": null,
      "metadata": {
        "id": "Bt3Ewo0whg0F",
        "colab": {
          "base_uri": "https://localhost:8080/",
          "height": 533
        },
        "outputId": "e8bf00f0-13fc-43a6-d3fd-f38113b03d7f"
      },
      "outputs": [
        {
          "output_type": "display_data",
          "data": {
            "image/png": "[encoded data removed]",
            "text/plain": [
              "<Figure size 1080x576 with 1 Axes>"
            ]
          },
          "metadata": {
            "needs_background": "light"
          }
        }
      ],
      "source": [
        "from xgboost import plot_importance\n",
        "fig, ax = plt.subplots(figsize=(15, 8))\n",
        "\n",
        "plot_importance(xgb,ax=ax,importance_type='gain')\n",
        "\n",
        "plt.show()"
      ]
    },
    {
      "cell_type": "code",
      "source": [
        ""
      ],
      "metadata": {
        "id": "tbI7h5JQRFtz"
      },
      "execution_count": null,
      "outputs": []
    },
    {
      "cell_type": "code",
      "source": [
        "# from catboost import CatBoostClassifier\n",
        "# cat = CatBoostClassifier()\n",
        "\n",
        "\n",
        "# params = { 'n_estimators': [500,1000, 2000],\n",
        "#             'max_depth': [6,10,20,30],\n",
        "#            'learning_rate': [0.01]\n",
        "#            }\n",
        "\n",
        "# grid_search = GridSearchCV(estimator=cat,param_grid=params,cv=3, verbose=2, n_jobs=-1,scoring='accuracy')\n",
        "# grid_search.fit(X_train, y_train)\n",
        "# grid_search.best_params_"
      ],
      "metadata": {
        "id": "QVEHAPOubFST"
      },
      "execution_count": null,
      "outputs": []
    },
    {
      "cell_type": "code",
      "source": [
        "# !pip install catboost\n",
        "\n",
        "\n",
        "# # train the model on train set\n",
        "# model = CatBoostClassifier(learning_rate=0.1,n_estimators= 100,max_depth=16)\n",
        "# model.fit(X_train, y_train,verbose=0)\n",
        " \n",
        "\n"
      ],
      "metadata": {
        "id": "l-_gL5Z2Dt8O"
      },
      "execution_count": null,
      "outputs": []
    },
    {
      "cell_type": "code",
      "source": [
        "# # print prediction results\n",
        "# predictions = model.predict(X_test)\n",
        "# print(classification_report(y_test, predictions,digits=4))"
      ],
      "metadata": {
        "id": "Y4u45VnMWqaI"
      },
      "execution_count": null,
      "outputs": []
    },
    {
      "cell_type": "code",
      "source": [
        ""
      ],
      "metadata": {
        "id": "Q3_PspMmDt5_"
      },
      "execution_count": null,
      "outputs": []
    },
    {
      "cell_type": "code",
      "source": [
        "from sklearn.ensemble import AdaBoostClassifier\n",
        "from sklearn.model_selection import GridSearchCV\n",
        "\n",
        "ada = AdaBoostClassifier()\n",
        "\n",
        "\n",
        "params = {\n",
        "           'learning_rate': [1,1.1],\n",
        "\n",
        "           'n_estimators': [200,500,1000,2000]}\n",
        "\n",
        "grid_search = GridSearchCV(estimator=ada,param_grid=params,cv=3, verbose=2, n_jobs=-1,scoring='accuracy')\n",
        "grid_search.fit(X_train, y_train)\n",
        "grid_search.best_params_"
      ],
      "metadata": {
        "id": "5e343mBFbqPe",
        "colab": {
          "base_uri": "https://localhost:8080/"
        },
        "outputId": "545ca638-4dcc-4a8d-f429-60279b04668d"
      },
      "execution_count": 54,
      "outputs": [
        {
          "output_type": "stream",
          "name": "stdout",
          "text": [
            "Fitting 3 folds for each of 8 candidates, totalling 24 fits\n"
          ]
        },
        {
          "output_type": "execute_result",
          "data": {
            "text/plain": [
              "{'learning_rate': 1.1, 'n_estimators': 500}"
            ]
          },
          "metadata": {},
          "execution_count": 54
        }
      ]
    },
    {
      "cell_type": "code",
      "source": [
        "from sklearn.metrics import classification_report\n",
        "\n",
        "abc = AdaBoostClassifier(n_estimators=500,learning_rate=1.1)\n",
        "model = abc.fit(X_train, y_train)\n",
        "predictions = model.predict(X_test)\n",
        "print(classification_report(y_test, predictions,digits=4))"
      ],
      "metadata": {
        "id": "wntpNmaFDt3c",
        "colab": {
          "base_uri": "https://localhost:8080/"
        },
        "outputId": "edb8a535-c2a2-4d8c-cb94-a501f680530a"
      },
      "execution_count": 56,
      "outputs": [
        {
          "output_type": "stream",
          "name": "stdout",
          "text": [
            "              precision    recall  f1-score   support\n",
            "\n",
            "           0     0.7583    0.8317    0.7933      2988\n",
            "           1     0.7139    0.6545    0.6829      2310\n",
            "           2     0.8576    0.7979    0.8267      2415\n",
            "           3     0.8381    0.8681    0.8528      1986\n",
            "\n",
            "    accuracy                         0.7885      9699\n",
            "   macro avg     0.7920    0.7881    0.7889      9699\n",
            "weighted avg     0.7888    0.7885    0.7875      9699\n",
            "\n"
          ]
        }
      ]
    },
    {
      "cell_type": "code",
      "source": [
        ""
      ],
      "metadata": {
        "id": "nUf4Mu0jDFq-"
      },
      "execution_count": null,
      "outputs": []
    },
    {
      "cell_type": "markdown",
      "metadata": {
        "id": "P0HZYLAM2J7h"
      },
      "source": [
        "Feature Extraction"
      ]
    },
    {
      "cell_type": "code",
      "execution_count": null,
      "metadata": {
        "id": "zciG69ShILpc"
      },
      "outputs": [],
      "source": [
        "#check for IP in URL domain\n",
        "def havingIP(url):\n",
        "    regex=re.compile('.*\\d+\\.\\d+\\.\\d+\\.\\d+\\.*')\n",
        "    d=regex.match(url)\n",
        "    if d==None:\n",
        "        return 0\n",
        "    else:\n",
        "        return 1\n",
        "\n",
        "def haveAtSign(url):\n",
        "  if \"@\" in url:\n",
        "    at = 1    \n",
        "  else:\n",
        "    at = 0    \n",
        "  return at\n",
        "\n",
        "# count number of dots\n",
        "def countDot(url):\n",
        "  return url.count('.')\n",
        "\n",
        "def prefixSuffix(url):\n",
        "    if '-' in urlparse(url).netloc:\n",
        "        return 1            # phishing\n",
        "    else:\n",
        "        return 0\n",
        "# Checking for redirection '//' in the url (Redirection)\n",
        "def redirection(url):\n",
        "  pos = url.rfind('//')\n",
        "  if pos < 8:\n",
        "      return 0\n",
        "  else:\n",
        "    return 1\n",
        "\n",
        "# Existence of “HTTPS” Token in the Domain Part of the URL (https_Domain)\n",
        "def httpDomain(url):\n",
        "  domain = urlparse(url).netloc\n",
        "  if 'https' in domain:\n",
        "    return 1\n",
        "  else:\n",
        "    return 0\n",
        "# Calculating domain length \n",
        "def domain_length(url):\n",
        "    domain = urlparse(url).netloc\n",
        "    return(len(domain))\n",
        "\n",
        "# Calculating path length\n",
        "# def path_length(url):\n",
        "#     path = urlparse(url).path\n",
        "#     return(len(path))\n",
        "\n",
        "# Function for calcuating Shannon Entropy of a string\n",
        "def shannon_entropy(string):\n",
        "    counts = Counter(string)\n",
        "    frequencies = ((i / len(string)) for i in counts.values())\n",
        "    return - sum(f * log(f, 2) for f in frequencies)\n",
        "\n",
        "# Calculating Shannon Entropy of URL\n",
        "def url_shannon_entropy(url):\n",
        "    return shannon_entropy(url)\n",
        "\n",
        "# Calculating Shannon Entropy of Domain\n",
        "def domain_shannon_entropy(url):\n",
        "    domain = urlparse(url).netloc\n",
        "    return shannon_entropy(domain)\n",
        "\n",
        "# Calculating Shannon Entropy of Path\n",
        "def path_shannon_entropy(url):\n",
        "    path = urlparse(url).path\n",
        "    return shannon_entropy(path)\n",
        "\n",
        "# Calculating Shannon Entropy of Query\n",
        "def query_shannon_entropy(url):\n",
        "    query= urlparse(url).query\n",
        "    return shannon_entropy(query)\n",
        "\n",
        "# Calculating Shannon Entropy of Path+Query\n",
        "def query_path_shannon_entropy(url):\n",
        "    pathquery= urlparse(url).path+'?'+urlparse(url).query\n",
        "    return shannon_entropy(pathquery)\n",
        "\n",
        "# Check if dangerous extension is present in the URL\n",
        "# Reference : https://www.howtogeek.com/137270/50-file-extensions-that-are-potentially-dangerous-on-windows/\n",
        "# Ref : https://sensorstechforum.com/popular-windows-file-types-used-malware-2018/\n",
        "def suspiciousExtension(url):\n",
        "    dangerous_extensions=['.exe','.pif','.application','.gadget',\n",
        "                          '.msi','.msp','.scr','.hta','.cpl','.msc','.jar',\n",
        "                         '.bat','.cmd','.vb','.vbs','.vbe','.js','.jse'\n",
        "                         ,'.ws','.wsf','.wsc','.wsh','.ps1','.ps1xml','.ps2'\n",
        "                         ,'.ps2xml','.psc1','.psc2','.msh','.scf','.lnk',\n",
        "                         '.inf','.reg','htm','.hta','.sfx','.dll','.tmp','.py']\n",
        "    for extension in dangerous_extensions:\n",
        "        if re.search(extension,url):\n",
        "            return 1\n",
        "    return 0\n",
        "\n",
        "\n",
        "# Checking if %20 percent in the URL\n",
        "def spacePresent(url):\n",
        "    if re.search('%20',url):\n",
        "        return 1\n",
        "    else:\n",
        "        return 0\n",
        "\n",
        "\n",
        "# Count number of special characters in the URL\n",
        "def specialCharacters(url): \n",
        "    special_char= 0\n",
        "    for c in url:\n",
        "        if (c.isalpha()): \n",
        "            continue\n",
        "        elif (c.isdigit()):\n",
        "            continue\n",
        "        else: \n",
        "            special_char += 1\n",
        "    return special_char\n",
        "\n",
        "# Check if suspicious words - (security sensitive words/ brand names) present in the URL\n",
        "# Reference to list of words: Tupsamudre H., Singh A.K., Lodha S. (2019) Everything Is in the Name – A URL Based Approach for Phishing Detection. In: Dolev S., Hendler D., Lodha S., Yung M. (eds) Cyber Security Cryptography and Machine Learning. CSCML 2019. Lecture Notes in Computer Science, vol 11527. Springer, Cham. https://doi.org/10.1007/978-3-030-20951-3_21\n",
        "def suspiciousWords(url):\n",
        "    \n",
        "    suspicious_words=['paypal','ali','safety','verify','google','netflix','instagram',\n",
        "                     'icici','hdfc', 'apple','facebook','amazon','porn','gamble',\n",
        "                      'award','limited','securewebsession','confirmation',\n",
        "                    'signin','protection','access','redirectme','secure',\n",
        "                      'recovery', 'verify','limited','secure',\n",
        "     'web',\n",
        "     'session',\n",
        "     'confirmation',\n",
        "     'page',\n",
        "     'sign',\n",
        "     'team',\n",
        "     'access',\n",
        "     'protection',\n",
        "     'active',\n",
        "     'manage',\n",
        "     'redirectme',\n",
        "     'secure',\n",
        "     'customer',\n",
        "     'account',\n",
        "     'client',\n",
        "     'information',\n",
        "     'recovery',\n",
        "     'verify',\n",
        "     'secured',\n",
        "     'business',\n",
        "     'refund',\n",
        "     'help',\n",
        "     'safe',\n",
        "     'bank',\n",
        "     'event',\n",
        "     'promo',\n",
        "     'webservis',\n",
        "     'giveaway',\n",
        "     'card',\n",
        "     'webspace',\n",
        "     'user',\n",
        "     'notify',\n",
        "     'servico',\n",
        "     'store',\n",
        "     'device',\n",
        "     'payment',\n",
        "     'webnode',\n",
        "     'drive',\n",
        "     'shop',\n",
        "     'gold',\n",
        "     'violation',\n",
        "     'random',\n",
        "     'upgrade',\n",
        "     'webapp',\n",
        "     'dispute',\n",
        "     'setting',\n",
        "     'banking',\n",
        "     'activity',\n",
        "     'startup',\n",
        "     'review',\n",
        "     'email',\n",
        "     'approval',\n",
        "     'admin',\n",
        "     'browser',\n",
        "     'billing',\n",
        "     'advert',\n",
        "     'protect',\n",
        "     'case',\n",
        "     'temporary',\n",
        "     'alert',\n",
        "     'portal',\n",
        "     'login',\n",
        "     'servehttp',\n",
        "     'center',\n",
        "     'client',\n",
        "     'restore',\n",
        "     'secure',\n",
        "     'blob',\n",
        "     'smart',\n",
        "     'fortune',\n",
        "     'gift',\n",
        "     'server',\n",
        "     'security',\n",
        "     'page',\n",
        "     'confirm',\n",
        "     'notification',\n",
        "     'core',\n",
        "     'host',\n",
        "     'central',\n",
        "     'service',\n",
        "     'account',\n",
        "     'servise',\n",
        "     'support',\n",
        "     'apps',\n",
        "     'form',\n",
        "     'info',\n",
        "     'compute',\n",
        "     'verification',\n",
        "     'check',\n",
        "     'storage',\n",
        "     'setting',\n",
        "     'digital',\n",
        "     'update',\n",
        "     'token',\n",
        "     'required',\n",
        "     'resolution',\n",
        "     'ebay',\n",
        "     'webscr',\n",
        "     'free',\n",
        "     'lucky',\n",
        "     'bonus']\n",
        "    \n",
        "    for word in suspicious_words:\n",
        "        if re.search(word,url):\n",
        "            return 1\n",
        "    return 0\n",
        "\n",
        "# Get number of images \n",
        "def imgCount(url):\n",
        "    try:\n",
        "        response = requests.get(url,timeout=5)\n",
        "        soup = BeautifulSoup(response.content)\n",
        "    except:\n",
        "        return 0\n",
        "    return len(soup.find_all('img'))\n",
        "\n",
        "#listing shortening services\n",
        "shortening_services = r\"bit\\.ly|goo\\.gl|shorte\\.st|go2l\\.ink|x\\.co|ow\\.ly|t\\.co|tinyurl|tr\\.im|is\\.gd|cli\\.gs|\" \\\n",
        "                      r\"yfrog\\.com|migre\\.me|ff\\.im|tiny\\.cc|url4\\.eu|twit\\.ac|su\\.pr|twurl\\.nl|snipurl\\.com|\" \\\n",
        "                      r\"short\\.to|BudURL\\.com|ping\\.fm|post\\.ly|Just\\.as|bkite\\.com|snipr\\.com|fic\\.kr|loopt\\.us|\" \\\n",
        "                      r\"doiop\\.com|short\\.ie|kl\\.am|wp\\.me|rubyurl\\.com|om\\.ly|to\\.ly|bit\\.do|t\\.co|lnkd\\.in|db\\.tt|\" \\\n",
        "                      r\"qr\\.ae|adf\\.ly|goo\\.gl|bitly\\.com|cur\\.lv|tinyurl\\.com|ow\\.ly|bit\\.ly|ity\\.im|q\\.gs|is\\.gd|\" \\\n",
        "                      r\"po\\.st|bc\\.vc|twitthis\\.com|u\\.to|j\\.mp|buzurl\\.com|cutt\\.us|u\\.bb|yourls\\.org|x\\.co|\" \\\n",
        "                      r\"prettylinkpro\\.com|scrnch\\.me|filoops\\.info|vzturl\\.com|qr\\.net|1url\\.com|tweez\\.me|v\\.gd|\" \\\n",
        "                      r\"tr\\.im|link\\.zip\\.net\"\n",
        "\n",
        "\n",
        "#Checking for Shortening Services in URL (Tiny_URL)\n",
        "def tinyURL(url):\n",
        "    match=re.search(shortening_services,url)\n",
        "    if match:\n",
        "      return 1\n",
        "    else:\n",
        "        return 0\n",
        "\n",
        "# Finding the length of URL and categorizing (URL_Length)\n",
        "def getLength(url):         \n",
        "  return len(url)\n",
        "\n",
        "\n",
        "# number of '/' in URL \n",
        "def getSlash(url):\n",
        "  s = urlparse(url).path.split('/')\n",
        "  count = 0\n",
        "  for j in range(len(s)):\n",
        "    if len(s[j]) != 0:\n",
        "      count += 1\n",
        "  return count\n",
        "\n",
        "def numDigits(url):\n",
        "        digits = [i for i in url if i.isdigit()]\n",
        "        return len(digits)\n",
        "\n",
        "\n",
        "def numParameters(url):\n",
        "        params = url.split('&')\n",
        "        return len(params) - 1\n",
        "\n",
        "def numFragments(url):\n",
        "        fragments = url.split('#')\n",
        "        return len(fragments) - 1\n",
        "\n",
        "def numSubDomains(url):\n",
        "        subdomains = url.split('http')[-1].split('//')[-1].split('/')\n",
        "        return len(subdomains)-1\n",
        "\n",
        "def domainExtension(url):\n",
        "        ext = url.split('.')[-1].split('/')[0]\n",
        "        return ext\n",
        "\n",
        "def domainAge(domain_name):\n",
        "  creation_date = domain_name.creation_date\n",
        "  expiration_date = domain_name.expiration_date\n",
        "  if (isinstance(creation_date,str) or isinstance(expiration_date,str)):\n",
        "    try:\n",
        "     # print(\"hi1\")\n",
        "      creation_date = datetime.strptime(creation_date,'%Y-%m-%d')\n",
        "      expiration_date = datetime.strptime(expiration_date,\"%Y-%m-%d\")\n",
        "    except:\n",
        "      return 1\n",
        "  if ((expiration_date is None) or (creation_date is None)):\n",
        "      #print(\"hi2\")\n",
        "      return 1\n",
        "  elif ((type(expiration_date) is list) and (type(creation_date) is list)):\n",
        "        ageofdomain = abs((expiration_date[0] - creation_date[0]).days)\n",
        "  elif (type(creation_date) is list):\n",
        "        ageofdomain = abs((expiration_date - creation_date[0]).days)\n",
        "  elif  (type(expiration_date) is list):\n",
        "        ageofdomain = abs((expiration_date[0] - creation_date).days)\n",
        "  else:\n",
        "        ageofdomain = abs((expiration_date - creation_date).days)\n",
        "  #print(ageofdomain/365.25)\n",
        "  #print(\"hi3\")\n",
        "  #if ((ageofdomain/365.25) < 2):\n",
        "  #    age = 1\n",
        "  #else:\n",
        "  #    age = 0\n",
        "  return (ageofdomain/365.25)\n",
        "\n",
        "def country(domain_name):\n",
        "  return domain_name.country\n",
        "def iframe(response):\n",
        "  if response == \"\":\n",
        "      return 0\n",
        "  else:\n",
        "      #print()\n",
        "      if \"<iframe \" in response.text or 'frameBorder=\"0\"' in response.text:\n",
        "          return 1\n",
        "      else:\n",
        "          return 0\n",
        "def mouseOver(response): \n",
        "  if response == \"\" :\n",
        "    return 1\n",
        "  else:\n",
        "    if re.findall(\"<script>.+onmouseover.+</script>\", response.text):\n",
        "      return 1\n",
        "    else:\n",
        "      return 0\n",
        "\n",
        "\n",
        "def hasMalwExt(url):\n",
        "  print('url:',url)\n",
        "  domainextension=domainExtension(url)\n",
        "  print('dom- ',domainextension)\n",
        "  ext=['m','a','i','sh','exe']\n",
        "  if domainextension in ext:\n",
        "    return 1\n",
        "  return 0\n",
        "\n",
        "def hasPHPext(url):\n",
        "  domainextension=domainExtension(url)\n",
        "  ext=['php']\n",
        "\n",
        "  if domainextension in ext:\n",
        "    return 1\n",
        "  else:\n",
        "    return 0\n",
        "\n",
        "def hasHTMext(url):\n",
        "  domainextension=domainExtension(url)\n",
        "  ext=['htm']\n",
        "\n",
        "  if domainextension in ext:\n",
        "    return 1\n",
        "  else:\n",
        "    return 0\n",
        "\n",
        "def hasHTMLext(url):\n",
        "  domainextension=domainExtension(url)\n",
        "  ext=['html']\n",
        "\n",
        "  if domainextension in ext:\n",
        "    return 1\n",
        "  else:\n",
        "    return 0\n",
        "\n",
        "# Calculating Digit to Letter ratio\n",
        "def digitToLetterRatio(url):\n",
        "    d=0\n",
        "    l=0\n",
        "    for c in url:\n",
        "        if c.isdigit():\n",
        "            d=d+1\n",
        "        elif c.isalpha():\n",
        "            l=l+1\n",
        "        else:\n",
        "            pass\n",
        "    \n",
        "    return(d/l)\n",
        "\n",
        "\n",
        "def featureExtraction(urllis):\n",
        "  dns=0\n",
        "  featureslis=[]\n",
        "  for url in urllis:\n",
        "    print('url list-',url)\n",
        "    features = []\n",
        "    features.append(havingIP(url))\n",
        "    features.append(haveAtSign(url))\n",
        "    features.append(countDot(url))\n",
        "    features.append(prefixSuffix(url))\n",
        "    #features.append(redirection(url))\n",
        "    #features.append(httpDomain(url))\n",
        "    features.append(tinyURL(url))\n",
        "    features.append(getLength(url))\n",
        "    features.append(getSlash(url))\n",
        "    features.append(numDigits(url))\n",
        "    #features.append(numFragments(url))\n",
        "    features.append(numSubDomains(url))\n",
        "    #features.append(domainExtension(url))\n",
        "\n",
        "    features.append(url_shannon_entropy(url))\n",
        "    features.append(domain_shannon_entropy(url))\n",
        "    features.append(path_shannon_entropy(url))\n",
        "    features.append(query_shannon_entropy(url))\n",
        "    features.append(query_path_shannon_entropy(url))\n",
        "    #features.append(suspiciousExtension(url))\n",
        "    #features.append(spacePresent(url))\n",
        "    features.append(digitToLetterRatio(url))\n",
        "    features.append(specialCharacters(url))\n",
        "    features.append(suspiciousWords(url))\n",
        "\n",
        "    \n",
        "    features.append(imgCount(url))\n",
        "   \n",
        "    \n",
        "  # HTML & Javascript based features (4)\n",
        "    try:\n",
        "      response = requests.get(url,timeout=5)\n",
        "    except:\n",
        "      response = \"\"\n",
        "    features.append(iframe(response))\n",
        "    features.append(mouseOver(response))\n",
        "    features.append(hasMalwExt(url))\n",
        "    features.append(hasHTMext(url))\n",
        "    features.append(hasHTMLext(url))\n",
        "    features.append(hasPHPext(url))\n",
        "    #features.append(hasCOM('url'))\n",
        "    #features.append(hasNET('url'))\n",
        "    #features.append(hasIOext('url'))\n",
        "\n",
        "\n",
        "    #features=pd.DataFrame(features,dtype='float32')\n",
        "    #features=np.nan_to_num(features)\n",
        "    #features=features.tolist()\n",
        "    \n",
        "    featureslis.append(features)\n",
        "    print(featureslis)\n",
        "    frame=pd.DataFrame(sc.transform(featureslis))\n",
        "    print(frame)\n",
        "  return frame"
      ]
    },
    {
      "cell_type": "code",
      "execution_count": null,
      "metadata": {
        "id": "mbH4TLs3rKd2"
      },
      "outputs": [],
      "source": [
        "# def prediction (url):\n",
        "#   label=['Safe','Phishing','Spam','Malware']\n",
        "#   feat=featureExtraction(url)\n",
        "#   #print(X_test.iloc[:3,:])\n",
        "#   y_pred_prob = clf2.predict(feat) \n",
        "#   y_pred = y_pred_prob.argmax(axis=-1)\n",
        "#   #print(y_pred_prob)\n",
        "#   print('ypre=',y_pred)\n",
        "\n",
        "\n",
        "#   res=[]\n",
        "#   for i in list(y_pred):\n",
        "#     res.append(label[i])\n",
        "#   return label[y_pred]\n",
        "def prediction (url):\n",
        "  label=['Safe','Phishing','Spam','Malware']\n",
        "  feat=featureExtraction(url)\n",
        "  y_pred_prob = clf2.predict(feat) \n",
        "  print(y_pred_prob)\n",
        "  res=[]\n",
        "  for i in y_pred_prob:\n",
        "    res.append(label[i])\n",
        "  return res"
      ]
    },
    {
      "cell_type": "code",
      "source": [
        ""
      ],
      "metadata": {
        "id": "_LzNyalaIKmx"
      },
      "execution_count": null,
      "outputs": []
    },
    {
      "cell_type": "code",
      "execution_count": null,
      "metadata": {
        "id": "Td2UWqz9HF48"
      },
      "outputs": [],
      "source": [
        "\n",
        "model.save(\"URL_Classifier_Iteration_2.h5\")\n"
      ]
    },
    {
      "cell_type": "code",
      "execution_count": null,
      "metadata": {
        "id": "ouShwr4b5RKl"
      },
      "outputs": [],
      "source": [
        "from pickle import dump\n",
        "dump(sc, open('scaler.pkl', 'wb'))"
      ]
    },
    {
      "cell_type": "code",
      "source": [
        "!pip install scikit-learn==0.24.2"
      ],
      "metadata": {
        "id": "oD-lXP_kikUN",
        "colab": {
          "base_uri": "https://localhost:8080/",
          "height": 329
        },
        "outputId": "ccb4e198-2426-4c92-f409-b52203293fab"
      },
      "execution_count": null,
      "outputs": [
        {
          "output_type": "stream",
          "name": "stdout",
          "text": [
            "Collecting scikit-learn==0.24.2\n",
            "  Downloading scikit_learn-0.24.2-cp37-cp37m-manylinux2010_x86_64.whl (22.3 MB)\n",
            "\u001b[K     |████████████████████████████████| 22.3 MB 38.9 MB/s \n",
            "\u001b[?25hRequirement already satisfied: scipy>=0.19.1 in /usr/local/lib/python3.7/dist-packages (from scikit-learn==0.24.2) (1.4.1)\n",
            "Requirement already satisfied: threadpoolctl>=2.0.0 in /usr/local/lib/python3.7/dist-packages (from scikit-learn==0.24.2) (3.1.0)\n",
            "Requirement already satisfied: joblib>=0.11 in /usr/local/lib/python3.7/dist-packages (from scikit-learn==0.24.2) (1.1.0)\n",
            "Requirement already satisfied: numpy>=1.13.3 in /usr/local/lib/python3.7/dist-packages (from scikit-learn==0.24.2) (1.21.5)\n",
            "Installing collected packages: scikit-learn\n",
            "  Attempting uninstall: scikit-learn\n",
            "    Found existing installation: scikit-learn 1.0.2\n",
            "    Uninstalling scikit-learn-1.0.2:\n",
            "      Successfully uninstalled scikit-learn-1.0.2\n",
            "Successfully installed scikit-learn-0.24.2\n"
          ]
        },
        {
          "output_type": "display_data",
          "data": {
            "application/vnd.colab-display-data+json": {
              "pip_warning": {
                "packages": [
                  "sklearn"
                ]
              }
            }
          },
          "metadata": {}
        }
      ]
    },
    {
      "cell_type": "code",
      "source": [
        ""
      ],
      "metadata": {
        "id": "bQcfOL5Dh7lX"
      },
      "execution_count": null,
      "outputs": []
    }
  ],
  "metadata": {
    "colab": {
      "collapsed_sections": [],
      "name": "URL Classification.ipynb",
      "provenance": []
    },
    "kernelspec": {
      "display_name": "Python 3",
      "name": "python3"
    },
    "language_info": {
      "name": "python"
    },
    "accelerator": "GPU"
  },
  "nbformat": 4,
  "nbformat_minor": 0
}
