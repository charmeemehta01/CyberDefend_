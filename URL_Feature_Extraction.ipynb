{
  "nbformat": 4,
  "nbformat_minor": 0,
  "metadata": {
    "colab": {
      "name": "URL_Feature_Extraction.ipynb",
      "provenance": [],
      "collapsed_sections": []
    },
    "kernelspec": {
      "display_name": "Python 3",
      "name": "python3"
    },
    "language_info": {
      "name": "python"
    }
  },
  "cells": [
    {
      "cell_type": "markdown",
      "metadata": {
        "id": "RwdDK7uEi7og"
      },
      "source": [
        "# CyberDefend : URL Feature Extraction (Phishing)"
      ]
    },
    {
      "cell_type": "code",
      "metadata": {
        "id": "7YqhEiYaqgsV",
        "colab": {
          "base_uri": "https://localhost:8080/"
        },
        "cellView": "code",
        "outputId": "250ee144-00a4-4892-ac59-992d0d6b31ae"
      },
      "source": [
        "pip install python-whois\n"
      ],
      "execution_count": null,
      "outputs": [
        {
          "output_type": "stream",
          "name": "stdout",
          "text": [
            "Requirement already satisfied: python-whois in /usr/local/lib/python3.7/dist-packages (0.7.3)\n",
            "Requirement already satisfied: future in /usr/local/lib/python3.7/dist-packages (from python-whois) (0.16.0)\n"
          ]
        }
      ]
    },
    {
      "cell_type": "code",
      "metadata": {
        "id": "7XWzJn1RkPxk"
      },
      "source": [
        "# importing required packages for this section\n",
        "import pandas as pd\n",
        "from urllib.parse import urlparse,urlencode, parse_qs\n",
        "import ipaddress\n",
        "import re\n",
        "import re\n",
        "from bs4 import BeautifulSoup\n",
        "import whois\n",
        "import urllib\n",
        "import urllib.request\n",
        "from datetime import datetime\n",
        "import requests\n",
        "from collections import Counter\n",
        "from math import log\n",
        "import pickle\n"
      ],
      "execution_count": null,
      "outputs": []
    },
    {
      "cell_type": "markdown",
      "metadata": {
        "id": "mKT8h9L2j_g5"
      },
      "source": [
        "Importing Dataset"
      ]
    },
    {
      "cell_type": "code",
      "metadata": {
        "colab": {
          "base_uri": "https://localhost:8080/",
          "height": 206
        },
        "id": "64ggYPc99mSK",
        "outputId": "4c3dc9b0-5877-4e1c-a8f1-9631b36ab2c4"
      },
      "source": [
        "#importing required packages for this module\n",
        "phish = pd.read_csv(\"phishing.csv\")\n",
        "phish.head()"
      ],
      "execution_count": null,
      "outputs": [
        {
          "output_type": "execute_result",
          "data": {
            "text/html": [
              "<div>\n",
              "<style scoped>\n",
              "    .dataframe tbody tr th:only-of-type {\n",
              "        vertical-align: middle;\n",
              "    }\n",
              "\n",
              "    .dataframe tbody tr th {\n",
              "        vertical-align: top;\n",
              "    }\n",
              "\n",
              "    .dataframe thead th {\n",
              "        text-align: right;\n",
              "    }\n",
              "</style>\n",
              "<table border=\"1\" class=\"dataframe\">\n",
              "  <thead>\n",
              "    <tr style=\"text-align: right;\">\n",
              "      <th></th>\n",
              "      <th>phish_id</th>\n",
              "      <th>url</th>\n",
              "      <th>phish_detail_url</th>\n",
              "      <th>submission_time</th>\n",
              "      <th>verified</th>\n",
              "      <th>verification_time</th>\n",
              "      <th>online</th>\n",
              "      <th>target</th>\n",
              "    </tr>\n",
              "  </thead>\n",
              "  <tbody>\n",
              "    <tr>\n",
              "      <th>0</th>\n",
              "      <td>7327979</td>\n",
              "      <td>https://arenxcx.000webhostapp.com/cenzza.html</td>\n",
              "      <td>http://www.phishtank.com/phish_detail.php?phis...</td>\n",
              "      <td>2021-10-23T04:10:17+00:00</td>\n",
              "      <td>yes</td>\n",
              "      <td>2021-10-23T04:17:11+00:00</td>\n",
              "      <td>yes</td>\n",
              "      <td>Facebook</td>\n",
              "    </tr>\n",
              "    <tr>\n",
              "      <th>1</th>\n",
              "      <td>7327978</td>\n",
              "      <td>https://expressup.000webhostapp.com/login-acou...</td>\n",
              "      <td>http://www.phishtank.com/phish_detail.php?phis...</td>\n",
              "      <td>2021-10-23T04:09:35+00:00</td>\n",
              "      <td>yes</td>\n",
              "      <td>2021-10-23T04:17:11+00:00</td>\n",
              "      <td>yes</td>\n",
              "      <td>Facebook</td>\n",
              "    </tr>\n",
              "    <tr>\n",
              "      <th>2</th>\n",
              "      <td>7327977</td>\n",
              "      <td>https://aemwnzx.000webhostapp.com/vmzoz.html</td>\n",
              "      <td>http://www.phishtank.com/phish_detail.php?phis...</td>\n",
              "      <td>2021-10-23T04:06:59+00:00</td>\n",
              "      <td>yes</td>\n",
              "      <td>2021-10-23T04:17:11+00:00</td>\n",
              "      <td>yes</td>\n",
              "      <td>Facebook</td>\n",
              "    </tr>\n",
              "    <tr>\n",
              "      <th>3</th>\n",
              "      <td>7327976</td>\n",
              "      <td>https://www3.jp.mceircarii.com/</td>\n",
              "      <td>http://www.phishtank.com/phish_detail.php?phis...</td>\n",
              "      <td>2021-10-23T04:04:23+00:00</td>\n",
              "      <td>yes</td>\n",
              "      <td>2021-10-23T04:17:11+00:00</td>\n",
              "      <td>yes</td>\n",
              "      <td>Other</td>\n",
              "    </tr>\n",
              "    <tr>\n",
              "      <th>4</th>\n",
              "      <td>7327975</td>\n",
              "      <td>http://lkwjwxjkja.duckdns.org</td>\n",
              "      <td>http://www.phishtank.com/phish_detail.php?phis...</td>\n",
              "      <td>2021-10-23T04:03:32+00:00</td>\n",
              "      <td>yes</td>\n",
              "      <td>2021-10-23T04:17:11+00:00</td>\n",
              "      <td>yes</td>\n",
              "      <td>Apple</td>\n",
              "    </tr>\n",
              "  </tbody>\n",
              "</table>\n",
              "</div>"
            ],
            "text/plain": [
              "   phish_id                                                url  ... online    target\n",
              "0   7327979      https://arenxcx.000webhostapp.com/cenzza.html  ...    yes  Facebook\n",
              "1   7327978  https://expressup.000webhostapp.com/login-acou...  ...    yes  Facebook\n",
              "2   7327977       https://aemwnzx.000webhostapp.com/vmzoz.html  ...    yes  Facebook\n",
              "3   7327976                    https://www3.jp.mceircarii.com/  ...    yes     Other\n",
              "4   7327975                      http://lkwjwxjkja.duckdns.org  ...    yes     Apple\n",
              "\n",
              "[5 rows x 8 columns]"
            ]
          },
          "metadata": {},
          "execution_count": 3
        }
      ]
    },
    {
      "cell_type": "code",
      "metadata": {
        "colab": {
          "base_uri": "https://localhost:8080/"
        },
        "id": "dfwCW73w9xE7",
        "outputId": "37043f80-3985-41a8-ad8e-fd73eb1362f3"
      },
      "source": [
        "phish.shape"
      ],
      "execution_count": null,
      "outputs": [
        {
          "output_type": "execute_result",
          "data": {
            "text/plain": [
              "(11771, 8)"
            ]
          },
          "metadata": {},
          "execution_count": 4
        }
      ]
    },
    {
      "cell_type": "markdown",
      "metadata": {
        "id": "H2BU7PoFnGVb"
      },
      "source": [
        "## Lexical Features ⌨"
      ]
    },
    {
      "cell_type": "markdown",
      "metadata": {
        "id": "uFEL1wze3qkU"
      },
      "source": [
        "1.\t**havingIP**: - If IP address present in URL then the feature is set to 1 else set to 0. Most benign sites do not use IP addresses as an URL. Use of IP address in URL indicates that attacker is trying to steal sensitive information or s means to confuse users so they often use."
      ]
    },
    {
      "cell_type": "code",
      "metadata": {
        "id": "_PYfHLKCdu-g"
      },
      "source": [
        "#check for IP in URL domain\n",
        "def havingIP(url):\n",
        "    print(\"1->\",end=\" \")\n",
        "    regex=re.compile('.*\\d+\\.\\d+\\.\\d+\\.\\d+\\.*')\n",
        "    d=regex.match(url)\n",
        "    if d==None:\n",
        "        return 0\n",
        "    else:\n",
        "        return 1"
      ],
      "execution_count": null,
      "outputs": []
    },
    {
      "cell_type": "markdown",
      "metadata": {
        "id": "P7yVGIYv39al"
      },
      "source": [
        "2.\t**haveAtSign**: - If @ symbol present in URL then the feature is set to 1 else set to 0. attackers add special symbol @ in the URL leads the browser to ignore everything preceding the “@” symbol and the real address often follows the “@” symbol."
      ]
    },
    {
      "cell_type": "code",
      "metadata": {
        "id": "tazw29cKlBey"
      },
      "source": [
        "#Checks the presence of @ in URL (Have_At)\n",
        "def haveAtSign(url):\n",
        "  print(\"2->\",end=\" \")\n",
        "  if \"@\" in url:\n",
        "    at = 1    \n",
        "  else:\n",
        "    at = 0    \n",
        "  return at"
      ],
      "execution_count": null,
      "outputs": []
    },
    {
      "cell_type": "markdown",
      "metadata": {
        "id": "9yH5Z5Wo4Lov"
      },
      "source": [
        "3.\t**countDot**: - Malicious URLs have many dots in the URL. For example, http://shop.fun.amazon.phishing.com, in this URL phishing.com is an actual domain name, whereas use of “amazon” word is to trick users to click on it. So, this function is used to count the number of dots in the URL."
      ]
    },
    {
      "cell_type": "code",
      "metadata": {
        "id": "yDmfjZ2llHvg"
      },
      "source": [
        "# count number of dots\n",
        "def countDot(url):\n",
        "  print(\"3->\",end=\" \")\n",
        "  return url.count('.')"
      ],
      "execution_count": null,
      "outputs": []
    },
    {
      "cell_type": "markdown",
      "metadata": {
        "id": "ccB84DVZ4WKy"
      },
      "source": [
        "4.\t**prefixSuffix**:- Checking the presence of '-' in the domain part of URL. The dash symbol is rarely used in legitimate URLs. Phishers tend to add prefixes or suffixes separated by (-) to the domain name so that users feel that they are dealing with a legitimate webpage.If the URL has the ‘-' symbol in the domain part of the URL, the value assigned to this feature is 1 else 0"
      ]
    },
    {
      "cell_type": "code",
      "metadata": {
        "id": "U9Tqw4_slNnp"
      },
      "source": [
        "def prefixSuffix(url):\n",
        "    print(\"4->\",end=\" \")\n",
        "    if '-' in urlparse(url).netloc:\n",
        "        return 1            \n",
        "    else:\n",
        "        return 0"
      ],
      "execution_count": null,
      "outputs": []
    },
    {
      "cell_type": "markdown",
      "metadata": {
        "id": "wzL6BCOq4sao"
      },
      "source": [
        "5.\t**redirection**: If “//” present in the URL path then the feature is set to 1 else to 0. The existence of “//” within the URL path means that the user will be redirected to another website."
      ]
    },
    {
      "cell_type": "code",
      "metadata": {
        "id": "CGbITTDFlRUi"
      },
      "source": [
        "# Checking for redirection '//' in the url (Redirection)\n",
        "def redirection(url):\n",
        "  print(\"5->\",end=\" \")\n",
        "  pos = url.rfind('//')\n",
        "  if pos < 8:\n",
        "      return 0\n",
        "  else:\n",
        "    return 1"
      ],
      "execution_count": null,
      "outputs": []
    },
    {
      "cell_type": "markdown",
      "metadata": {
        "id": "-G-eZXFM45lY"
      },
      "source": [
        "6.\t**httpDomain**: If HTTPS token present in URL then the feature is set to 1 else to 0. Attackers may add the “HTTPS” token to the domain part of a URL in order to trick users. For example, http://https-www-paypal-it-mpp-home.soft-hair.com."
      ]
    },
    {
      "cell_type": "code",
      "metadata": {
        "id": "B0BDTUSSlSy9"
      },
      "source": [
        "# Existence of “HTTPS” Token in the Domain Part of the URL (https_Domain)\n",
        "def httpDomain(url):\n",
        "  print(\"6->\",end=\" \")\n",
        "  domain = urlparse(url).netloc\n",
        "  if 'https' in domain:\n",
        "    return 1\n",
        "  else:\n",
        "    return 0    "
      ],
      "execution_count": null,
      "outputs": []
    },
    {
      "cell_type": "markdown",
      "metadata": {
        "id": "KGIzonQB5WSN"
      },
      "source": [
        "7.\t**tinyURL**:TinyURL service allows attackers to hide long malicious URL by making it short. The goal is to redirect user to phishing websites. If the URL is crafted using shortening services (like bit.ly) then feature is set to 1 else 0"
      ]
    },
    {
      "cell_type": "code",
      "metadata": {
        "id": "vg-PcF4qgryu"
      },
      "source": [
        "#listing shortening services\n",
        "shortening_services = r\"bit\\.ly|goo\\.gl|shorte\\.st|go2l\\.ink|x\\.co|ow\\.ly|t\\.co|tinyurl|tr\\.im|is\\.gd|cli\\.gs|\" \\\n",
        "                      r\"yfrog\\.com|migre\\.me|ff\\.im|tiny\\.cc|url4\\.eu|twit\\.ac|su\\.pr|twurl\\.nl|snipurl\\.com|\" \\\n",
        "                      r\"short\\.to|BudURL\\.com|ping\\.fm|post\\.ly|Just\\.as|bkite\\.com|snipr\\.com|fic\\.kr|loopt\\.us|\" \\\n",
        "                      r\"doiop\\.com|short\\.ie|kl\\.am|wp\\.me|rubyurl\\.com|om\\.ly|to\\.ly|bit\\.do|t\\.co|lnkd\\.in|db\\.tt|\" \\\n",
        "                      r\"qr\\.ae|adf\\.ly|goo\\.gl|bitly\\.com|cur\\.lv|tinyurl\\.com|ow\\.ly|bit\\.ly|ity\\.im|q\\.gs|is\\.gd|\" \\\n",
        "                      r\"po\\.st|bc\\.vc|twitthis\\.com|u\\.to|j\\.mp|buzurl\\.com|cutt\\.us|u\\.bb|yourls\\.org|x\\.co|\" \\\n",
        "                      r\"prettylinkpro\\.com|scrnch\\.me|filoops\\.info|vzturl\\.com|qr\\.net|1url\\.com|tweez\\.me|v\\.gd|\" \\\n",
        "                      r\"tr\\.im|link\\.zip\\.net\"\n",
        "\n",
        "#Checking for Shortening Services in URL (Tiny_URL)\n",
        "def tinyURL(url):\n",
        "    print(\"7->\",end=\" \")\n",
        "    match=re.search(shortening_services,url)\n",
        "    if match:\n",
        "      return 1\n",
        "    else:\n",
        "        return 0\n"
      ],
      "execution_count": null,
      "outputs": []
    },
    {
      "cell_type": "markdown",
      "metadata": {
        "id": "W-QyQScg5cdx"
      },
      "source": [
        "8.\t**getLength**: Used to calculate the length of the URL. It is observed safe URLs are often shorter than malicious URLs."
      ]
    },
    {
      "cell_type": "code",
      "metadata": {
        "id": "2ixG45UelKif"
      },
      "source": [
        "# Finding the length of URL and categorizing (URL_Length)\n",
        "def getLength(url):\n",
        "  print(\"8->\",end=\" \")          \n",
        "  return len(url)"
      ],
      "execution_count": null,
      "outputs": []
    },
    {
      "cell_type": "markdown",
      "metadata": {
        "id": "UK-rzapI5sxB"
      },
      "source": [
        "9. **getSlash**:- This function returns the number of slashes in the URL. Higher number of slashes indicate higher chances of URL being dangerous."
      ]
    },
    {
      "cell_type": "code",
      "metadata": {
        "id": "kR4HK60Qmxtw"
      },
      "source": [
        "\n",
        "# number of '/' in URL \n",
        "def getSlash(url):\n",
        "  print(\"9->\",end=\" \")\n",
        "  s = urlparse(url).path.split('/')\n",
        "  count = 0\n",
        "  for j in range(len(s)):\n",
        "    if len(s[j]) != 0:\n",
        "      count += 1\n",
        "  return count"
      ],
      "execution_count": null,
      "outputs": []
    },
    {
      "cell_type": "markdown",
      "metadata": {
        "id": "1AmtAGpk2rRC"
      },
      "source": [
        "10. **numDigits**:- This function returns the number of digits in the URL. Higher number of digits increase the chances of URL being dangerous."
      ]
    },
    {
      "cell_type": "code",
      "metadata": {
        "id": "fRcphdHkmzNG"
      },
      "source": [
        "def numDigits(url):\n",
        "        print(\"10->\",end=\" \")\n",
        "        digits = [i for i in url if i.isdigit()]\n",
        "        return len(digits)"
      ],
      "execution_count": null,
      "outputs": []
    },
    {
      "cell_type": "markdown",
      "metadata": {
        "id": "6phAFIWd2zSt"
      },
      "source": [
        "11. **numFragments**: This function returns the number of “#” in the URL"
      ]
    },
    {
      "cell_type": "code",
      "metadata": {
        "id": "8K8pqK6im5cY"
      },
      "source": [
        "def numFragments(url):\n",
        "        print(\"11->\",end=\" \")\n",
        "        fragments = url.split('#')\n",
        "        return len(fragments) - 1"
      ],
      "execution_count": null,
      "outputs": []
    },
    {
      "cell_type": "markdown",
      "metadata": {
        "id": "dCvDWCxk241z"
      },
      "source": [
        "12. **numSubDomains**: This function splits the URL returns the number of subdomains in it"
      ]
    },
    {
      "cell_type": "code",
      "metadata": {
        "id": "fYBOsIuom4sZ"
      },
      "source": [
        "def numSubDomains(url):\n",
        "        print(\"12->\",end=\" \")\n",
        "        subdomains = url.split('http')[-1].split('//')[-1].split('/')\n",
        "        return len(subdomains)-1"
      ],
      "execution_count": null,
      "outputs": []
    },
    {
      "cell_type": "markdown",
      "metadata": {
        "id": "-WEYDNko2_h-"
      },
      "source": [
        "13. **domainExtension**: This function returns the domain extension found at the end of the URL."
      ]
    },
    {
      "cell_type": "code",
      "metadata": {
        "id": "kW_9YNrem3kq"
      },
      "source": [
        "def domainExtension(url):\n",
        "        print(\"13->\",end=\" \")\n",
        "        ext = url.split('.')[-1].split('/')[0]\n",
        "        return ext\n"
      ],
      "execution_count": null,
      "outputs": []
    },
    {
      "cell_type": "markdown",
      "metadata": {
        "id": "EaLDr_283GPe"
      },
      "source": [
        "14. **shannon_entropy**: This function calculates the Shannon Entropy(amount of info present) of a string"
      ]
    },
    {
      "cell_type": "code",
      "metadata": {
        "id": "xtMYb2CdlW6H"
      },
      "source": [
        "# Function for calcuating Shannon Entropy of a string\n",
        "def shannon_entropy(string):\n",
        "    counts=Counter(string)\n",
        "    frequencies=((i / len(string)) for i in counts.values())\n",
        "    return -sum(f*log(f,2) for f in frequencies)\n",
        "\n",
        "# Calculating Shannon Entropy of URL\n",
        "def url_shannon_entropy(url):\n",
        "    print(\"14->\",end=\" \")\n",
        "    return shannon_entropy(url)\n",
        "\n",
        "# Calculating Shannon Entropy of Domain\n",
        "def domain_shannon_entropy(url):\n",
        "    print(\"15->\",end=\" \")\n",
        "    domain = urlparse(url).netloc\n",
        "    return shannon_entropy(domain)\n",
        "\n",
        "# Calculating Shannon Entropy of Path\n",
        "def path_shannon_entropy(url):\n",
        "    print(\"16->\",end=\" \")\n",
        "    path = urlparse(url).path\n",
        "    return shannon_entropy(path)\n",
        "\n",
        "# Calculating Shannon Entropy of Query\n",
        "def query_shannon_entropy(url):\n",
        "    print(\"17->\",end=\" \")\n",
        "    query= urlparse(url).query\n",
        "    return shannon_entropy(query)\n",
        "\n",
        "# Calculating Shannon Entropy of Path+Query\n",
        "def query_path_shannon_entropy(url):\n",
        "    print(\"18->\",end=\" \")\n",
        "    pathquery= urlparse(url).path+'?'+urlparse(url).query\n",
        "    return shannon_entropy(pathquery)"
      ],
      "execution_count": null,
      "outputs": []
    },
    {
      "cell_type": "markdown",
      "metadata": {
        "id": "OI168c2k3SWm"
      },
      "source": [
        "15. **suspiciousExtension**:  If a suspicious extension is present in the URL then the feature is set to 1 else set to 0. Extensions like '.exe','.pif','.application','.gadget' are suspicious extensions. Suspicious extensions are often found in malicious URLs. \n"
      ]
    },
    {
      "cell_type": "code",
      "metadata": {
        "id": "mH4LYh8ylZwc"
      },
      "source": [
        "def suspiciousExtension(url):\n",
        "    print(\"19->\",end=\" \")\n",
        "    dangerous_extensions=['.exe','.pif','.application','.gadget',\n",
        "                          '.msi','.msp','.scr','.hta','.cpl','.msc','.jar',\n",
        "                         '.bat','.cmd','.vb','.vbs','.vbe','.js','.jse'\n",
        "                         ,'.ws','.wsf','.wsc','.wsh','.ps1','.ps1xml','.ps2'\n",
        "                         ,'.ps2xml','.psc1','.psc2','.msh','.scf','.lnk',\n",
        "                         '.inf','.reg','htm','.hta','.sfx','.dll','.tmp','.py']\n",
        "    for extension in dangerous_extensions:\n",
        "        if re.search(extension,url):\n",
        "            return 1\n",
        "    return 0"
      ],
      "execution_count": null,
      "outputs": []
    },
    {
      "cell_type": "markdown",
      "metadata": {
        "id": "TyItmvjU3dvs"
      },
      "source": [
        "16. **spacePresent**: If “%20” is present in the URL then the feature is set to 1 else to 0. Benign URLs generally do not have \"%20\" in their URLs."
      ]
    },
    {
      "cell_type": "code",
      "metadata": {
        "id": "hRWeQinclqaw"
      },
      "source": [
        "# Checking if %20 percent in the URL\n",
        "def spacePresent(url):\n",
        "    print(\"20->\",end=\" \")\n",
        "    if re.search('%20',url):\n",
        "        return 1\n",
        "    else:\n",
        "        return 0\n"
      ],
      "execution_count": null,
      "outputs": []
    },
    {
      "cell_type": "markdown",
      "metadata": {
        "id": "VQihPvAj3msL"
      },
      "source": [
        "17. **digitToLetterRatio**: This function calculates the digit to letter ratio of the URL. Higher number of digits present in URL tends to increase the ratio. Benign URLs usually have a smaller ratio.\n"
      ]
    },
    {
      "cell_type": "code",
      "metadata": {
        "id": "9JzppqogluAc"
      },
      "source": [
        "# Calculating Digit to Letter ratio\n",
        "def digitToLetterRatio(url):\n",
        "    print(\"21->\",end=\" \")\n",
        "    d=0\n",
        "    l=0\n",
        "    for c in url:\n",
        "        if c.isdigit():\n",
        "            d=d+1\n",
        "        elif c.isalpha():\n",
        "            l=l+1\n",
        "        else:\n",
        "            pass\n",
        "    return(d/l)\n"
      ],
      "execution_count": null,
      "outputs": []
    },
    {
      "cell_type": "markdown",
      "metadata": {
        "id": "kAJ5foXt3sbr"
      },
      "source": [
        "18. **specialCharacters**: This function counts the number of special characters in the URL. Dangerous URLs tend to have higher number of special characters. "
      ]
    },
    {
      "cell_type": "code",
      "metadata": {
        "id": "IAusLMqglvRb"
      },
      "source": [
        "# Count number of special characters in the URL\n",
        "def specialCharacters(url): \n",
        "    print(\"22->\",end=\" \")\n",
        "    special_char= 0\n",
        "    for c in url:\n",
        "        if (c.isalpha()): \n",
        "            continue\n",
        "        elif (c.isdigit()):\n",
        "            continue\n",
        "        else: \n",
        "            special_char += 1\n",
        "    return special_char\n"
      ],
      "execution_count": null,
      "outputs": []
    },
    {
      "cell_type": "markdown",
      "metadata": {
        "id": "C7M8Zz0f3yDM"
      },
      "source": [
        "19. **suspiciousWords**: If suspicious words are present in the URL then the feature is set to 1 else set to 0. Words like 'gift','promo','paypal' are security sensitive words or brand names. Using spoofed URLs is common in phishing attacks. Victims tend to get deceived by the brand names and security sensitive words in the URL. Reference to list of words: Tupsamudre H., Singh A.K., Lodha S. (2019) Everything Is in the Name – A URL Based Approach for Phishing Detection. In: Dolev S., Hendler D., Lodha S., Yung M. (eds) Cyber Security Cryptography and Machine Learning. CSCML 2019. Lecture Notes in Computer Science, vol 11527. Springer, Cham. https://doi.org/10.1007/978-3-030-20951-3_21\n"
      ]
    },
    {
      "cell_type": "code",
      "metadata": {
        "id": "T0DaLOgVlwfw"
      },
      "source": [
        "# Check if suspicious words - (security sensitive words/ brand names) present in the URL\n",
        "def suspiciousWords(url):\n",
        "    print(\"23->\",end=\" \")\n",
        "    \n",
        "    suspicious_words=['paypal','ali','safety','verify','google','netflix','instagram','icici','hdfc', 'apple','facebook','amazon','porn','gamble',\n",
        "                      'award','limited','securewebsession','confirmation','signin','protection','access','redirectme','secure',\n",
        "                      'recovery', 'verify','limited','secure','web',      'session',      'confirmation', 'page',      'sign',      'team',      'access',      'protection',      'active',      \n",
        "                      'manage',      'redirectme',      'secure',      'customer',      'account',      \n",
        "                      'client',      'information',      'recovery',      'verify',      'secured',      \n",
        "                      'business',      'refund',      'help',      'safe',      'bank',      'event',      \n",
        "                      'promo',      'webservis',      'giveaway',      'card',      'webspace',      'user', \n",
        "                      'notify',      'servico',      'store',      'device',      'payment',      'webnode',    \n",
        "                      'drive',      'shop',      'gold',      'violation',      'random',      'upgrade',      \n",
        "                      'webapp',      'dispute',      'setting',      'banking',      'activity',      'startup',\n",
        "                      'review',      'email',      'approval',      'admin',      'browser',      'billing',      \n",
        "                      'advert',      'protect',      'case',      'temporary',      'alert',      'portal',      \n",
        "                      'login',      'servehttp',      'center',      'client',      'restore',      'secure',      \n",
        "                      'blob',      'smart',      'fortune',      'gift',      'server',      'security',      'page',\n",
        "                      'confirm',      'notification',      'core',      'host',      'central',      'service',      \n",
        "                      'account',      'servise',      'support',      'apps',      'form',      'info',      'compute', \n",
        "                      'verification',      'check',      'storage',      'setting',      'digital',      'update',      \n",
        "                      'token',      'required',      'resolution',      'ebay',      'webscr',      'free',      'lucky',      'bonus'\n",
        "     ]\n",
        "    \n",
        "    for word in suspicious_words:\n",
        "        if re.search(word,url):\n",
        "            return 1\n",
        "    return 0"
      ],
      "execution_count": null,
      "outputs": []
    },
    {
      "cell_type": "markdown",
      "metadata": {
        "id": "MnM0NKeZqCS-"
      },
      "source": [
        "## WhoIs Based Features"
      ]
    },
    {
      "cell_type": "markdown",
      "metadata": {
        "id": "36U3liCX35Xf"
      },
      "source": [
        "20. **domainAge**: The domainAge function refers to the amount of time during which a domain name has existed. It is how old a domain name is. An old domain is less likely to be dangerous and more trustworthy."
      ]
    },
    {
      "cell_type": "code",
      "metadata": {
        "id": "MjOkdERVm1fe"
      },
      "source": [
        "def domainAge(domain_name):\n",
        "  print(\"25->\",end=\" \")\n",
        "  creation_date = domain_name.creation_date\n",
        "  expiration_date = domain_name.expiration_date\n",
        "  if (isinstance(creation_date,str) or isinstance(expiration_date,str)):\n",
        "    try:\n",
        "     # print(\"hi1\")\n",
        "      creation_date = datetime.strptime(creation_date,'%Y-%m-%d')\n",
        "      expiration_date = datetime.strptime(expiration_date,\"%Y-%m-%d\")\n",
        "    except:\n",
        "      return 1\n",
        "  if ((expiration_date is None) or (creation_date is None)):\n",
        "      #print(\"hi2\")\n",
        "      return 1\n",
        "  elif ((type(expiration_date) is list) and (type(creation_date) is list)):\n",
        "        ageofdomain = abs((expiration_date[0] - creation_date[0]).days)\n",
        "  elif (type(creation_date) is list):\n",
        "        ageofdomain = abs((expiration_date - creation_date[0]).days)\n",
        "  elif  (type(expiration_date) is list):\n",
        "        ageofdomain = abs((expiration_date[0] - creation_date).days)\n",
        "  else:\n",
        "        ageofdomain = abs((expiration_date - creation_date).days)\n",
        "  #print(ageofdomain/365.25)\n",
        "  #print(\"hi3\")\n",
        "  #if ((ageofdomain/365.25) < 2):\n",
        "  #    age = 1\n",
        "  #else:\n",
        "  #    age = 0\n",
        "  return (ageofdomain/365.25)"
      ],
      "execution_count": null,
      "outputs": []
    },
    {
      "cell_type": "markdown",
      "metadata": {
        "id": "PK86E9aT4ACH"
      },
      "source": [
        "21. **country**: This function returns the country of the domain of the URL. "
      ]
    },
    {
      "cell_type": "code",
      "metadata": {
        "id": "Pz7KlzR3m0qD"
      },
      "source": [
        "def country(domain_name):\n",
        "  print(\"26->\",end=\" \")\n",
        "  return domain_name.country\n"
      ],
      "execution_count": null,
      "outputs": []
    },
    {
      "cell_type": "markdown",
      "metadata": {
        "id": "Fc8rAGF8n1ds"
      },
      "source": [
        "## JavaScript based Features"
      ]
    },
    {
      "cell_type": "markdown",
      "metadata": {
        "id": "c9NtYpN54FAt"
      },
      "source": [
        "22. **imgCount**: This function counts the number of images in the content of the URL. "
      ]
    },
    {
      "cell_type": "code",
      "metadata": {
        "id": "oPMhkavClzpF"
      },
      "source": [
        "# Get number of images \n",
        "def imgCount(url):\n",
        "    print(\"24->\",end=\" \")\n",
        "    try:\n",
        "        response = requests.get(url,timeout=4)\n",
        "        soup = BeautifulSoup(response.content)\n",
        "    except:\n",
        "        return None\n",
        "    return len(soup.find_all('img'))"
      ],
      "execution_count": null,
      "outputs": []
    },
    {
      "cell_type": "markdown",
      "metadata": {
        "id": "WCz-zcht4Nbj"
      },
      "source": [
        "23. **iframe**: -  If “<iframe” or “frameBorder=\"0\"” is present in the URL then the feature is set to 1 else to 0. Phishers can make use of the “iframe” tag and make it invisible i.e. without frame borders. Since the border of the inserted webpage is invisible, user seems that the inserted web page is also part of the main web page and can enter sensitive information."
      ]
    },
    {
      "cell_type": "code",
      "metadata": {
        "id": "9YhGuKmJqKeF"
      },
      "source": [
        "def iframe(response):\n",
        "  print(\"27->\",end=\" \")\n",
        "  if response == \"\":\n",
        "      return 0\n",
        "  else:\n",
        "      #print()\n",
        "      if \"<iframe \" in response.text or 'frameBorder=\"0\"' in response.text:\n",
        "          return 1\n",
        "      else:\n",
        "          return 0"
      ],
      "execution_count": null,
      "outputs": []
    },
    {
      "cell_type": "markdown",
      "metadata": {
        "id": "7Acf4gNJ4Ttd"
      },
      "source": [
        "24. **mouseOver**:- Checks the effect of mouse over on status bar"
      ]
    },
    {
      "cell_type": "code",
      "metadata": {
        "id": "BXEiBaxIqKYM"
      },
      "source": [
        "#Checks the effect of mouse over on status bar (Mouse_Over)\n",
        "def mouseOver(response):\n",
        "  print(\"28->\",end=\" \") \n",
        "  if response == \"\" :\n",
        "    return 1\n",
        "  else:\n",
        "    if re.findall(\"<script>.+onmouseover.+</script>\", response.text):\n",
        "      return 1\n",
        "    else:\n",
        "      return 0"
      ],
      "execution_count": null,
      "outputs": []
    },
    {
      "cell_type": "markdown",
      "metadata": {
        "id": "WR8SHQJhqaVy"
      },
      "source": [
        "Driver Script For the above functions"
      ]
    },
    {
      "cell_type": "code",
      "metadata": {
        "id": "ZQ2nRRlpqJ2y"
      },
      "source": [
        "def featureExtraction(url,label):\n",
        "  dns=0\n",
        "  features = []\n",
        "  #Lexical Feature\n",
        "  features.append(havingIP(url))\n",
        "  features.append(haveAtSign(url))\n",
        "  features.append(countDot(url))\n",
        "  features.append(prefixSuffix(url))\n",
        "  features.append(redirection(url))\n",
        "  features.append(httpDomain(url))\n",
        "  features.append(tinyURL(url))\n",
        "  features.append(getLength(url))\n",
        "  features.append(getSlash(url))\n",
        "  features.append(numDigits(url))\n",
        "  features.append(numFragments(url))\n",
        "  features.append(numSubDomains(url))\n",
        "  features.append(domainExtension(url))\n",
        "\n",
        "  features.append(url_shannon_entropy(url))\n",
        "  features.append(domain_shannon_entropy(url))\n",
        "  features.append(path_shannon_entropy(url))\n",
        "  features.append(query_shannon_entropy(url))\n",
        "  features.append(query_path_shannon_entropy(url))\n",
        "  features.append(suspiciousExtension(url))\n",
        "  features.append(spacePresent(url))\n",
        "  features.append(digitToLetterRatio(url))\n",
        "  features.append(specialCharacters(url))\n",
        "  features.append(suspiciousWords(url))\n",
        "\n",
        "  \n",
        "  features.append(imgCount(url))\n",
        "\n",
        "  #Whois Based\n",
        "  try:\n",
        "    domain_name = whois.whois(urlparse(url).netloc)\n",
        "  except:\n",
        "    dns = 1\n",
        "  \n",
        "  features.append(0 if (dns == 1 or domain_name.domain_name==None)  else domainAge(domain_name))\n",
        "  \n",
        "  features.append(\"None\" if (dns == 1 or domain_name.domain_name==None)  else country(domain_name))\n",
        "  \n",
        "# HTML & Javascript based features \n",
        "  try:\n",
        "    print(\"start request\")\n",
        "    response = requests.get(url,timeout=4)\n",
        "    print(\"end request\")\n",
        "  except:\n",
        "    response = \"\"\n",
        "  features.append(iframe(response))\n",
        "  features.append(mouseOver(response))\n",
        "  features.append(label)\n",
        "  \n",
        "  return features"
      ],
      "execution_count": null,
      "outputs": []
    },
    {
      "cell_type": "code",
      "metadata": {
        "id": "tvpRUZq0avX8"
      },
      "source": [
        "#Extracting the feautres & storing them in a list \n",
        "#(Takes almost 12 hrs to execute the driver script)\n",
        "\n",
        "phish_features = []\n",
        "label = 1\n",
        "\n",
        "for i,url in enumerate(phish['url']):\n",
        "  if(i%500==0): \n",
        "    name='drive/MyDrive/phishTrack/p'+str(i)+'.pickle'\n",
        "    with open(name, 'wb') as f:\n",
        "      pickle.dump(phish_features, f)\n",
        "  print(\"Url no\",i,\" \",url)\n",
        "\n",
        "  phish_features.append(featureExtraction(url,label))\n"
      ],
      "execution_count": null,
      "outputs": []
    },
    {
      "cell_type": "markdown",
      "metadata": {
        "id": "Ilgd4Xzzq8CH"
      },
      "source": [
        "Saving The Extracted Features in CSV Format"
      ]
    },
    {
      "cell_type": "code",
      "metadata": {
        "id": "ZUx4rokizaNP"
      },
      "source": [
        "feature_names = ['havingIP', 'haveAtSign', 'countDot', 'prefixSuffix','redirection', \n",
        "                'httpDomain', 'tinyURL', 'getLength', 'getSlash','numDigit','numfragments','numsubdomain',\n",
        "                 'domainExt','URL_Shannon_Entropy','Domain_Shannon_Entropy','Path_Shannon_Entropy','Query_Shannon_Entropy',\n",
        "                 'QandP_Shannon_Entropy','Susp_ext','space preset','digitToLetter_ratio','Sp_Character','susp_words',\n",
        "                 'num_Imag','domainAge','domainCountry','iframe', 'Mouse_Over', 'Label',]\n",
        "\n",
        "phishing = pd.DataFrame(pfeature, columns= feature_names)\n",
        "phishing.to_csv('drive/MyDrive/FeatureExtraction/Phishing_Features_Final.csv')"
      ],
      "execution_count": null,
      "outputs": []
    },
    {
      "cell_type": "code",
      "metadata": {
        "id": "G8VPULsnD703"
      },
      "source": [
        "name='drive/MyDrive/PickleFile/phish.pickle'\n",
        "with open(name, 'wb') as f:\n",
        "      pickle.dump(phish_feature, f)"
      ],
      "execution_count": null,
      "outputs": []
    },
    {
      "cell_type": "code",
      "metadata": {
        "id": "yQ0wWTSTC06l"
      },
      "source": [
        "name='drive/MyDrive/phishTrack/p11500.pickle'\n",
        "with open(name, 'rb') as f:\n",
        "     pfeature=pickle.load(f)\n",
        "     "
      ],
      "execution_count": null,
      "outputs": []
    },
    {
      "cell_type": "code",
      "metadata": {
        "colab": {
          "base_uri": "https://localhost:8080/",
          "height": 478
        },
        "id": "MNbG4axEzbWe",
        "outputId": "113434ed-aabb-429d-840c-4fbd63115815"
      },
      "source": [
        "phishing"
      ],
      "execution_count": null,
      "outputs": [
        {
          "output_type": "execute_result",
          "data": {
            "text/html": [
              "<div>\n",
              "<style scoped>\n",
              "    .dataframe tbody tr th:only-of-type {\n",
              "        vertical-align: middle;\n",
              "    }\n",
              "\n",
              "    .dataframe tbody tr th {\n",
              "        vertical-align: top;\n",
              "    }\n",
              "\n",
              "    .dataframe thead th {\n",
              "        text-align: right;\n",
              "    }\n",
              "</style>\n",
              "<table border=\"1\" class=\"dataframe\">\n",
              "  <thead>\n",
              "    <tr style=\"text-align: right;\">\n",
              "      <th></th>\n",
              "      <th>havingIP</th>\n",
              "      <th>haveAtSign</th>\n",
              "      <th>countDot</th>\n",
              "      <th>prefixSuffix</th>\n",
              "      <th>redirection</th>\n",
              "      <th>httpDomain</th>\n",
              "      <th>tinyURL</th>\n",
              "      <th>getLength</th>\n",
              "      <th>getSlash</th>\n",
              "      <th>numDigit</th>\n",
              "      <th>numfragments</th>\n",
              "      <th>numsubdomain</th>\n",
              "      <th>domainExt</th>\n",
              "      <th>URL_Shannon_Entropy</th>\n",
              "      <th>Domain_Shannon_Entropy</th>\n",
              "      <th>Path_Shannon_Entropy</th>\n",
              "      <th>Query_Shannon_Entropy</th>\n",
              "      <th>QandP_Shannon_Entropy</th>\n",
              "      <th>Susp_ext</th>\n",
              "      <th>space preset</th>\n",
              "      <th>digitToLetter_ratio</th>\n",
              "      <th>Sp_Character</th>\n",
              "      <th>susp_words</th>\n",
              "      <th>num_Imag</th>\n",
              "      <th>domainAge</th>\n",
              "      <th>domainCountry</th>\n",
              "      <th>iframe</th>\n",
              "      <th>Mouse_Over</th>\n",
              "      <th>Label</th>\n",
              "    </tr>\n",
              "  </thead>\n",
              "  <tbody>\n",
              "    <tr>\n",
              "      <th>0</th>\n",
              "      <td>0</td>\n",
              "      <td>0</td>\n",
              "      <td>2</td>\n",
              "      <td>1</td>\n",
              "      <td>0</td>\n",
              "      <td>0</td>\n",
              "      <td>0</td>\n",
              "      <td>27</td>\n",
              "      <td>1</td>\n",
              "      <td>0</td>\n",
              "      <td>0</td>\n",
              "      <td>1</td>\n",
              "      <td>net</td>\n",
              "      <td>3.884155</td>\n",
              "      <td>3.499228</td>\n",
              "      <td>1.000000</td>\n",
              "      <td>0.000000</td>\n",
              "      <td>1.584963</td>\n",
              "      <td>0</td>\n",
              "      <td>0</td>\n",
              "      <td>0.000000</td>\n",
              "      <td>7</td>\n",
              "      <td>1</td>\n",
              "      <td>0.0</td>\n",
              "      <td>0.999316</td>\n",
              "      <td>JP</td>\n",
              "      <td>0</td>\n",
              "      <td>0</td>\n",
              "      <td>1</td>\n",
              "    </tr>\n",
              "    <tr>\n",
              "      <th>1</th>\n",
              "      <td>0</td>\n",
              "      <td>0</td>\n",
              "      <td>2</td>\n",
              "      <td>1</td>\n",
              "      <td>0</td>\n",
              "      <td>0</td>\n",
              "      <td>0</td>\n",
              "      <td>33</td>\n",
              "      <td>0</td>\n",
              "      <td>2</td>\n",
              "      <td>0</td>\n",
              "      <td>1</td>\n",
              "      <td>cn</td>\n",
              "      <td>4.058657</td>\n",
              "      <td>3.625815</td>\n",
              "      <td>-0.000000</td>\n",
              "      <td>0.000000</td>\n",
              "      <td>1.000000</td>\n",
              "      <td>0</td>\n",
              "      <td>0</td>\n",
              "      <td>0.083333</td>\n",
              "      <td>7</td>\n",
              "      <td>1</td>\n",
              "      <td>NaN</td>\n",
              "      <td>0.999316</td>\n",
              "      <td>None</td>\n",
              "      <td>0</td>\n",
              "      <td>1</td>\n",
              "      <td>1</td>\n",
              "    </tr>\n",
              "    <tr>\n",
              "      <th>2</th>\n",
              "      <td>0</td>\n",
              "      <td>0</td>\n",
              "      <td>3</td>\n",
              "      <td>0</td>\n",
              "      <td>0</td>\n",
              "      <td>0</td>\n",
              "      <td>0</td>\n",
              "      <td>45</td>\n",
              "      <td>1</td>\n",
              "      <td>3</td>\n",
              "      <td>0</td>\n",
              "      <td>1</td>\n",
              "      <td>html</td>\n",
              "      <td>4.202095</td>\n",
              "      <td>3.893661</td>\n",
              "      <td>3.418296</td>\n",
              "      <td>0.000000</td>\n",
              "      <td>3.546594</td>\n",
              "      <td>1</td>\n",
              "      <td>0</td>\n",
              "      <td>0.085714</td>\n",
              "      <td>7</td>\n",
              "      <td>1</td>\n",
              "      <td>3.0</td>\n",
              "      <td>5.998631</td>\n",
              "      <td>CY</td>\n",
              "      <td>0</td>\n",
              "      <td>0</td>\n",
              "      <td>1</td>\n",
              "    </tr>\n",
              "    <tr>\n",
              "      <th>3</th>\n",
              "      <td>0</td>\n",
              "      <td>0</td>\n",
              "      <td>3</td>\n",
              "      <td>0</td>\n",
              "      <td>0</td>\n",
              "      <td>0</td>\n",
              "      <td>0</td>\n",
              "      <td>58</td>\n",
              "      <td>2</td>\n",
              "      <td>3</td>\n",
              "      <td>0</td>\n",
              "      <td>2</td>\n",
              "      <td>html</td>\n",
              "      <td>4.371105</td>\n",
              "      <td>3.782122</td>\n",
              "      <td>4.001823</td>\n",
              "      <td>0.000000</td>\n",
              "      <td>4.084963</td>\n",
              "      <td>1</td>\n",
              "      <td>0</td>\n",
              "      <td>0.065217</td>\n",
              "      <td>9</td>\n",
              "      <td>1</td>\n",
              "      <td>3.0</td>\n",
              "      <td>5.998631</td>\n",
              "      <td>CY</td>\n",
              "      <td>0</td>\n",
              "      <td>0</td>\n",
              "      <td>1</td>\n",
              "    </tr>\n",
              "    <tr>\n",
              "      <th>4</th>\n",
              "      <td>0</td>\n",
              "      <td>0</td>\n",
              "      <td>3</td>\n",
              "      <td>0</td>\n",
              "      <td>0</td>\n",
              "      <td>0</td>\n",
              "      <td>0</td>\n",
              "      <td>44</td>\n",
              "      <td>1</td>\n",
              "      <td>3</td>\n",
              "      <td>0</td>\n",
              "      <td>1</td>\n",
              "      <td>html</td>\n",
              "      <td>4.157518</td>\n",
              "      <td>3.893661</td>\n",
              "      <td>3.095795</td>\n",
              "      <td>0.000000</td>\n",
              "      <td>3.251629</td>\n",
              "      <td>1</td>\n",
              "      <td>0</td>\n",
              "      <td>0.088235</td>\n",
              "      <td>7</td>\n",
              "      <td>1</td>\n",
              "      <td>3.0</td>\n",
              "      <td>5.998631</td>\n",
              "      <td>CY</td>\n",
              "      <td>0</td>\n",
              "      <td>0</td>\n",
              "      <td>1</td>\n",
              "    </tr>\n",
              "    <tr>\n",
              "      <th>...</th>\n",
              "      <td>...</td>\n",
              "      <td>...</td>\n",
              "      <td>...</td>\n",
              "      <td>...</td>\n",
              "      <td>...</td>\n",
              "      <td>...</td>\n",
              "      <td>...</td>\n",
              "      <td>...</td>\n",
              "      <td>...</td>\n",
              "      <td>...</td>\n",
              "      <td>...</td>\n",
              "      <td>...</td>\n",
              "      <td>...</td>\n",
              "      <td>...</td>\n",
              "      <td>...</td>\n",
              "      <td>...</td>\n",
              "      <td>...</td>\n",
              "      <td>...</td>\n",
              "      <td>...</td>\n",
              "      <td>...</td>\n",
              "      <td>...</td>\n",
              "      <td>...</td>\n",
              "      <td>...</td>\n",
              "      <td>...</td>\n",
              "      <td>...</td>\n",
              "      <td>...</td>\n",
              "      <td>...</td>\n",
              "      <td>...</td>\n",
              "      <td>...</td>\n",
              "    </tr>\n",
              "    <tr>\n",
              "      <th>11495</th>\n",
              "      <td>0</td>\n",
              "      <td>0</td>\n",
              "      <td>4</td>\n",
              "      <td>0</td>\n",
              "      <td>0</td>\n",
              "      <td>0</td>\n",
              "      <td>0</td>\n",
              "      <td>160</td>\n",
              "      <td>2</td>\n",
              "      <td>18</td>\n",
              "      <td>0</td>\n",
              "      <td>7</td>\n",
              "      <td>tt</td>\n",
              "      <td>5.331424</td>\n",
              "      <td>2.973557</td>\n",
              "      <td>2.875000</td>\n",
              "      <td>5.288507</td>\n",
              "      <td>5.288717</td>\n",
              "      <td>0</td>\n",
              "      <td>0</td>\n",
              "      <td>0.153846</td>\n",
              "      <td>25</td>\n",
              "      <td>1</td>\n",
              "      <td>0.0</td>\n",
              "      <td>30.997947</td>\n",
              "      <td>US</td>\n",
              "      <td>0</td>\n",
              "      <td>0</td>\n",
              "      <td>1</td>\n",
              "    </tr>\n",
              "    <tr>\n",
              "      <th>11496</th>\n",
              "      <td>0</td>\n",
              "      <td>0</td>\n",
              "      <td>1</td>\n",
              "      <td>0</td>\n",
              "      <td>0</td>\n",
              "      <td>0</td>\n",
              "      <td>0</td>\n",
              "      <td>17</td>\n",
              "      <td>1</td>\n",
              "      <td>2</td>\n",
              "      <td>0</td>\n",
              "      <td>1</td>\n",
              "      <td>to</td>\n",
              "      <td>3.410417</td>\n",
              "      <td>2.321928</td>\n",
              "      <td>2.000000</td>\n",
              "      <td>0.000000</td>\n",
              "      <td>2.321928</td>\n",
              "      <td>0</td>\n",
              "      <td>0</td>\n",
              "      <td>0.200000</td>\n",
              "      <td>5</td>\n",
              "      <td>0</td>\n",
              "      <td>1.0</td>\n",
              "      <td>0.000000</td>\n",
              "      <td>None</td>\n",
              "      <td>0</td>\n",
              "      <td>0</td>\n",
              "      <td>1</td>\n",
              "    </tr>\n",
              "    <tr>\n",
              "      <th>11497</th>\n",
              "      <td>0</td>\n",
              "      <td>0</td>\n",
              "      <td>1</td>\n",
              "      <td>0</td>\n",
              "      <td>0</td>\n",
              "      <td>0</td>\n",
              "      <td>0</td>\n",
              "      <td>41</td>\n",
              "      <td>2</td>\n",
              "      <td>0</td>\n",
              "      <td>0</td>\n",
              "      <td>2</td>\n",
              "      <td>com</td>\n",
              "      <td>4.168408</td>\n",
              "      <td>3.095795</td>\n",
              "      <td>3.969002</td>\n",
              "      <td>0.000000</td>\n",
              "      <td>4.053509</td>\n",
              "      <td>0</td>\n",
              "      <td>0</td>\n",
              "      <td>0.000000</td>\n",
              "      <td>7</td>\n",
              "      <td>0</td>\n",
              "      <td>33.0</td>\n",
              "      <td>4.999316</td>\n",
              "      <td>CA</td>\n",
              "      <td>1</td>\n",
              "      <td>0</td>\n",
              "      <td>1</td>\n",
              "    </tr>\n",
              "    <tr>\n",
              "      <th>11498</th>\n",
              "      <td>0</td>\n",
              "      <td>0</td>\n",
              "      <td>3</td>\n",
              "      <td>0</td>\n",
              "      <td>0</td>\n",
              "      <td>0</td>\n",
              "      <td>0</td>\n",
              "      <td>113</td>\n",
              "      <td>2</td>\n",
              "      <td>18</td>\n",
              "      <td>0</td>\n",
              "      <td>2</td>\n",
              "      <td>html?dbhxwxls=hsnmlp229790&amp;amp;xkirav=bmwmwcxu...</td>\n",
              "      <td>5.253517</td>\n",
              "      <td>3.438722</td>\n",
              "      <td>4.478232</td>\n",
              "      <td>4.558563</td>\n",
              "      <td>5.199092</td>\n",
              "      <td>1</td>\n",
              "      <td>0</td>\n",
              "      <td>0.219512</td>\n",
              "      <td>13</td>\n",
              "      <td>0</td>\n",
              "      <td>0.0</td>\n",
              "      <td>13.998631</td>\n",
              "      <td>None</td>\n",
              "      <td>0</td>\n",
              "      <td>0</td>\n",
              "      <td>1</td>\n",
              "    </tr>\n",
              "    <tr>\n",
              "      <th>11499</th>\n",
              "      <td>0</td>\n",
              "      <td>0</td>\n",
              "      <td>2</td>\n",
              "      <td>0</td>\n",
              "      <td>0</td>\n",
              "      <td>0</td>\n",
              "      <td>0</td>\n",
              "      <td>47</td>\n",
              "      <td>3</td>\n",
              "      <td>0</td>\n",
              "      <td>0</td>\n",
              "      <td>3</td>\n",
              "      <td>html</td>\n",
              "      <td>4.205991</td>\n",
              "      <td>3.452820</td>\n",
              "      <td>3.740602</td>\n",
              "      <td>0.000000</td>\n",
              "      <td>3.833270</td>\n",
              "      <td>1</td>\n",
              "      <td>0</td>\n",
              "      <td>0.000000</td>\n",
              "      <td>8</td>\n",
              "      <td>1</td>\n",
              "      <td>16.0</td>\n",
              "      <td>5.998631</td>\n",
              "      <td>US</td>\n",
              "      <td>0</td>\n",
              "      <td>0</td>\n",
              "      <td>1</td>\n",
              "    </tr>\n",
              "  </tbody>\n",
              "</table>\n",
              "<p>11500 rows × 29 columns</p>\n",
              "</div>"
            ],
            "text/plain": [
              "       havingIP  haveAtSign  countDot  ...  iframe  Mouse_Over  Label\n",
              "0             0           0         2  ...       0           0      1\n",
              "1             0           0         2  ...       0           1      1\n",
              "2             0           0         3  ...       0           0      1\n",
              "3             0           0         3  ...       0           0      1\n",
              "4             0           0         3  ...       0           0      1\n",
              "...         ...         ...       ...  ...     ...         ...    ...\n",
              "11495         0           0         4  ...       0           0      1\n",
              "11496         0           0         1  ...       0           0      1\n",
              "11497         0           0         1  ...       1           0      1\n",
              "11498         0           0         3  ...       0           0      1\n",
              "11499         0           0         2  ...       0           0      1\n",
              "\n",
              "[11500 rows x 29 columns]"
            ]
          },
          "metadata": {},
          "execution_count": 11
        }
      ]
    }
  ]
}
